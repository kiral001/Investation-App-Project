{
  "cells": [
    {
      "cell_type": "markdown",
      "metadata": {
        "id": "3bHGVqREnFX2"
      },
      "source": [
        "# Intermediate Assignment"
      ]
    },
    {
      "cell_type": "markdown",
      "metadata": {
        "id": "WlEF4OTtewFD"
      },
      "source": [
        "## Business Background\n",
        "\n",
        "We are an Indonesian investment platform startup which currently focused on app-based mutual fund investment at the end of September 2022.\n",
        "\n",
        "Currently there are 4 types of mutual funds:\n",
        "- stocks mutual funds\n",
        "- bond mutual funds\n",
        "- money market mutual funds\n",
        "- mixed-investment mutual funds .\n",
        "\n",
        "As the Company is expanding into government bond investment products, marketing and sales team would like to run a thematic communication campaign for the upcoming product but want to tailor the campaign to a few different relevant segments.\n",
        "\n",
        "\n",
        "\n"
      ]
    },
    {
      "cell_type": "markdown",
      "metadata": {
        "id": "V_s1DDxDeKJx"
      },
      "source": [
        "Objective :\n",
        "\n",
        "- EDA\n",
        "- Do cluster analysis\n",
        "- Give recomendation about new product (Government Bond)"
      ]
    },
    {
      "cell_type": "markdown",
      "metadata": {
        "id": "ace5bmgSd5hP"
      },
      "source": [
        "#A) Data Preparation"
      ]
    },
    {
      "cell_type": "code",
      "execution_count": null,
      "metadata": {
        "id": "SKDo2HQu9iI1"
      },
      "outputs": [],
      "source": [
        "import pandas as pd\n",
        "import numpy as np\n",
        "import matplotlib.pyplot as plt\n",
        "import plotly.express as px\n",
        "import seaborn as sns\n",
        "\n",
        "from datetime import datetime\n",
        "from sklearn import cluster\n",
        "from sklearn.preprocessing import MinMaxScaler\n",
        "from sklearn.preprocessing import LabelEncoder"
      ]
    },
    {
      "cell_type": "markdown",
      "metadata": {
        "id": "PHvYWtPzno1n"
      },
      "source": [
        "### Users dataset"
      ]
    },
    {
      "cell_type": "code",
      "execution_count": null,
      "metadata": {
        "colab": {
          "base_uri": "https://localhost:8080/",
          "height": 313
        },
        "id": "U2-gs3IWO309",
        "outputId": "c086005f-5b51-4804-afa7-c6c0905c10d6"
      },
      "outputs": [
        {
          "output_type": "stream",
          "name": "stdout",
          "text": [
            "https://docs.google.com/spreadsheets/d/17n053_7FjEEhL3G8I7DITSFeIfcjgBa0fRr53x-SR2g/export?format=csv&gid=0\n"
          ]
        },
        {
          "output_type": "execute_result",
          "data": {
            "text/plain": [
              "   user_id registration_import_datetime user_gender  user_age user_occupation  \\\n",
              "0   162882          2021-09-17 14:10:44      Female        51          Swasta   \n",
              "1  3485491          2021-10-09 11:11:34      Female        55          Others   \n",
              "2  1071649          2021-10-08 01:27:30        Male        50          Swasta   \n",
              "3  3816789          2021-08-12 07:19:32      Female        53             IRT   \n",
              "4  3802293          2021-08-15 09:31:24      Female        47             PNS   \n",
              "\n",
              "          user_income_range referral_code_used user_income_source  \\\n",
              "0  > Rp 500 Juta - 1 Miliar                NaN               Gaji   \n",
              "1   > Rp 50 Juta - 100 Juta                NaN               Gaji   \n",
              "2      Rp 10 Juta - 50 Juta                NaN               Gaji   \n",
              "3   > Rp 50 Juta - 100 Juta                NaN               Gaji   \n",
              "4  > Rp 500 Juta - 1 Miliar      used referral               Gaji   \n",
              "\n",
              "   end_of_month_invested_amount  total_buy_amount  total_sell_amount  \n",
              "0                             0                 0                  0  \n",
              "1                             0                 0                  0  \n",
              "2                             0                 0                  0  \n",
              "3                        600000            100000                  0  \n",
              "4                      13500000           8500000                  0  "
            ],
            "text/html": [
              "\n",
              "  <div id=\"df-530d83b5-d561-47a1-838e-b18904086368\" class=\"colab-df-container\">\n",
              "    <div>\n",
              "<style scoped>\n",
              "    .dataframe tbody tr th:only-of-type {\n",
              "        vertical-align: middle;\n",
              "    }\n",
              "\n",
              "    .dataframe tbody tr th {\n",
              "        vertical-align: top;\n",
              "    }\n",
              "\n",
              "    .dataframe thead th {\n",
              "        text-align: right;\n",
              "    }\n",
              "</style>\n",
              "<table border=\"1\" class=\"dataframe\">\n",
              "  <thead>\n",
              "    <tr style=\"text-align: right;\">\n",
              "      <th></th>\n",
              "      <th>user_id</th>\n",
              "      <th>registration_import_datetime</th>\n",
              "      <th>user_gender</th>\n",
              "      <th>user_age</th>\n",
              "      <th>user_occupation</th>\n",
              "      <th>user_income_range</th>\n",
              "      <th>referral_code_used</th>\n",
              "      <th>user_income_source</th>\n",
              "      <th>end_of_month_invested_amount</th>\n",
              "      <th>total_buy_amount</th>\n",
              "      <th>total_sell_amount</th>\n",
              "    </tr>\n",
              "  </thead>\n",
              "  <tbody>\n",
              "    <tr>\n",
              "      <th>0</th>\n",
              "      <td>162882</td>\n",
              "      <td>2021-09-17 14:10:44</td>\n",
              "      <td>Female</td>\n",
              "      <td>51</td>\n",
              "      <td>Swasta</td>\n",
              "      <td>&gt; Rp 500 Juta - 1 Miliar</td>\n",
              "      <td>NaN</td>\n",
              "      <td>Gaji</td>\n",
              "      <td>0</td>\n",
              "      <td>0</td>\n",
              "      <td>0</td>\n",
              "    </tr>\n",
              "    <tr>\n",
              "      <th>1</th>\n",
              "      <td>3485491</td>\n",
              "      <td>2021-10-09 11:11:34</td>\n",
              "      <td>Female</td>\n",
              "      <td>55</td>\n",
              "      <td>Others</td>\n",
              "      <td>&gt; Rp 50 Juta - 100 Juta</td>\n",
              "      <td>NaN</td>\n",
              "      <td>Gaji</td>\n",
              "      <td>0</td>\n",
              "      <td>0</td>\n",
              "      <td>0</td>\n",
              "    </tr>\n",
              "    <tr>\n",
              "      <th>2</th>\n",
              "      <td>1071649</td>\n",
              "      <td>2021-10-08 01:27:30</td>\n",
              "      <td>Male</td>\n",
              "      <td>50</td>\n",
              "      <td>Swasta</td>\n",
              "      <td>Rp 10 Juta - 50 Juta</td>\n",
              "      <td>NaN</td>\n",
              "      <td>Gaji</td>\n",
              "      <td>0</td>\n",
              "      <td>0</td>\n",
              "      <td>0</td>\n",
              "    </tr>\n",
              "    <tr>\n",
              "      <th>3</th>\n",
              "      <td>3816789</td>\n",
              "      <td>2021-08-12 07:19:32</td>\n",
              "      <td>Female</td>\n",
              "      <td>53</td>\n",
              "      <td>IRT</td>\n",
              "      <td>&gt; Rp 50 Juta - 100 Juta</td>\n",
              "      <td>NaN</td>\n",
              "      <td>Gaji</td>\n",
              "      <td>600000</td>\n",
              "      <td>100000</td>\n",
              "      <td>0</td>\n",
              "    </tr>\n",
              "    <tr>\n",
              "      <th>4</th>\n",
              "      <td>3802293</td>\n",
              "      <td>2021-08-15 09:31:24</td>\n",
              "      <td>Female</td>\n",
              "      <td>47</td>\n",
              "      <td>PNS</td>\n",
              "      <td>&gt; Rp 500 Juta - 1 Miliar</td>\n",
              "      <td>used referral</td>\n",
              "      <td>Gaji</td>\n",
              "      <td>13500000</td>\n",
              "      <td>8500000</td>\n",
              "      <td>0</td>\n",
              "    </tr>\n",
              "  </tbody>\n",
              "</table>\n",
              "</div>\n",
              "    <div class=\"colab-df-buttons\">\n",
              "\n",
              "  <div class=\"colab-df-container\">\n",
              "    <button class=\"colab-df-convert\" onclick=\"convertToInteractive('df-530d83b5-d561-47a1-838e-b18904086368')\"\n",
              "            title=\"Convert this dataframe to an interactive table.\"\n",
              "            style=\"display:none;\">\n",
              "\n",
              "  <svg xmlns=\"http://www.w3.org/2000/svg\" height=\"24px\" viewBox=\"0 -960 960 960\">\n",
              "    <path d=\"M120-120v-720h720v720H120Zm60-500h600v-160H180v160Zm220 220h160v-160H400v160Zm0 220h160v-160H400v160ZM180-400h160v-160H180v160Zm440 0h160v-160H620v160ZM180-180h160v-160H180v160Zm440 0h160v-160H620v160Z\"/>\n",
              "  </svg>\n",
              "    </button>\n",
              "\n",
              "  <style>\n",
              "    .colab-df-container {\n",
              "      display:flex;\n",
              "      gap: 12px;\n",
              "    }\n",
              "\n",
              "    .colab-df-convert {\n",
              "      background-color: #E8F0FE;\n",
              "      border: none;\n",
              "      border-radius: 50%;\n",
              "      cursor: pointer;\n",
              "      display: none;\n",
              "      fill: #1967D2;\n",
              "      height: 32px;\n",
              "      padding: 0 0 0 0;\n",
              "      width: 32px;\n",
              "    }\n",
              "\n",
              "    .colab-df-convert:hover {\n",
              "      background-color: #E2EBFA;\n",
              "      box-shadow: 0px 1px 2px rgba(60, 64, 67, 0.3), 0px 1px 3px 1px rgba(60, 64, 67, 0.15);\n",
              "      fill: #174EA6;\n",
              "    }\n",
              "\n",
              "    .colab-df-buttons div {\n",
              "      margin-bottom: 4px;\n",
              "    }\n",
              "\n",
              "    [theme=dark] .colab-df-convert {\n",
              "      background-color: #3B4455;\n",
              "      fill: #D2E3FC;\n",
              "    }\n",
              "\n",
              "    [theme=dark] .colab-df-convert:hover {\n",
              "      background-color: #434B5C;\n",
              "      box-shadow: 0px 1px 3px 1px rgba(0, 0, 0, 0.15);\n",
              "      filter: drop-shadow(0px 1px 2px rgba(0, 0, 0, 0.3));\n",
              "      fill: #FFFFFF;\n",
              "    }\n",
              "  </style>\n",
              "\n",
              "    <script>\n",
              "      const buttonEl =\n",
              "        document.querySelector('#df-530d83b5-d561-47a1-838e-b18904086368 button.colab-df-convert');\n",
              "      buttonEl.style.display =\n",
              "        google.colab.kernel.accessAllowed ? 'block' : 'none';\n",
              "\n",
              "      async function convertToInteractive(key) {\n",
              "        const element = document.querySelector('#df-530d83b5-d561-47a1-838e-b18904086368');\n",
              "        const dataTable =\n",
              "          await google.colab.kernel.invokeFunction('convertToInteractive',\n",
              "                                                    [key], {});\n",
              "        if (!dataTable) return;\n",
              "\n",
              "        const docLinkHtml = 'Like what you see? Visit the ' +\n",
              "          '<a target=\"_blank\" href=https://colab.research.google.com/notebooks/data_table.ipynb>data table notebook</a>'\n",
              "          + ' to learn more about interactive tables.';\n",
              "        element.innerHTML = '';\n",
              "        dataTable['output_type'] = 'display_data';\n",
              "        await google.colab.output.renderOutput(dataTable, element);\n",
              "        const docLink = document.createElement('div');\n",
              "        docLink.innerHTML = docLinkHtml;\n",
              "        element.appendChild(docLink);\n",
              "      }\n",
              "    </script>\n",
              "  </div>\n",
              "\n",
              "\n",
              "<div id=\"df-66b18e38-61c3-49bb-a461-dad4ce1b93b9\">\n",
              "  <button class=\"colab-df-quickchart\" onclick=\"quickchart('df-66b18e38-61c3-49bb-a461-dad4ce1b93b9')\"\n",
              "            title=\"Suggest charts\"\n",
              "            style=\"display:none;\">\n",
              "\n",
              "<svg xmlns=\"http://www.w3.org/2000/svg\" height=\"24px\"viewBox=\"0 0 24 24\"\n",
              "     width=\"24px\">\n",
              "    <g>\n",
              "        <path d=\"M19 3H5c-1.1 0-2 .9-2 2v14c0 1.1.9 2 2 2h14c1.1 0 2-.9 2-2V5c0-1.1-.9-2-2-2zM9 17H7v-7h2v7zm4 0h-2V7h2v10zm4 0h-2v-4h2v4z\"/>\n",
              "    </g>\n",
              "</svg>\n",
              "  </button>\n",
              "\n",
              "<style>\n",
              "  .colab-df-quickchart {\n",
              "      --bg-color: #E8F0FE;\n",
              "      --fill-color: #1967D2;\n",
              "      --hover-bg-color: #E2EBFA;\n",
              "      --hover-fill-color: #174EA6;\n",
              "      --disabled-fill-color: #AAA;\n",
              "      --disabled-bg-color: #DDD;\n",
              "  }\n",
              "\n",
              "  [theme=dark] .colab-df-quickchart {\n",
              "      --bg-color: #3B4455;\n",
              "      --fill-color: #D2E3FC;\n",
              "      --hover-bg-color: #434B5C;\n",
              "      --hover-fill-color: #FFFFFF;\n",
              "      --disabled-bg-color: #3B4455;\n",
              "      --disabled-fill-color: #666;\n",
              "  }\n",
              "\n",
              "  .colab-df-quickchart {\n",
              "    background-color: var(--bg-color);\n",
              "    border: none;\n",
              "    border-radius: 50%;\n",
              "    cursor: pointer;\n",
              "    display: none;\n",
              "    fill: var(--fill-color);\n",
              "    height: 32px;\n",
              "    padding: 0;\n",
              "    width: 32px;\n",
              "  }\n",
              "\n",
              "  .colab-df-quickchart:hover {\n",
              "    background-color: var(--hover-bg-color);\n",
              "    box-shadow: 0 1px 2px rgba(60, 64, 67, 0.3), 0 1px 3px 1px rgba(60, 64, 67, 0.15);\n",
              "    fill: var(--button-hover-fill-color);\n",
              "  }\n",
              "\n",
              "  .colab-df-quickchart-complete:disabled,\n",
              "  .colab-df-quickchart-complete:disabled:hover {\n",
              "    background-color: var(--disabled-bg-color);\n",
              "    fill: var(--disabled-fill-color);\n",
              "    box-shadow: none;\n",
              "  }\n",
              "\n",
              "  .colab-df-spinner {\n",
              "    border: 2px solid var(--fill-color);\n",
              "    border-color: transparent;\n",
              "    border-bottom-color: var(--fill-color);\n",
              "    animation:\n",
              "      spin 1s steps(1) infinite;\n",
              "  }\n",
              "\n",
              "  @keyframes spin {\n",
              "    0% {\n",
              "      border-color: transparent;\n",
              "      border-bottom-color: var(--fill-color);\n",
              "      border-left-color: var(--fill-color);\n",
              "    }\n",
              "    20% {\n",
              "      border-color: transparent;\n",
              "      border-left-color: var(--fill-color);\n",
              "      border-top-color: var(--fill-color);\n",
              "    }\n",
              "    30% {\n",
              "      border-color: transparent;\n",
              "      border-left-color: var(--fill-color);\n",
              "      border-top-color: var(--fill-color);\n",
              "      border-right-color: var(--fill-color);\n",
              "    }\n",
              "    40% {\n",
              "      border-color: transparent;\n",
              "      border-right-color: var(--fill-color);\n",
              "      border-top-color: var(--fill-color);\n",
              "    }\n",
              "    60% {\n",
              "      border-color: transparent;\n",
              "      border-right-color: var(--fill-color);\n",
              "    }\n",
              "    80% {\n",
              "      border-color: transparent;\n",
              "      border-right-color: var(--fill-color);\n",
              "      border-bottom-color: var(--fill-color);\n",
              "    }\n",
              "    90% {\n",
              "      border-color: transparent;\n",
              "      border-bottom-color: var(--fill-color);\n",
              "    }\n",
              "  }\n",
              "</style>\n",
              "\n",
              "  <script>\n",
              "    async function quickchart(key) {\n",
              "      const quickchartButtonEl =\n",
              "        document.querySelector('#' + key + ' button');\n",
              "      quickchartButtonEl.disabled = true;  // To prevent multiple clicks.\n",
              "      quickchartButtonEl.classList.add('colab-df-spinner');\n",
              "      try {\n",
              "        const charts = await google.colab.kernel.invokeFunction(\n",
              "            'suggestCharts', [key], {});\n",
              "      } catch (error) {\n",
              "        console.error('Error during call to suggestCharts:', error);\n",
              "      }\n",
              "      quickchartButtonEl.classList.remove('colab-df-spinner');\n",
              "      quickchartButtonEl.classList.add('colab-df-quickchart-complete');\n",
              "    }\n",
              "    (() => {\n",
              "      let quickchartButtonEl =\n",
              "        document.querySelector('#df-66b18e38-61c3-49bb-a461-dad4ce1b93b9 button');\n",
              "      quickchartButtonEl.style.display =\n",
              "        google.colab.kernel.accessAllowed ? 'block' : 'none';\n",
              "    })();\n",
              "  </script>\n",
              "</div>\n",
              "\n",
              "    </div>\n",
              "  </div>\n"
            ],
            "application/vnd.google.colaboratory.intrinsic+json": {
              "type": "dataframe",
              "variable_name": "user",
              "summary": "{\n  \"name\": \"user\",\n  \"rows\": 14712,\n  \"fields\": [\n    {\n      \"column\": \"user_id\",\n      \"properties\": {\n        \"dtype\": \"number\",\n        \"std\": 801024,\n        \"min\": 43195,\n        \"max\": 4457700,\n        \"num_unique_values\": 14712,\n        \"samples\": [\n          4338153,\n          4248947,\n          3971397\n        ],\n        \"semantic_type\": \"\",\n        \"description\": \"\"\n      }\n    },\n    {\n      \"column\": \"registration_import_datetime\",\n      \"properties\": {\n        \"dtype\": \"object\",\n        \"num_unique_values\": 11536,\n        \"samples\": [\n          \"2021-09-13 13:36:40\",\n          \"2021-09-20 20:43:29\",\n          \"2021-09-12 18:02:44\"\n        ],\n        \"semantic_type\": \"\",\n        \"description\": \"\"\n      }\n    },\n    {\n      \"column\": \"user_gender\",\n      \"properties\": {\n        \"dtype\": \"category\",\n        \"num_unique_values\": 2,\n        \"samples\": [\n          \"Male\",\n          \"Female\"\n        ],\n        \"semantic_type\": \"\",\n        \"description\": \"\"\n      }\n    },\n    {\n      \"column\": \"user_age\",\n      \"properties\": {\n        \"dtype\": \"number\",\n        \"std\": 8,\n        \"min\": 17,\n        \"max\": 83,\n        \"num_unique_values\": 58,\n        \"samples\": [\n          51,\n          56\n        ],\n        \"semantic_type\": \"\",\n        \"description\": \"\"\n      }\n    },\n    {\n      \"column\": \"user_occupation\",\n      \"properties\": {\n        \"dtype\": \"category\",\n        \"num_unique_values\": 9,\n        \"samples\": [\n          \"Guru\",\n          \"Others\"\n        ],\n        \"semantic_type\": \"\",\n        \"description\": \"\"\n      }\n    },\n    {\n      \"column\": \"user_income_range\",\n      \"properties\": {\n        \"dtype\": \"category\",\n        \"num_unique_values\": 6,\n        \"samples\": [\n          \"> Rp 500 Juta - 1 Miliar\",\n          \"> Rp 50 Juta - 100 Juta\"\n        ],\n        \"semantic_type\": \"\",\n        \"description\": \"\"\n      }\n    },\n    {\n      \"column\": \"referral_code_used\",\n      \"properties\": {\n        \"dtype\": \"category\",\n        \"num_unique_values\": 1,\n        \"samples\": [\n          \"used referral\"\n        ],\n        \"semantic_type\": \"\",\n        \"description\": \"\"\n      }\n    },\n    {\n      \"column\": \"user_income_source\",\n      \"properties\": {\n        \"dtype\": \"category\",\n        \"num_unique_values\": 10,\n        \"samples\": [\n          \"Dari Suami / istri\"\n        ],\n        \"semantic_type\": \"\",\n        \"description\": \"\"\n      }\n    },\n    {\n      \"column\": \"end_of_month_invested_amount\",\n      \"properties\": {\n        \"dtype\": \"number\",\n        \"std\": 19073876,\n        \"min\": 0,\n        \"max\": 1012200000,\n        \"num_unique_values\": 1042,\n        \"samples\": [\n          2630000\n        ],\n        \"semantic_type\": \"\",\n        \"description\": \"\"\n      }\n    },\n    {\n      \"column\": \"total_buy_amount\",\n      \"properties\": {\n        \"dtype\": \"number\",\n        \"std\": 12897431,\n        \"min\": 0,\n        \"max\": 799500000,\n        \"num_unique_values\": 824,\n        \"samples\": [\n          1025998\n        ],\n        \"semantic_type\": \"\",\n        \"description\": \"\"\n      }\n    },\n    {\n      \"column\": \"total_sell_amount\",\n      \"properties\": {\n        \"dtype\": \"number\",\n        \"std\": 2716128,\n        \"min\": -185000000,\n        \"max\": 0,\n        \"num_unique_values\": 548,\n        \"samples\": [\n          -88879\n        ],\n        \"semantic_type\": \"\",\n        \"description\": \"\"\n      }\n    }\n  ]\n}"
            }
          },
          "metadata": {},
          "execution_count": 2
        }
      ],
      "source": [
        "#Import dataset from spreadsheet\n",
        "user_url = 'https://docs.google.com/spreadsheets/d/17n053_7FjEEhL3G8I7DITSFeIfcjgBa0fRr53x-SR2g/edit#gid=0'\n",
        "user_url_replace = user_url.replace('/edit#gid=', '/export?format=csv&gid=') #to convert the spreadsheet format into csv\n",
        "\n",
        "#Load Users Dataset URL\n",
        "print(user_url_replace) #To show the link to csv\n",
        "user = pd.read_csv(user_url_replace) #to load/read the csv into pandas dataframe\n",
        "\n",
        "#Show only first 5 rows\n",
        "user.head()"
      ]
    },
    {
      "cell_type": "markdown",
      "metadata": {
        "id": "VFdON3gQR_tr"
      },
      "source": [
        "![image.png](data:image/png;base64,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)"
      ]
    },
    {
      "cell_type": "markdown",
      "metadata": {
        "id": "2Pz5fE2unt84"
      },
      "source": [
        "### Daily User Transaction dataset"
      ]
    },
    {
      "cell_type": "code",
      "execution_count": null,
      "metadata": {
        "colab": {
          "base_uri": "https://localhost:8080/",
          "height": 330
        },
        "id": "ApcqJZszO33w",
        "outputId": "ca621a04-489e-4145-f9d1-7f92a9d40a43"
      },
      "outputs": [
        {
          "output_type": "stream",
          "name": "stdout",
          "text": [
            "https://docs.google.com/spreadsheets/d/1b3DAli5xsR39nNL06IGvzhbEdOJkcvxpLKvhWUf9tYc/export?format=csv&gid=0\n"
          ]
        },
        {
          "output_type": "execute_result",
          "data": {
            "text/plain": [
              "   user_id        date  buy_saham_transaction_amount  \\\n",
              "0    50701  2021-08-30                           NaN   \n",
              "1    50701  2021-08-31                           NaN   \n",
              "2    50701  2021-09-01                           NaN   \n",
              "3    50701  2021-09-02                           NaN   \n",
              "4    50701  2021-09-03                           NaN   \n",
              "\n",
              "   sell_saham_transaction_amount  buy_pasar_uang_transaction_amount  \\\n",
              "0                            NaN                                NaN   \n",
              "1                            NaN                                NaN   \n",
              "2                            NaN                                NaN   \n",
              "3                            NaN                                NaN   \n",
              "4                            NaN                                NaN   \n",
              "\n",
              "   sell_pasar_uang_transaction_amount  \\\n",
              "0                                 NaN   \n",
              "1                                 NaN   \n",
              "2                                 NaN   \n",
              "3                                 NaN   \n",
              "4                                 NaN   \n",
              "\n",
              "   buy_pendapatan_tetap_transaction_amount  \\\n",
              "0                                      NaN   \n",
              "1                                      NaN   \n",
              "2                                      NaN   \n",
              "3                                      NaN   \n",
              "4                                      NaN   \n",
              "\n",
              "   sell_pendapatan_tetap_transaction_amount  buy_campuran_transaction_amount  \\\n",
              "0                                       NaN                              0.0   \n",
              "1                                       NaN                              0.0   \n",
              "2                                       NaN                              0.0   \n",
              "3                                       NaN                              0.0   \n",
              "4                                       NaN                              0.0   \n",
              "\n",
              "   sell_campuran_transaction_amount  total_buy_transaction_amount  \\\n",
              "0                               NaN                             0   \n",
              "1                               NaN                             0   \n",
              "2                               NaN                             0   \n",
              "3                               NaN                             0   \n",
              "4                               NaN                             0   \n",
              "\n",
              "   total_sell_transaction_amount  saham_invested_amount  \\\n",
              "0                              0                    NaN   \n",
              "1                              0                    NaN   \n",
              "2                              0                    NaN   \n",
              "3                              0                    NaN   \n",
              "4                              0                    NaN   \n",
              "\n",
              "   pasar_uang_invested_amount  pendapatan_tetap_invested_amount  \\\n",
              "0                         NaN                               NaN   \n",
              "1                         NaN                               NaN   \n",
              "2                         NaN                               NaN   \n",
              "3                         NaN                               NaN   \n",
              "4                         NaN                               NaN   \n",
              "\n",
              "   campuran_invested_amount  total_invested_amount  \n",
              "0                10000000.0               10000000  \n",
              "1                10000000.0               10000000  \n",
              "2                10000000.0               10000000  \n",
              "3                10000000.0               10000000  \n",
              "4                10000000.0               10000000  "
            ],
            "text/html": [
              "\n",
              "  <div id=\"df-01f8bf3a-e920-44b4-820c-07c101637c4b\" class=\"colab-df-container\">\n",
              "    <div>\n",
              "<style scoped>\n",
              "    .dataframe tbody tr th:only-of-type {\n",
              "        vertical-align: middle;\n",
              "    }\n",
              "\n",
              "    .dataframe tbody tr th {\n",
              "        vertical-align: top;\n",
              "    }\n",
              "\n",
              "    .dataframe thead th {\n",
              "        text-align: right;\n",
              "    }\n",
              "</style>\n",
              "<table border=\"1\" class=\"dataframe\">\n",
              "  <thead>\n",
              "    <tr style=\"text-align: right;\">\n",
              "      <th></th>\n",
              "      <th>user_id</th>\n",
              "      <th>date</th>\n",
              "      <th>buy_saham_transaction_amount</th>\n",
              "      <th>sell_saham_transaction_amount</th>\n",
              "      <th>buy_pasar_uang_transaction_amount</th>\n",
              "      <th>sell_pasar_uang_transaction_amount</th>\n",
              "      <th>buy_pendapatan_tetap_transaction_amount</th>\n",
              "      <th>sell_pendapatan_tetap_transaction_amount</th>\n",
              "      <th>buy_campuran_transaction_amount</th>\n",
              "      <th>sell_campuran_transaction_amount</th>\n",
              "      <th>total_buy_transaction_amount</th>\n",
              "      <th>total_sell_transaction_amount</th>\n",
              "      <th>saham_invested_amount</th>\n",
              "      <th>pasar_uang_invested_amount</th>\n",
              "      <th>pendapatan_tetap_invested_amount</th>\n",
              "      <th>campuran_invested_amount</th>\n",
              "      <th>total_invested_amount</th>\n",
              "    </tr>\n",
              "  </thead>\n",
              "  <tbody>\n",
              "    <tr>\n",
              "      <th>0</th>\n",
              "      <td>50701</td>\n",
              "      <td>2021-08-30</td>\n",
              "      <td>NaN</td>\n",
              "      <td>NaN</td>\n",
              "      <td>NaN</td>\n",
              "      <td>NaN</td>\n",
              "      <td>NaN</td>\n",
              "      <td>NaN</td>\n",
              "      <td>0.0</td>\n",
              "      <td>NaN</td>\n",
              "      <td>0</td>\n",
              "      <td>0</td>\n",
              "      <td>NaN</td>\n",
              "      <td>NaN</td>\n",
              "      <td>NaN</td>\n",
              "      <td>10000000.0</td>\n",
              "      <td>10000000</td>\n",
              "    </tr>\n",
              "    <tr>\n",
              "      <th>1</th>\n",
              "      <td>50701</td>\n",
              "      <td>2021-08-31</td>\n",
              "      <td>NaN</td>\n",
              "      <td>NaN</td>\n",
              "      <td>NaN</td>\n",
              "      <td>NaN</td>\n",
              "      <td>NaN</td>\n",
              "      <td>NaN</td>\n",
              "      <td>0.0</td>\n",
              "      <td>NaN</td>\n",
              "      <td>0</td>\n",
              "      <td>0</td>\n",
              "      <td>NaN</td>\n",
              "      <td>NaN</td>\n",
              "      <td>NaN</td>\n",
              "      <td>10000000.0</td>\n",
              "      <td>10000000</td>\n",
              "    </tr>\n",
              "    <tr>\n",
              "      <th>2</th>\n",
              "      <td>50701</td>\n",
              "      <td>2021-09-01</td>\n",
              "      <td>NaN</td>\n",
              "      <td>NaN</td>\n",
              "      <td>NaN</td>\n",
              "      <td>NaN</td>\n",
              "      <td>NaN</td>\n",
              "      <td>NaN</td>\n",
              "      <td>0.0</td>\n",
              "      <td>NaN</td>\n",
              "      <td>0</td>\n",
              "      <td>0</td>\n",
              "      <td>NaN</td>\n",
              "      <td>NaN</td>\n",
              "      <td>NaN</td>\n",
              "      <td>10000000.0</td>\n",
              "      <td>10000000</td>\n",
              "    </tr>\n",
              "    <tr>\n",
              "      <th>3</th>\n",
              "      <td>50701</td>\n",
              "      <td>2021-09-02</td>\n",
              "      <td>NaN</td>\n",
              "      <td>NaN</td>\n",
              "      <td>NaN</td>\n",
              "      <td>NaN</td>\n",
              "      <td>NaN</td>\n",
              "      <td>NaN</td>\n",
              "      <td>0.0</td>\n",
              "      <td>NaN</td>\n",
              "      <td>0</td>\n",
              "      <td>0</td>\n",
              "      <td>NaN</td>\n",
              "      <td>NaN</td>\n",
              "      <td>NaN</td>\n",
              "      <td>10000000.0</td>\n",
              "      <td>10000000</td>\n",
              "    </tr>\n",
              "    <tr>\n",
              "      <th>4</th>\n",
              "      <td>50701</td>\n",
              "      <td>2021-09-03</td>\n",
              "      <td>NaN</td>\n",
              "      <td>NaN</td>\n",
              "      <td>NaN</td>\n",
              "      <td>NaN</td>\n",
              "      <td>NaN</td>\n",
              "      <td>NaN</td>\n",
              "      <td>0.0</td>\n",
              "      <td>NaN</td>\n",
              "      <td>0</td>\n",
              "      <td>0</td>\n",
              "      <td>NaN</td>\n",
              "      <td>NaN</td>\n",
              "      <td>NaN</td>\n",
              "      <td>10000000.0</td>\n",
              "      <td>10000000</td>\n",
              "    </tr>\n",
              "  </tbody>\n",
              "</table>\n",
              "</div>\n",
              "    <div class=\"colab-df-buttons\">\n",
              "\n",
              "  <div class=\"colab-df-container\">\n",
              "    <button class=\"colab-df-convert\" onclick=\"convertToInteractive('df-01f8bf3a-e920-44b4-820c-07c101637c4b')\"\n",
              "            title=\"Convert this dataframe to an interactive table.\"\n",
              "            style=\"display:none;\">\n",
              "\n",
              "  <svg xmlns=\"http://www.w3.org/2000/svg\" height=\"24px\" viewBox=\"0 -960 960 960\">\n",
              "    <path d=\"M120-120v-720h720v720H120Zm60-500h600v-160H180v160Zm220 220h160v-160H400v160Zm0 220h160v-160H400v160ZM180-400h160v-160H180v160Zm440 0h160v-160H620v160ZM180-180h160v-160H180v160Zm440 0h160v-160H620v160Z\"/>\n",
              "  </svg>\n",
              "    </button>\n",
              "\n",
              "  <style>\n",
              "    .colab-df-container {\n",
              "      display:flex;\n",
              "      gap: 12px;\n",
              "    }\n",
              "\n",
              "    .colab-df-convert {\n",
              "      background-color: #E8F0FE;\n",
              "      border: none;\n",
              "      border-radius: 50%;\n",
              "      cursor: pointer;\n",
              "      display: none;\n",
              "      fill: #1967D2;\n",
              "      height: 32px;\n",
              "      padding: 0 0 0 0;\n",
              "      width: 32px;\n",
              "    }\n",
              "\n",
              "    .colab-df-convert:hover {\n",
              "      background-color: #E2EBFA;\n",
              "      box-shadow: 0px 1px 2px rgba(60, 64, 67, 0.3), 0px 1px 3px 1px rgba(60, 64, 67, 0.15);\n",
              "      fill: #174EA6;\n",
              "    }\n",
              "\n",
              "    .colab-df-buttons div {\n",
              "      margin-bottom: 4px;\n",
              "    }\n",
              "\n",
              "    [theme=dark] .colab-df-convert {\n",
              "      background-color: #3B4455;\n",
              "      fill: #D2E3FC;\n",
              "    }\n",
              "\n",
              "    [theme=dark] .colab-df-convert:hover {\n",
              "      background-color: #434B5C;\n",
              "      box-shadow: 0px 1px 3px 1px rgba(0, 0, 0, 0.15);\n",
              "      filter: drop-shadow(0px 1px 2px rgba(0, 0, 0, 0.3));\n",
              "      fill: #FFFFFF;\n",
              "    }\n",
              "  </style>\n",
              "\n",
              "    <script>\n",
              "      const buttonEl =\n",
              "        document.querySelector('#df-01f8bf3a-e920-44b4-820c-07c101637c4b button.colab-df-convert');\n",
              "      buttonEl.style.display =\n",
              "        google.colab.kernel.accessAllowed ? 'block' : 'none';\n",
              "\n",
              "      async function convertToInteractive(key) {\n",
              "        const element = document.querySelector('#df-01f8bf3a-e920-44b4-820c-07c101637c4b');\n",
              "        const dataTable =\n",
              "          await google.colab.kernel.invokeFunction('convertToInteractive',\n",
              "                                                    [key], {});\n",
              "        if (!dataTable) return;\n",
              "\n",
              "        const docLinkHtml = 'Like what you see? Visit the ' +\n",
              "          '<a target=\"_blank\" href=https://colab.research.google.com/notebooks/data_table.ipynb>data table notebook</a>'\n",
              "          + ' to learn more about interactive tables.';\n",
              "        element.innerHTML = '';\n",
              "        dataTable['output_type'] = 'display_data';\n",
              "        await google.colab.output.renderOutput(dataTable, element);\n",
              "        const docLink = document.createElement('div');\n",
              "        docLink.innerHTML = docLinkHtml;\n",
              "        element.appendChild(docLink);\n",
              "      }\n",
              "    </script>\n",
              "  </div>\n",
              "\n",
              "\n",
              "<div id=\"df-d3c501ec-e39f-4a3c-ad21-6318c57435eb\">\n",
              "  <button class=\"colab-df-quickchart\" onclick=\"quickchart('df-d3c501ec-e39f-4a3c-ad21-6318c57435eb')\"\n",
              "            title=\"Suggest charts\"\n",
              "            style=\"display:none;\">\n",
              "\n",
              "<svg xmlns=\"http://www.w3.org/2000/svg\" height=\"24px\"viewBox=\"0 0 24 24\"\n",
              "     width=\"24px\">\n",
              "    <g>\n",
              "        <path d=\"M19 3H5c-1.1 0-2 .9-2 2v14c0 1.1.9 2 2 2h14c1.1 0 2-.9 2-2V5c0-1.1-.9-2-2-2zM9 17H7v-7h2v7zm4 0h-2V7h2v10zm4 0h-2v-4h2v4z\"/>\n",
              "    </g>\n",
              "</svg>\n",
              "  </button>\n",
              "\n",
              "<style>\n",
              "  .colab-df-quickchart {\n",
              "      --bg-color: #E8F0FE;\n",
              "      --fill-color: #1967D2;\n",
              "      --hover-bg-color: #E2EBFA;\n",
              "      --hover-fill-color: #174EA6;\n",
              "      --disabled-fill-color: #AAA;\n",
              "      --disabled-bg-color: #DDD;\n",
              "  }\n",
              "\n",
              "  [theme=dark] .colab-df-quickchart {\n",
              "      --bg-color: #3B4455;\n",
              "      --fill-color: #D2E3FC;\n",
              "      --hover-bg-color: #434B5C;\n",
              "      --hover-fill-color: #FFFFFF;\n",
              "      --disabled-bg-color: #3B4455;\n",
              "      --disabled-fill-color: #666;\n",
              "  }\n",
              "\n",
              "  .colab-df-quickchart {\n",
              "    background-color: var(--bg-color);\n",
              "    border: none;\n",
              "    border-radius: 50%;\n",
              "    cursor: pointer;\n",
              "    display: none;\n",
              "    fill: var(--fill-color);\n",
              "    height: 32px;\n",
              "    padding: 0;\n",
              "    width: 32px;\n",
              "  }\n",
              "\n",
              "  .colab-df-quickchart:hover {\n",
              "    background-color: var(--hover-bg-color);\n",
              "    box-shadow: 0 1px 2px rgba(60, 64, 67, 0.3), 0 1px 3px 1px rgba(60, 64, 67, 0.15);\n",
              "    fill: var(--button-hover-fill-color);\n",
              "  }\n",
              "\n",
              "  .colab-df-quickchart-complete:disabled,\n",
              "  .colab-df-quickchart-complete:disabled:hover {\n",
              "    background-color: var(--disabled-bg-color);\n",
              "    fill: var(--disabled-fill-color);\n",
              "    box-shadow: none;\n",
              "  }\n",
              "\n",
              "  .colab-df-spinner {\n",
              "    border: 2px solid var(--fill-color);\n",
              "    border-color: transparent;\n",
              "    border-bottom-color: var(--fill-color);\n",
              "    animation:\n",
              "      spin 1s steps(1) infinite;\n",
              "  }\n",
              "\n",
              "  @keyframes spin {\n",
              "    0% {\n",
              "      border-color: transparent;\n",
              "      border-bottom-color: var(--fill-color);\n",
              "      border-left-color: var(--fill-color);\n",
              "    }\n",
              "    20% {\n",
              "      border-color: transparent;\n",
              "      border-left-color: var(--fill-color);\n",
              "      border-top-color: var(--fill-color);\n",
              "    }\n",
              "    30% {\n",
              "      border-color: transparent;\n",
              "      border-left-color: var(--fill-color);\n",
              "      border-top-color: var(--fill-color);\n",
              "      border-right-color: var(--fill-color);\n",
              "    }\n",
              "    40% {\n",
              "      border-color: transparent;\n",
              "      border-right-color: var(--fill-color);\n",
              "      border-top-color: var(--fill-color);\n",
              "    }\n",
              "    60% {\n",
              "      border-color: transparent;\n",
              "      border-right-color: var(--fill-color);\n",
              "    }\n",
              "    80% {\n",
              "      border-color: transparent;\n",
              "      border-right-color: var(--fill-color);\n",
              "      border-bottom-color: var(--fill-color);\n",
              "    }\n",
              "    90% {\n",
              "      border-color: transparent;\n",
              "      border-bottom-color: var(--fill-color);\n",
              "    }\n",
              "  }\n",
              "</style>\n",
              "\n",
              "  <script>\n",
              "    async function quickchart(key) {\n",
              "      const quickchartButtonEl =\n",
              "        document.querySelector('#' + key + ' button');\n",
              "      quickchartButtonEl.disabled = true;  // To prevent multiple clicks.\n",
              "      quickchartButtonEl.classList.add('colab-df-spinner');\n",
              "      try {\n",
              "        const charts = await google.colab.kernel.invokeFunction(\n",
              "            'suggestCharts', [key], {});\n",
              "      } catch (error) {\n",
              "        console.error('Error during call to suggestCharts:', error);\n",
              "      }\n",
              "      quickchartButtonEl.classList.remove('colab-df-spinner');\n",
              "      quickchartButtonEl.classList.add('colab-df-quickchart-complete');\n",
              "    }\n",
              "    (() => {\n",
              "      let quickchartButtonEl =\n",
              "        document.querySelector('#df-d3c501ec-e39f-4a3c-ad21-6318c57435eb button');\n",
              "      quickchartButtonEl.style.display =\n",
              "        google.colab.kernel.accessAllowed ? 'block' : 'none';\n",
              "    })();\n",
              "  </script>\n",
              "</div>\n",
              "\n",
              "    </div>\n",
              "  </div>\n"
            ],
            "application/vnd.google.colaboratory.intrinsic+json": {
              "type": "dataframe",
              "variable_name": "transaction"
            }
          },
          "metadata": {},
          "execution_count": 3
        }
      ],
      "source": [
        "#Import dataset from spreadsheet\n",
        "user_url = 'https://docs.google.com/spreadsheets/d/1b3DAli5xsR39nNL06IGvzhbEdOJkcvxpLKvhWUf9tYc/edit#gid=0'\n",
        "user_url_replace = user_url.replace('/edit#gid=', '/export?format=csv&gid=') #to convert the spreadsheet format into csv\n",
        "\n",
        "#Load Users Dataset URL\n",
        "print(user_url_replace) #To show the link to csv\n",
        "transaction = pd.read_csv(user_url_replace) #to load/read the csv into pandas dataframe\n",
        "\n",
        "#Show only first 5 rows\n",
        "transaction.head(5)"
      ]
    },
    {
      "cell_type": "markdown",
      "metadata": {
        "id": "i-VS9nKhS1Xt"
      },
      "source": [
        "![image.png](data:image/png;base64,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)"
      ]
    },
    {
      "cell_type": "markdown",
      "metadata": {
        "id": "fdecY23gS_ov"
      },
      "source": [
        "#B) Data Cleaning"
      ]
    },
    {
      "cell_type": "markdown",
      "metadata": {
        "id": "Zc2Y2egeMPBR"
      },
      "source": [
        "Steps to do :\n",
        "\n",
        "- Unique Values (Remove irrelevant values)\n",
        "- Treating missing values (state the reasoning)\n",
        "- Outliers (in loan_amount & annual_income using IQR)\n",
        "- Check Duplicates, retain only the first record\n",
        "- Check data & convert data types\n",
        "- Check typos\n",
        "- Check time series data\n",
        "- Merge the dataset"
      ]
    },
    {
      "cell_type": "markdown",
      "metadata": {
        "id": "7aLvhTZqs5YO"
      },
      "source": [
        "### Users"
      ]
    },
    {
      "cell_type": "markdown",
      "metadata": {
        "id": "AJjuDZnqoDs0"
      },
      "source": [
        "####Check Data  "
      ]
    },
    {
      "cell_type": "markdown",
      "metadata": {
        "id": "g2hf7sj8tVld"
      },
      "source": [
        "detect the imbalance data to discover the anomali data. ex, referral data consist of 90% used and 10% used so we can drop this data because its imbalance.\n",
        "\n",
        "but, in this case  theres no imbalance data"
      ]
    },
    {
      "cell_type": "code",
      "execution_count": null,
      "metadata": {
        "colab": {
          "base_uri": "https://localhost:8080/"
        },
        "id": "IDlf1XbTNLHx",
        "outputId": "dc271bab-a32e-49a8-a951-edd000bd110f"
      },
      "outputs": [
        {
          "output_type": "stream",
          "name": "stdout",
          "text": [
            "user_id\n",
            "162882     1\n",
            "4297940    1\n",
            "4267551    1\n",
            "4407058    1\n",
            "4270595    1\n",
            "          ..\n",
            "3771510    1\n",
            "3847659    1\n",
            "3763751    1\n",
            "3878306    1\n",
            "4401986    1\n",
            "Name: count, Length: 14712, dtype: int64 \n",
            "\n",
            "registration_import_datetime\n",
            "2021-09-01 19:28:19    5\n",
            "2021-09-05 15:12:38    5\n",
            "2021-08-10 10:55:26    5\n",
            "2021-09-17 14:10:39    5\n",
            "2021-08-05 10:18:13    5\n",
            "                      ..\n",
            "2021-10-02 16:54:43    1\n",
            "2021-09-28 10:16:08    1\n",
            "2021-10-02 16:25:15    1\n",
            "2021-10-17 02:57:16    1\n",
            "2021-10-22 00:55:26    1\n",
            "Name: count, Length: 11536, dtype: int64 \n",
            "\n",
            "user_gender\n",
            "Male      8977\n",
            "Female    5735\n",
            "Name: count, dtype: int64 \n",
            "\n",
            "user_age\n",
            "21    1192\n",
            "20    1058\n",
            "23    1031\n",
            "19     972\n",
            "22     963\n",
            "24     901\n",
            "25     792\n",
            "18     771\n",
            "26     744\n",
            "27     668\n",
            "28     605\n",
            "29     553\n",
            "30     458\n",
            "31     415\n",
            "32     346\n",
            "33     280\n",
            "17     268\n",
            "34     262\n",
            "35     262\n",
            "36     229\n",
            "37     194\n",
            "38     166\n",
            "39     162\n",
            "42     143\n",
            "41     138\n",
            "40     129\n",
            "43     107\n",
            "44      90\n",
            "49      82\n",
            "46      81\n",
            "45      80\n",
            "48      75\n",
            "47      68\n",
            "51      58\n",
            "52      57\n",
            "50      48\n",
            "54      47\n",
            "53      38\n",
            "55      34\n",
            "56      32\n",
            "57      24\n",
            "58      15\n",
            "59      13\n",
            "60      10\n",
            "64       9\n",
            "61       8\n",
            "62       7\n",
            "63       6\n",
            "65       5\n",
            "67       3\n",
            "71       3\n",
            "66       3\n",
            "69       2\n",
            "76       1\n",
            "74       1\n",
            "73       1\n",
            "83       1\n",
            "82       1\n",
            "Name: count, dtype: int64 \n",
            "\n",
            "user_occupation\n",
            "Pelajar       7887\n",
            "Swasta        3263\n",
            "Others        1683\n",
            "IRT            934\n",
            "Pengusaha      598\n",
            "PNS            191\n",
            "Guru           106\n",
            "TNI/Polisi      45\n",
            "Pensiunan        5\n",
            "Name: count, dtype: int64 \n",
            "\n",
            "user_income_range\n",
            "< 10 Juta                   6275\n",
            "Rp 10 Juta - 50 Juta        4816\n",
            "> Rp 50 Juta - 100 Juta     2390\n",
            "> Rp 100 Juta - 500 Juta    1114\n",
            "> Rp 500 Juta - 1 Miliar      90\n",
            "> Rp 1 Miliar                 27\n",
            "Name: count, dtype: int64 \n",
            "\n",
            "referral_code_used\n",
            "used referral    5604\n",
            "Name: count, dtype: int64 \n",
            "\n",
            "user_income_source\n",
            "Gaji                     9131\n",
            "Keuntungan Bisnis        1908\n",
            "Dari Orang Tua / Anak    1307\n",
            "Undian                   1001\n",
            "Tabungan                  419\n",
            "Lainnya                   414\n",
            "Dari Suami / istri        300\n",
            "Hasil Investasi           165\n",
            "Warisan                    43\n",
            "Bunga Simpanan             24\n",
            "Name: count, dtype: int64 \n",
            "\n",
            "end_of_month_invested_amount\n",
            "0            8528\n",
            "100000       1107\n",
            "10000         686\n",
            "200000        470\n",
            "500000        250\n",
            "             ... \n",
            "900000000       1\n",
            "3275000         1\n",
            "1730000         1\n",
            "251604          1\n",
            "71100000        1\n",
            "Name: count, Length: 1042, dtype: int64 \n",
            "\n",
            "total_buy_amount\n",
            "0           11206\n",
            "100000        399\n",
            "25000         298\n",
            "200000        157\n",
            "10000         152\n",
            "            ...  \n",
            "136135          1\n",
            "300446          1\n",
            "2230000         1\n",
            "254689          1\n",
            "31040000        1\n",
            "Name: count, Length: 824, dtype: int64 \n",
            "\n",
            "total_sell_amount\n",
            " 0          12216\n",
            "-10000        494\n",
            "-100000       440\n",
            "-200000       112\n",
            "-500000        75\n",
            "            ...  \n",
            "-201309         1\n",
            "-95000          1\n",
            "-481057         1\n",
            "-1800000        1\n",
            "-1250000        1\n",
            "Name: count, Length: 548, dtype: int64 \n",
            "\n"
          ]
        }
      ],
      "source": [
        "for i in user.columns:\n",
        "  unique_data = user[i].value_counts()\n",
        "  print(unique_data,'\\n')\n",
        "\n",
        "  #this formula can be used to check typo in each columns"
      ]
    },
    {
      "cell_type": "markdown",
      "metadata": {
        "id": "77bnUR28u4zU"
      },
      "source": [
        "#### Convert Data Type"
      ]
    },
    {
      "cell_type": "code",
      "execution_count": null,
      "metadata": {
        "colab": {
          "base_uri": "https://localhost:8080/"
        },
        "id": "qCvRK6dDvH03",
        "outputId": "689e9aef-8bfd-42d8-d1e8-d222bdf231f8"
      },
      "outputs": [
        {
          "output_type": "stream",
          "name": "stdout",
          "text": [
            "<class 'pandas.core.frame.DataFrame'>\n",
            "RangeIndex: 14712 entries, 0 to 14711\n",
            "Data columns (total 11 columns):\n",
            " #   Column                        Non-Null Count  Dtype \n",
            "---  ------                        --------------  ----- \n",
            " 0   user_id                       14712 non-null  int64 \n",
            " 1   registration_import_datetime  14712 non-null  object\n",
            " 2   user_gender                   14712 non-null  object\n",
            " 3   user_age                      14712 non-null  int64 \n",
            " 4   user_occupation               14712 non-null  object\n",
            " 5   user_income_range             14712 non-null  object\n",
            " 6   referral_code_used            5604 non-null   object\n",
            " 7   user_income_source            14712 non-null  object\n",
            " 8   end_of_month_invested_amount  14712 non-null  int64 \n",
            " 9   total_buy_amount              14712 non-null  int64 \n",
            " 10  total_sell_amount             14712 non-null  int64 \n",
            "dtypes: int64(5), object(6)\n",
            "memory usage: 1.2+ MB\n"
          ]
        }
      ],
      "source": [
        "user.info()"
      ]
    },
    {
      "cell_type": "code",
      "execution_count": null,
      "metadata": {
        "id": "fR_vdfFsLqTm"
      },
      "outputs": [],
      "source": [
        "user['user_id'] = user['user_id'].astype('string') #convert to string so later we can do aggregation"
      ]
    },
    {
      "cell_type": "code",
      "execution_count": null,
      "metadata": {
        "id": "c3VHaZHsLqdX"
      },
      "outputs": [],
      "source": [
        "user['registration_import_datetime'] =pd.to_datetime(user['registration_import_datetime'])  #Change registration_import_datetime data type into datetime"
      ]
    },
    {
      "cell_type": "markdown",
      "metadata": {
        "id": "Ejm9-B5bvRI3"
      },
      "source": [
        "#### Treat Missing & Irrelevant Values"
      ]
    },
    {
      "cell_type": "code",
      "execution_count": null,
      "metadata": {
        "colab": {
          "base_uri": "https://localhost:8080/",
          "height": 429
        },
        "id": "MNL9IRlzLqWE",
        "outputId": "6a776e7d-50d6-4e4a-bd6c-63faecd20881"
      },
      "outputs": [
        {
          "output_type": "execute_result",
          "data": {
            "text/plain": [
              "user_id                            0\n",
              "registration_import_datetime       0\n",
              "user_gender                        0\n",
              "user_age                           0\n",
              "user_occupation                    0\n",
              "user_income_range                  0\n",
              "referral_code_used              9108\n",
              "user_income_source                 0\n",
              "end_of_month_invested_amount       0\n",
              "total_buy_amount                   0\n",
              "total_sell_amount                  0\n",
              "dtype: int64"
            ],
            "text/html": [
              "<div>\n",
              "<style scoped>\n",
              "    .dataframe tbody tr th:only-of-type {\n",
              "        vertical-align: middle;\n",
              "    }\n",
              "\n",
              "    .dataframe tbody tr th {\n",
              "        vertical-align: top;\n",
              "    }\n",
              "\n",
              "    .dataframe thead th {\n",
              "        text-align: right;\n",
              "    }\n",
              "</style>\n",
              "<table border=\"1\" class=\"dataframe\">\n",
              "  <thead>\n",
              "    <tr style=\"text-align: right;\">\n",
              "      <th></th>\n",
              "      <th>0</th>\n",
              "    </tr>\n",
              "  </thead>\n",
              "  <tbody>\n",
              "    <tr>\n",
              "      <th>user_id</th>\n",
              "      <td>0</td>\n",
              "    </tr>\n",
              "    <tr>\n",
              "      <th>registration_import_datetime</th>\n",
              "      <td>0</td>\n",
              "    </tr>\n",
              "    <tr>\n",
              "      <th>user_gender</th>\n",
              "      <td>0</td>\n",
              "    </tr>\n",
              "    <tr>\n",
              "      <th>user_age</th>\n",
              "      <td>0</td>\n",
              "    </tr>\n",
              "    <tr>\n",
              "      <th>user_occupation</th>\n",
              "      <td>0</td>\n",
              "    </tr>\n",
              "    <tr>\n",
              "      <th>user_income_range</th>\n",
              "      <td>0</td>\n",
              "    </tr>\n",
              "    <tr>\n",
              "      <th>referral_code_used</th>\n",
              "      <td>9108</td>\n",
              "    </tr>\n",
              "    <tr>\n",
              "      <th>user_income_source</th>\n",
              "      <td>0</td>\n",
              "    </tr>\n",
              "    <tr>\n",
              "      <th>end_of_month_invested_amount</th>\n",
              "      <td>0</td>\n",
              "    </tr>\n",
              "    <tr>\n",
              "      <th>total_buy_amount</th>\n",
              "      <td>0</td>\n",
              "    </tr>\n",
              "    <tr>\n",
              "      <th>total_sell_amount</th>\n",
              "      <td>0</td>\n",
              "    </tr>\n",
              "  </tbody>\n",
              "</table>\n",
              "</div><br><label><b>dtype:</b> int64</label>"
            ]
          },
          "metadata": {},
          "execution_count": 8
        }
      ],
      "source": [
        "user.isna().sum()"
      ]
    },
    {
      "cell_type": "code",
      "execution_count": null,
      "metadata": {
        "colab": {
          "base_uri": "https://localhost:8080/"
        },
        "id": "4-ZJP9AwLqaw",
        "outputId": "58c38401-c756-4c2e-efa2-26822dea4c13"
      },
      "outputs": [
        {
          "output_type": "stream",
          "name": "stderr",
          "text": [
            "<ipython-input-9-5e90a2a58cac>:1: FutureWarning: A value is trying to be set on a copy of a DataFrame or Series through chained assignment using an inplace method.\n",
            "The behavior will change in pandas 3.0. This inplace method will never work because the intermediate object on which we are setting values always behaves as a copy.\n",
            "\n",
            "For example, when doing 'df[col].method(value, inplace=True)', try using 'df.method({col: value}, inplace=True)' or df[col] = df[col].method(value) instead, to perform the operation inplace on the original object.\n",
            "\n",
            "\n",
            "  user['referral_code_used'].fillna(value = 'not used',inplace= True)\n"
          ]
        }
      ],
      "source": [
        "user['referral_code_used'].fillna(value = 'not used',inplace= True)"
      ]
    },
    {
      "cell_type": "code",
      "execution_count": null,
      "metadata": {
        "colab": {
          "base_uri": "https://localhost:8080/"
        },
        "id": "-a6RYuAivp3D",
        "outputId": "06e91764-3186-40aa-b3b6-bb98dcc52777"
      },
      "outputs": [
        {
          "output_type": "execute_result",
          "data": {
            "text/plain": [
              "array(['not used', 'used referral'], dtype=object)"
            ]
          },
          "metadata": {},
          "execution_count": 10
        }
      ],
      "source": [
        "user['referral_code_used'].unique()"
      ]
    },
    {
      "cell_type": "markdown",
      "metadata": {
        "id": "pC1UkOwxOT4T"
      },
      "source": [
        "."
      ]
    },
    {
      "cell_type": "markdown",
      "metadata": {
        "id": "7sRnlU4Qr8M5"
      },
      "source": [
        "####Data Manipulation"
      ]
    },
    {
      "cell_type": "code",
      "execution_count": null,
      "metadata": {
        "id": "2fUQyPTmorqF"
      },
      "outputs": [],
      "source": [
        "user.loc[user['user_age'] > 40, 'user_generation'] = 'Gen-X'\n",
        "user.loc[user['user_age'].between(25,40), 'user_generation'] = 'Gen-Y'\n",
        "user.loc[user['user_age'] <= 24, 'user_generation'] = 'Gen-Z'"
      ]
    },
    {
      "cell_type": "code",
      "execution_count": null,
      "metadata": {
        "colab": {
          "base_uri": "https://localhost:8080/",
          "height": 210
        },
        "id": "hlPb-WrUsRVc",
        "outputId": "0e79649f-1d38-4b72-d6ff-6bef148622ce"
      },
      "outputs": [
        {
          "output_type": "execute_result",
          "data": {
            "text/plain": [
              "user_generation\n",
              "Gen-Z    7156\n",
              "Gen-Y    6265\n",
              "Gen-X    1291\n",
              "Name: count, dtype: int64"
            ],
            "text/html": [
              "<div>\n",
              "<style scoped>\n",
              "    .dataframe tbody tr th:only-of-type {\n",
              "        vertical-align: middle;\n",
              "    }\n",
              "\n",
              "    .dataframe tbody tr th {\n",
              "        vertical-align: top;\n",
              "    }\n",
              "\n",
              "    .dataframe thead th {\n",
              "        text-align: right;\n",
              "    }\n",
              "</style>\n",
              "<table border=\"1\" class=\"dataframe\">\n",
              "  <thead>\n",
              "    <tr style=\"text-align: right;\">\n",
              "      <th></th>\n",
              "      <th>count</th>\n",
              "    </tr>\n",
              "    <tr>\n",
              "      <th>user_generation</th>\n",
              "      <th></th>\n",
              "    </tr>\n",
              "  </thead>\n",
              "  <tbody>\n",
              "    <tr>\n",
              "      <th>Gen-Z</th>\n",
              "      <td>7156</td>\n",
              "    </tr>\n",
              "    <tr>\n",
              "      <th>Gen-Y</th>\n",
              "      <td>6265</td>\n",
              "    </tr>\n",
              "    <tr>\n",
              "      <th>Gen-X</th>\n",
              "      <td>1291</td>\n",
              "    </tr>\n",
              "  </tbody>\n",
              "</table>\n",
              "</div><br><label><b>dtype:</b> int64</label>"
            ]
          },
          "metadata": {},
          "execution_count": 12
        }
      ],
      "source": [
        "user['user_generation'].value_counts()"
      ]
    },
    {
      "cell_type": "markdown",
      "metadata": {
        "id": "Z_-BPeQ4FYsU"
      },
      "source": [
        "####Check Duplicates"
      ]
    },
    {
      "cell_type": "code",
      "execution_count": null,
      "metadata": {
        "colab": {
          "base_uri": "https://localhost:8080/",
          "height": 73
        },
        "id": "V9vVYz5Morsg",
        "outputId": "a5d2ef2d-ae4a-4365-f18d-05055cbbb4e5"
      },
      "outputs": [
        {
          "output_type": "execute_result",
          "data": {
            "text/plain": [
              "Empty DataFrame\n",
              "Columns: [user_id, registration_import_datetime, user_gender, user_age, user_occupation, user_income_range, referral_code_used, user_income_source, end_of_month_invested_amount, total_buy_amount, total_sell_amount, user_generation]\n",
              "Index: []"
            ],
            "text/html": [
              "\n",
              "  <div id=\"df-24a6356b-3300-497d-b60d-1ca6aa70adfc\" class=\"colab-df-container\">\n",
              "    <div>\n",
              "<style scoped>\n",
              "    .dataframe tbody tr th:only-of-type {\n",
              "        vertical-align: middle;\n",
              "    }\n",
              "\n",
              "    .dataframe tbody tr th {\n",
              "        vertical-align: top;\n",
              "    }\n",
              "\n",
              "    .dataframe thead th {\n",
              "        text-align: right;\n",
              "    }\n",
              "</style>\n",
              "<table border=\"1\" class=\"dataframe\">\n",
              "  <thead>\n",
              "    <tr style=\"text-align: right;\">\n",
              "      <th></th>\n",
              "      <th>user_id</th>\n",
              "      <th>registration_import_datetime</th>\n",
              "      <th>user_gender</th>\n",
              "      <th>user_age</th>\n",
              "      <th>user_occupation</th>\n",
              "      <th>user_income_range</th>\n",
              "      <th>referral_code_used</th>\n",
              "      <th>user_income_source</th>\n",
              "      <th>end_of_month_invested_amount</th>\n",
              "      <th>total_buy_amount</th>\n",
              "      <th>total_sell_amount</th>\n",
              "      <th>user_generation</th>\n",
              "    </tr>\n",
              "  </thead>\n",
              "  <tbody>\n",
              "  </tbody>\n",
              "</table>\n",
              "</div>\n",
              "    <div class=\"colab-df-buttons\">\n",
              "\n",
              "  <div class=\"colab-df-container\">\n",
              "    <button class=\"colab-df-convert\" onclick=\"convertToInteractive('df-24a6356b-3300-497d-b60d-1ca6aa70adfc')\"\n",
              "            title=\"Convert this dataframe to an interactive table.\"\n",
              "            style=\"display:none;\">\n",
              "\n",
              "  <svg xmlns=\"http://www.w3.org/2000/svg\" height=\"24px\" viewBox=\"0 -960 960 960\">\n",
              "    <path d=\"M120-120v-720h720v720H120Zm60-500h600v-160H180v160Zm220 220h160v-160H400v160Zm0 220h160v-160H400v160ZM180-400h160v-160H180v160Zm440 0h160v-160H620v160ZM180-180h160v-160H180v160Zm440 0h160v-160H620v160Z\"/>\n",
              "  </svg>\n",
              "    </button>\n",
              "\n",
              "  <style>\n",
              "    .colab-df-container {\n",
              "      display:flex;\n",
              "      gap: 12px;\n",
              "    }\n",
              "\n",
              "    .colab-df-convert {\n",
              "      background-color: #E8F0FE;\n",
              "      border: none;\n",
              "      border-radius: 50%;\n",
              "      cursor: pointer;\n",
              "      display: none;\n",
              "      fill: #1967D2;\n",
              "      height: 32px;\n",
              "      padding: 0 0 0 0;\n",
              "      width: 32px;\n",
              "    }\n",
              "\n",
              "    .colab-df-convert:hover {\n",
              "      background-color: #E2EBFA;\n",
              "      box-shadow: 0px 1px 2px rgba(60, 64, 67, 0.3), 0px 1px 3px 1px rgba(60, 64, 67, 0.15);\n",
              "      fill: #174EA6;\n",
              "    }\n",
              "\n",
              "    .colab-df-buttons div {\n",
              "      margin-bottom: 4px;\n",
              "    }\n",
              "\n",
              "    [theme=dark] .colab-df-convert {\n",
              "      background-color: #3B4455;\n",
              "      fill: #D2E3FC;\n",
              "    }\n",
              "\n",
              "    [theme=dark] .colab-df-convert:hover {\n",
              "      background-color: #434B5C;\n",
              "      box-shadow: 0px 1px 3px 1px rgba(0, 0, 0, 0.15);\n",
              "      filter: drop-shadow(0px 1px 2px rgba(0, 0, 0, 0.3));\n",
              "      fill: #FFFFFF;\n",
              "    }\n",
              "  </style>\n",
              "\n",
              "    <script>\n",
              "      const buttonEl =\n",
              "        document.querySelector('#df-24a6356b-3300-497d-b60d-1ca6aa70adfc button.colab-df-convert');\n",
              "      buttonEl.style.display =\n",
              "        google.colab.kernel.accessAllowed ? 'block' : 'none';\n",
              "\n",
              "      async function convertToInteractive(key) {\n",
              "        const element = document.querySelector('#df-24a6356b-3300-497d-b60d-1ca6aa70adfc');\n",
              "        const dataTable =\n",
              "          await google.colab.kernel.invokeFunction('convertToInteractive',\n",
              "                                                    [key], {});\n",
              "        if (!dataTable) return;\n",
              "\n",
              "        const docLinkHtml = 'Like what you see? Visit the ' +\n",
              "          '<a target=\"_blank\" href=https://colab.research.google.com/notebooks/data_table.ipynb>data table notebook</a>'\n",
              "          + ' to learn more about interactive tables.';\n",
              "        element.innerHTML = '';\n",
              "        dataTable['output_type'] = 'display_data';\n",
              "        await google.colab.output.renderOutput(dataTable, element);\n",
              "        const docLink = document.createElement('div');\n",
              "        docLink.innerHTML = docLinkHtml;\n",
              "        element.appendChild(docLink);\n",
              "      }\n",
              "    </script>\n",
              "  </div>\n",
              "\n",
              "\n",
              "    </div>\n",
              "  </div>\n"
            ],
            "application/vnd.google.colaboratory.intrinsic+json": {
              "type": "dataframe",
              "repr_error": "Out of range float values are not JSON compliant: nan"
            }
          },
          "metadata": {},
          "execution_count": 13
        }
      ],
      "source": [
        "user[user.duplicated()] #checking the duplicates"
      ]
    },
    {
      "cell_type": "markdown",
      "metadata": {
        "id": "YPMmcQBhFfvF"
      },
      "source": [
        "theres no duplicate data"
      ]
    },
    {
      "cell_type": "markdown",
      "metadata": {
        "id": "xoZJzYrNPixp"
      },
      "source": [
        "."
      ]
    },
    {
      "cell_type": "markdown",
      "metadata": {
        "id": "BRqZEpsVPeBv"
      },
      "source": [
        "### Daily User Transaction"
      ]
    },
    {
      "cell_type": "code",
      "execution_count": null,
      "metadata": {
        "id": "TFF9qb0mYGZS"
      },
      "outputs": [],
      "source": [
        "trx = transaction.copy()"
      ]
    },
    {
      "cell_type": "markdown",
      "metadata": {
        "id": "Y9t8TD--FwJe"
      },
      "source": [
        "####Check Data  "
      ]
    },
    {
      "cell_type": "code",
      "execution_count": null,
      "metadata": {
        "colab": {
          "base_uri": "https://localhost:8080/",
          "height": 617
        },
        "id": "bM9e7lkcGIoj",
        "outputId": "24035958-128d-419c-a52f-549e7c1b1eda"
      },
      "outputs": [
        {
          "output_type": "execute_result",
          "data": {
            "text/plain": [
              "user_id                                       int64\n",
              "date                                         object\n",
              "buy_saham_transaction_amount                float64\n",
              "sell_saham_transaction_amount               float64\n",
              "buy_pasar_uang_transaction_amount           float64\n",
              "sell_pasar_uang_transaction_amount          float64\n",
              "buy_pendapatan_tetap_transaction_amount     float64\n",
              "sell_pendapatan_tetap_transaction_amount    float64\n",
              "buy_campuran_transaction_amount             float64\n",
              "sell_campuran_transaction_amount            float64\n",
              "total_buy_transaction_amount                  int64\n",
              "total_sell_transaction_amount                 int64\n",
              "saham_invested_amount                       float64\n",
              "pasar_uang_invested_amount                  float64\n",
              "pendapatan_tetap_invested_amount            float64\n",
              "campuran_invested_amount                    float64\n",
              "total_invested_amount                         int64\n",
              "dtype: object"
            ],
            "text/html": [
              "<div>\n",
              "<style scoped>\n",
              "    .dataframe tbody tr th:only-of-type {\n",
              "        vertical-align: middle;\n",
              "    }\n",
              "\n",
              "    .dataframe tbody tr th {\n",
              "        vertical-align: top;\n",
              "    }\n",
              "\n",
              "    .dataframe thead th {\n",
              "        text-align: right;\n",
              "    }\n",
              "</style>\n",
              "<table border=\"1\" class=\"dataframe\">\n",
              "  <thead>\n",
              "    <tr style=\"text-align: right;\">\n",
              "      <th></th>\n",
              "      <th>0</th>\n",
              "    </tr>\n",
              "  </thead>\n",
              "  <tbody>\n",
              "    <tr>\n",
              "      <th>user_id</th>\n",
              "      <td>int64</td>\n",
              "    </tr>\n",
              "    <tr>\n",
              "      <th>date</th>\n",
              "      <td>object</td>\n",
              "    </tr>\n",
              "    <tr>\n",
              "      <th>buy_saham_transaction_amount</th>\n",
              "      <td>float64</td>\n",
              "    </tr>\n",
              "    <tr>\n",
              "      <th>sell_saham_transaction_amount</th>\n",
              "      <td>float64</td>\n",
              "    </tr>\n",
              "    <tr>\n",
              "      <th>buy_pasar_uang_transaction_amount</th>\n",
              "      <td>float64</td>\n",
              "    </tr>\n",
              "    <tr>\n",
              "      <th>sell_pasar_uang_transaction_amount</th>\n",
              "      <td>float64</td>\n",
              "    </tr>\n",
              "    <tr>\n",
              "      <th>buy_pendapatan_tetap_transaction_amount</th>\n",
              "      <td>float64</td>\n",
              "    </tr>\n",
              "    <tr>\n",
              "      <th>sell_pendapatan_tetap_transaction_amount</th>\n",
              "      <td>float64</td>\n",
              "    </tr>\n",
              "    <tr>\n",
              "      <th>buy_campuran_transaction_amount</th>\n",
              "      <td>float64</td>\n",
              "    </tr>\n",
              "    <tr>\n",
              "      <th>sell_campuran_transaction_amount</th>\n",
              "      <td>float64</td>\n",
              "    </tr>\n",
              "    <tr>\n",
              "      <th>total_buy_transaction_amount</th>\n",
              "      <td>int64</td>\n",
              "    </tr>\n",
              "    <tr>\n",
              "      <th>total_sell_transaction_amount</th>\n",
              "      <td>int64</td>\n",
              "    </tr>\n",
              "    <tr>\n",
              "      <th>saham_invested_amount</th>\n",
              "      <td>float64</td>\n",
              "    </tr>\n",
              "    <tr>\n",
              "      <th>pasar_uang_invested_amount</th>\n",
              "      <td>float64</td>\n",
              "    </tr>\n",
              "    <tr>\n",
              "      <th>pendapatan_tetap_invested_amount</th>\n",
              "      <td>float64</td>\n",
              "    </tr>\n",
              "    <tr>\n",
              "      <th>campuran_invested_amount</th>\n",
              "      <td>float64</td>\n",
              "    </tr>\n",
              "    <tr>\n",
              "      <th>total_invested_amount</th>\n",
              "      <td>int64</td>\n",
              "    </tr>\n",
              "  </tbody>\n",
              "</table>\n",
              "</div><br><label><b>dtype:</b> object</label>"
            ]
          },
          "metadata": {},
          "execution_count": 15
        }
      ],
      "source": [
        "trx.dtypes"
      ]
    },
    {
      "cell_type": "code",
      "execution_count": null,
      "metadata": {
        "colab": {
          "base_uri": "https://localhost:8080/"
        },
        "id": "XD690HAhQZy_",
        "outputId": "81a2f81b-3a57-486e-d766-bcedee65ea93"
      },
      "outputs": [
        {
          "output_type": "stream",
          "name": "stdout",
          "text": [
            "user_id\n",
            "3734324    42\n",
            "3736817    42\n",
            "3734576    42\n",
            "3734536    42\n",
            "3736922    42\n",
            "           ..\n",
            "4078289     1\n",
            "1905565     1\n",
            "4143822     1\n",
            "4143651     1\n",
            "4165830     1\n",
            "Name: count, Length: 8277, dtype: int64 \n",
            "\n",
            "date\n",
            "2021-09-30    8277\n",
            "2021-09-29    8007\n",
            "2021-09-28    7593\n",
            "2021-09-27    7416\n",
            "2021-09-24    7257\n",
            "2021-09-23    7094\n",
            "2021-09-22    6921\n",
            "2021-09-21    6488\n",
            "2021-09-20    6368\n",
            "2021-09-17    6190\n",
            "2021-09-16    6024\n",
            "2021-09-15    5841\n",
            "2021-09-14    5405\n",
            "2021-09-13    5237\n",
            "2021-09-10    5038\n",
            "2021-09-09    4862\n",
            "2021-09-08    4674\n",
            "2021-09-07    4200\n",
            "2021-09-06    4032\n",
            "2021-09-03    3830\n",
            "2021-09-02    3584\n",
            "2021-09-01    3428\n",
            "2021-08-31    3075\n",
            "2021-08-30    2926\n",
            "2021-08-27    2774\n",
            "2021-08-26    2643\n",
            "2021-08-25    2528\n",
            "2021-08-24    2227\n",
            "2021-08-23    2095\n",
            "2021-08-20    1973\n",
            "2021-08-19    1768\n",
            "2021-08-17    1474\n",
            "2021-08-18    1474\n",
            "2021-08-16    1350\n",
            "2021-08-13    1117\n",
            "2021-08-12     991\n",
            "2021-08-11     991\n",
            "2021-08-10     577\n",
            "2021-08-09     426\n",
            "2021-08-06     315\n",
            "2021-08-05     204\n",
            "2021-08-04     117\n",
            "Name: count, dtype: int64 \n",
            "\n",
            "buy_saham_transaction_amount\n",
            "0.0          95560\n",
            "100000.0       458\n",
            "10000.0        286\n",
            "50000.0        228\n",
            "40000.0        179\n",
            "             ...  \n",
            "2040000.0        1\n",
            "485142.0         1\n",
            "2540000.0        1\n",
            "163543.0         1\n",
            "23837.0          1\n",
            "Name: count, Length: 422, dtype: int64 \n",
            "\n",
            "sell_saham_transaction_amount\n",
            "-50000.0      265\n",
            "-10000.0      187\n",
            "-40000.0      136\n",
            "-100000.0     132\n",
            "-60000.0      108\n",
            "             ... \n",
            "-49435.0        1\n",
            "-1862599.0      1\n",
            "-3725200.0      1\n",
            "-396037.0       1\n",
            "-10988.0        1\n",
            "Name: count, Length: 386, dtype: int64 \n",
            "\n",
            "buy_pasar_uang_transaction_amount\n",
            "0.0           117837\n",
            "10000.0          869\n",
            "100000.0         554\n",
            "20000.0          364\n",
            "50000.0          295\n",
            "               ...  \n",
            "3059000.0          1\n",
            "22500000.0         1\n",
            "2180522.0          1\n",
            "139974.0           1\n",
            "324000.0           1\n",
            "Name: count, Length: 408, dtype: int64 \n",
            "\n",
            "sell_pasar_uang_transaction_amount\n",
            "-10000.0      846\n",
            "-20000.0      153\n",
            "-100000.0     146\n",
            "-40000.0       93\n",
            "-50000.0       60\n",
            "             ... \n",
            "-39974.0        1\n",
            "-49791.0        1\n",
            "-2280000.0      1\n",
            "-909820.0       1\n",
            "-49983.0        1\n",
            "Name: count, Length: 311, dtype: int64 \n",
            "\n",
            "buy_pendapatan_tetap_transaction_amount\n",
            "0.0          94830\n",
            "25000.0        724\n",
            "100000.0       316\n",
            "50000.0        251\n",
            "40000.0        165\n",
            "             ...  \n",
            "7000000.0        1\n",
            "4280000.0        1\n",
            "4290000.0        1\n",
            "4238000.0        1\n",
            "1720000.0        1\n",
            "Name: count, Length: 502, dtype: int64 \n",
            "\n",
            "sell_pendapatan_tetap_transaction_amount\n",
            "-40000.0     225\n",
            "-50000.0     153\n",
            "-10000.0     114\n",
            "-30000.0     101\n",
            "-20000.0      65\n",
            "            ... \n",
            "-99919.0       1\n",
            "-225000.0      1\n",
            "-33333.0       1\n",
            "-949569.0      1\n",
            "-169989.0      1\n",
            "Name: count, Length: 345, dtype: int64 \n",
            "\n",
            "buy_campuran_transaction_amount\n",
            "0.0           4941\n",
            "1000000.0       32\n",
            "2000000.0       20\n",
            "10000000.0      10\n",
            "100000.0         9\n",
            "1500000.0        6\n",
            "2500000.0        6\n",
            "150000.0         4\n",
            "5000000.0        4\n",
            "500000.0         4\n",
            "300000.0         3\n",
            "20000000.0       3\n",
            "3000000.0        3\n",
            "15000000.0       2\n",
            "1035000.0        2\n",
            "50000000.0       2\n",
            "9000000.0        2\n",
            "50000.0          2\n",
            "200000.0         2\n",
            "6000000.0        2\n",
            "13050000.0       1\n",
            "901102.0         1\n",
            "3074900.0        1\n",
            "149000.0         1\n",
            "1100000.0        1\n",
            "13000000.0       1\n",
            "1350000.0        1\n",
            "975000.0         1\n",
            "5300000.0        1\n",
            "1057000.0        1\n",
            "7500000.0        1\n",
            "24000000.0       1\n",
            "8000000.0        1\n",
            "Name: count, dtype: int64 \n",
            "\n",
            "sell_campuran_transaction_amount\n",
            "-1000000.0     13\n",
            "-100000.0       5\n",
            "-5000000.0      3\n",
            "-200000.0       3\n",
            "-2500000.0      2\n",
            "-10000000.0     2\n",
            "-4343762.0      1\n",
            "-500000.0       1\n",
            "-300000.0       1\n",
            "-4000000.0      1\n",
            "-50000000.0     1\n",
            "-30000000.0     1\n",
            "-3000000.0      1\n",
            "-1500000.0      1\n",
            "-4300000.0      1\n",
            "-15656238.0     1\n",
            "-700000.0       1\n",
            "-550000.0       1\n",
            "-2093257.0      1\n",
            "-1028726.0      1\n",
            "-1054481.0      1\n",
            "-3500000.0      1\n",
            "-1001600.0      1\n",
            "-50000.0        1\n",
            "Name: count, dtype: int64 \n",
            "\n",
            "total_buy_transaction_amount\n",
            "0            151003\n",
            "100000         1367\n",
            "25000           712\n",
            "10000           603\n",
            "500000          472\n",
            "              ...  \n",
            "989177            1\n",
            "245873            1\n",
            "485142            1\n",
            "400000000         1\n",
            "2280000           1\n",
            "Name: count, Length: 816, dtype: int64 \n",
            "\n",
            "total_sell_transaction_amount\n",
            " 0          155490\n",
            "-10000         583\n",
            "-100000        555\n",
            "-50000         127\n",
            "-200000        126\n",
            "             ...  \n",
            "-330307          1\n",
            "-181877          1\n",
            "-6786500         1\n",
            "-92000           1\n",
            "-10988           1\n",
            "Name: count, Length: 765, dtype: int64 \n",
            "\n",
            "saham_invested_amount\n",
            "0.0         23793\n",
            "50000.0     11944\n",
            "40000.0      6768\n",
            "10000.0      5831\n",
            "100000.0     5184\n",
            "            ...  \n",
            "109998.0        1\n",
            "284000.0        1\n",
            "184000.0        1\n",
            "231589.0        1\n",
            "388446.0        1\n",
            "Name: count, Length: 1084, dtype: int64 \n",
            "\n",
            "pasar_uang_invested_amount\n",
            "10000.0       30274\n",
            "0.0           28629\n",
            "100000.0      10064\n",
            "20000.0        9031\n",
            "40000.0        4854\n",
            "              ...  \n",
            "12300000.0        1\n",
            "289946.0          1\n",
            "539946.0          1\n",
            "219758.0          1\n",
            "20779.0           1\n",
            "Name: count, Length: 1157, dtype: int64 \n",
            "\n",
            "pendapatan_tetap_invested_amount\n",
            "0.0           20699\n",
            "40000.0       10800\n",
            "50000.0        7073\n",
            "30000.0        4522\n",
            "100000.0       3941\n",
            "              ...  \n",
            "490500.0          1\n",
            "1215000.0         1\n",
            "3465000.0         1\n",
            "5025000.0         1\n",
            "83400000.0        1\n",
            "Name: count, Length: 1386, dtype: int64 \n",
            "\n",
            "campuran_invested_amount\n",
            "1000000.0     1122\n",
            "0.0            521\n",
            "2000000.0      488\n",
            "100000.0       409\n",
            "10000000.0     389\n",
            "              ... \n",
            "37074900.0       1\n",
            "17074900.0       1\n",
            "26000000.0       1\n",
            "52000000.0       1\n",
            "650000.0         1\n",
            "Name: count, Length: 88, dtype: int64 \n",
            "\n",
            "total_invested_amount\n",
            "0            32577\n",
            "100000       25932\n",
            "10000        11192\n",
            "200000        9936\n",
            "500000        6069\n",
            "             ...  \n",
            "74000000         1\n",
            "578400000        1\n",
            "76000000         1\n",
            "1890000          1\n",
            "30779            1\n",
            "Name: count, Length: 2727, dtype: int64 \n",
            "\n"
          ]
        }
      ],
      "source": [
        "for i in trx.columns:\n",
        "  unique_data = trx[i].value_counts()\n",
        "  print(unique_data,'\\n') # \\n artinya Enter"
      ]
    },
    {
      "cell_type": "markdown",
      "metadata": {
        "id": "zWW9PoX1GUxd"
      },
      "source": [
        "#### Convert Data Type"
      ]
    },
    {
      "cell_type": "code",
      "execution_count": null,
      "metadata": {
        "id": "3v-UnlmWPqCH"
      },
      "outputs": [],
      "source": [
        "trx['user_id'] = trx['user_id'].astype('string')"
      ]
    },
    {
      "cell_type": "code",
      "execution_count": null,
      "metadata": {
        "id": "QTgoOrdJPSdE"
      },
      "outputs": [],
      "source": [
        "trx['date'] = pd.to_datetime(trx['date'])"
      ]
    },
    {
      "cell_type": "code",
      "execution_count": null,
      "metadata": {
        "colab": {
          "base_uri": "https://localhost:8080/"
        },
        "id": "c928uB-BQHOj",
        "outputId": "f42a1892-ec35-4e3b-fe89-a69e42b3d41d"
      },
      "outputs": [
        {
          "output_type": "stream",
          "name": "stdout",
          "text": [
            "<class 'pandas.core.frame.DataFrame'>\n",
            "RangeIndex: 158811 entries, 0 to 158810\n",
            "Data columns (total 17 columns):\n",
            " #   Column                                    Non-Null Count   Dtype         \n",
            "---  ------                                    --------------   -----         \n",
            " 0   user_id                                   158811 non-null  string        \n",
            " 1   date                                      158811 non-null  datetime64[ns]\n",
            " 2   buy_saham_transaction_amount              99031 non-null   float64       \n",
            " 3   sell_saham_transaction_amount             1808 non-null    float64       \n",
            " 4   buy_pasar_uang_transaction_amount         122263 non-null  float64       \n",
            " 5   sell_pasar_uang_transaction_amount        2010 non-null    float64       \n",
            " 6   buy_pendapatan_tetap_transaction_amount   98916 non-null   float64       \n",
            " 7   sell_pendapatan_tetap_transaction_amount  1581 non-null    float64       \n",
            " 8   buy_campuran_transaction_amount           5072 non-null    float64       \n",
            " 9   sell_campuran_transaction_amount          46 non-null      float64       \n",
            " 10  total_buy_transaction_amount              158811 non-null  int64         \n",
            " 11  total_sell_transaction_amount             158811 non-null  int64         \n",
            " 12  saham_invested_amount                     106292 non-null  float64       \n",
            " 13  pasar_uang_invested_amount                131081 non-null  float64       \n",
            " 14  pendapatan_tetap_invested_amount          105946 non-null  float64       \n",
            " 15  campuran_invested_amount                  5352 non-null    float64       \n",
            " 16  total_invested_amount                     158811 non-null  int64         \n",
            "dtypes: datetime64[ns](1), float64(12), int64(3), string(1)\n",
            "memory usage: 20.6 MB\n"
          ]
        }
      ],
      "source": [
        "trx.info()"
      ]
    },
    {
      "cell_type": "markdown",
      "metadata": {
        "id": "N_cDndx2GjX3"
      },
      "source": [
        "#### Treat Missing & Irrelevant Values"
      ]
    },
    {
      "cell_type": "code",
      "execution_count": null,
      "metadata": {
        "colab": {
          "base_uri": "https://localhost:8080/",
          "height": 617
        },
        "id": "f2krs3xsGnsj",
        "outputId": "63c5f6eb-13dd-4932-bca4-7e84ff9219ef"
      },
      "outputs": [
        {
          "output_type": "execute_result",
          "data": {
            "text/plain": [
              "user_id                                          0\n",
              "date                                             0\n",
              "buy_saham_transaction_amount                 59780\n",
              "sell_saham_transaction_amount               157003\n",
              "buy_pasar_uang_transaction_amount            36548\n",
              "sell_pasar_uang_transaction_amount          156801\n",
              "buy_pendapatan_tetap_transaction_amount      59895\n",
              "sell_pendapatan_tetap_transaction_amount    157230\n",
              "buy_campuran_transaction_amount             153739\n",
              "sell_campuran_transaction_amount            158765\n",
              "total_buy_transaction_amount                     0\n",
              "total_sell_transaction_amount                    0\n",
              "saham_invested_amount                        52519\n",
              "pasar_uang_invested_amount                   27730\n",
              "pendapatan_tetap_invested_amount             52865\n",
              "campuran_invested_amount                    153459\n",
              "total_invested_amount                            0\n",
              "dtype: int64"
            ],
            "text/html": [
              "<div>\n",
              "<style scoped>\n",
              "    .dataframe tbody tr th:only-of-type {\n",
              "        vertical-align: middle;\n",
              "    }\n",
              "\n",
              "    .dataframe tbody tr th {\n",
              "        vertical-align: top;\n",
              "    }\n",
              "\n",
              "    .dataframe thead th {\n",
              "        text-align: right;\n",
              "    }\n",
              "</style>\n",
              "<table border=\"1\" class=\"dataframe\">\n",
              "  <thead>\n",
              "    <tr style=\"text-align: right;\">\n",
              "      <th></th>\n",
              "      <th>0</th>\n",
              "    </tr>\n",
              "  </thead>\n",
              "  <tbody>\n",
              "    <tr>\n",
              "      <th>user_id</th>\n",
              "      <td>0</td>\n",
              "    </tr>\n",
              "    <tr>\n",
              "      <th>date</th>\n",
              "      <td>0</td>\n",
              "    </tr>\n",
              "    <tr>\n",
              "      <th>buy_saham_transaction_amount</th>\n",
              "      <td>59780</td>\n",
              "    </tr>\n",
              "    <tr>\n",
              "      <th>sell_saham_transaction_amount</th>\n",
              "      <td>157003</td>\n",
              "    </tr>\n",
              "    <tr>\n",
              "      <th>buy_pasar_uang_transaction_amount</th>\n",
              "      <td>36548</td>\n",
              "    </tr>\n",
              "    <tr>\n",
              "      <th>sell_pasar_uang_transaction_amount</th>\n",
              "      <td>156801</td>\n",
              "    </tr>\n",
              "    <tr>\n",
              "      <th>buy_pendapatan_tetap_transaction_amount</th>\n",
              "      <td>59895</td>\n",
              "    </tr>\n",
              "    <tr>\n",
              "      <th>sell_pendapatan_tetap_transaction_amount</th>\n",
              "      <td>157230</td>\n",
              "    </tr>\n",
              "    <tr>\n",
              "      <th>buy_campuran_transaction_amount</th>\n",
              "      <td>153739</td>\n",
              "    </tr>\n",
              "    <tr>\n",
              "      <th>sell_campuran_transaction_amount</th>\n",
              "      <td>158765</td>\n",
              "    </tr>\n",
              "    <tr>\n",
              "      <th>total_buy_transaction_amount</th>\n",
              "      <td>0</td>\n",
              "    </tr>\n",
              "    <tr>\n",
              "      <th>total_sell_transaction_amount</th>\n",
              "      <td>0</td>\n",
              "    </tr>\n",
              "    <tr>\n",
              "      <th>saham_invested_amount</th>\n",
              "      <td>52519</td>\n",
              "    </tr>\n",
              "    <tr>\n",
              "      <th>pasar_uang_invested_amount</th>\n",
              "      <td>27730</td>\n",
              "    </tr>\n",
              "    <tr>\n",
              "      <th>pendapatan_tetap_invested_amount</th>\n",
              "      <td>52865</td>\n",
              "    </tr>\n",
              "    <tr>\n",
              "      <th>campuran_invested_amount</th>\n",
              "      <td>153459</td>\n",
              "    </tr>\n",
              "    <tr>\n",
              "      <th>total_invested_amount</th>\n",
              "      <td>0</td>\n",
              "    </tr>\n",
              "  </tbody>\n",
              "</table>\n",
              "</div><br><label><b>dtype:</b> int64</label>"
            ]
          },
          "metadata": {},
          "execution_count": 20
        }
      ],
      "source": [
        "trx.isnull().sum()"
      ]
    },
    {
      "cell_type": "code",
      "execution_count": null,
      "metadata": {
        "id": "OYnjJnRTPSfc"
      },
      "outputs": [],
      "source": [
        "trx.fillna(value=0,inplace=True)"
      ]
    },
    {
      "cell_type": "code",
      "execution_count": null,
      "metadata": {
        "colab": {
          "base_uri": "https://localhost:8080/"
        },
        "id": "0fWw7UIrPShw",
        "outputId": "a7c10422-dde6-4cef-fcac-833ad63671e5"
      },
      "outputs": [
        {
          "output_type": "stream",
          "name": "stdout",
          "text": [
            "<class 'pandas.core.frame.DataFrame'>\n",
            "RangeIndex: 158811 entries, 0 to 158810\n",
            "Data columns (total 17 columns):\n",
            " #   Column                                    Non-Null Count   Dtype         \n",
            "---  ------                                    --------------   -----         \n",
            " 0   user_id                                   158811 non-null  string        \n",
            " 1   date                                      158811 non-null  datetime64[ns]\n",
            " 2   buy_saham_transaction_amount              158811 non-null  float64       \n",
            " 3   sell_saham_transaction_amount             158811 non-null  float64       \n",
            " 4   buy_pasar_uang_transaction_amount         158811 non-null  float64       \n",
            " 5   sell_pasar_uang_transaction_amount        158811 non-null  float64       \n",
            " 6   buy_pendapatan_tetap_transaction_amount   158811 non-null  float64       \n",
            " 7   sell_pendapatan_tetap_transaction_amount  158811 non-null  float64       \n",
            " 8   buy_campuran_transaction_amount           158811 non-null  float64       \n",
            " 9   sell_campuran_transaction_amount          158811 non-null  float64       \n",
            " 10  total_buy_transaction_amount              158811 non-null  int64         \n",
            " 11  total_sell_transaction_amount             158811 non-null  int64         \n",
            " 12  saham_invested_amount                     158811 non-null  float64       \n",
            " 13  pasar_uang_invested_amount                158811 non-null  float64       \n",
            " 14  pendapatan_tetap_invested_amount          158811 non-null  float64       \n",
            " 15  campuran_invested_amount                  158811 non-null  float64       \n",
            " 16  total_invested_amount                     158811 non-null  int64         \n",
            "dtypes: datetime64[ns](1), float64(12), int64(3), string(1)\n",
            "memory usage: 20.6 MB\n"
          ]
        }
      ],
      "source": [
        "trx.info()"
      ]
    },
    {
      "cell_type": "markdown",
      "metadata": {
        "id": "WNx1eB0kQO-6"
      },
      "source": [
        ".\n",
        "\n"
      ]
    },
    {
      "cell_type": "markdown",
      "metadata": {
        "id": "6ZQ8ryuiQ9Hq"
      },
      "source": [
        "####Check Duplicates"
      ]
    },
    {
      "cell_type": "code",
      "execution_count": null,
      "metadata": {
        "colab": {
          "base_uri": "https://localhost:8080/",
          "height": 73
        },
        "id": "yTFr--MSQZ4J",
        "outputId": "42528f1b-1120-4303-91c8-0e0a0683afb6"
      },
      "outputs": [
        {
          "output_type": "execute_result",
          "data": {
            "text/plain": [
              "Empty DataFrame\n",
              "Columns: [user_id, date, buy_saham_transaction_amount, sell_saham_transaction_amount, buy_pasar_uang_transaction_amount, sell_pasar_uang_transaction_amount, buy_pendapatan_tetap_transaction_amount, sell_pendapatan_tetap_transaction_amount, buy_campuran_transaction_amount, sell_campuran_transaction_amount, total_buy_transaction_amount, total_sell_transaction_amount, saham_invested_amount, pasar_uang_invested_amount, pendapatan_tetap_invested_amount, campuran_invested_amount, total_invested_amount]\n",
              "Index: []"
            ],
            "text/html": [
              "\n",
              "  <div id=\"df-a5f89e2b-74ce-4018-a8e4-93e7cf804023\" class=\"colab-df-container\">\n",
              "    <div>\n",
              "<style scoped>\n",
              "    .dataframe tbody tr th:only-of-type {\n",
              "        vertical-align: middle;\n",
              "    }\n",
              "\n",
              "    .dataframe tbody tr th {\n",
              "        vertical-align: top;\n",
              "    }\n",
              "\n",
              "    .dataframe thead th {\n",
              "        text-align: right;\n",
              "    }\n",
              "</style>\n",
              "<table border=\"1\" class=\"dataframe\">\n",
              "  <thead>\n",
              "    <tr style=\"text-align: right;\">\n",
              "      <th></th>\n",
              "      <th>user_id</th>\n",
              "      <th>date</th>\n",
              "      <th>buy_saham_transaction_amount</th>\n",
              "      <th>sell_saham_transaction_amount</th>\n",
              "      <th>buy_pasar_uang_transaction_amount</th>\n",
              "      <th>sell_pasar_uang_transaction_amount</th>\n",
              "      <th>buy_pendapatan_tetap_transaction_amount</th>\n",
              "      <th>sell_pendapatan_tetap_transaction_amount</th>\n",
              "      <th>buy_campuran_transaction_amount</th>\n",
              "      <th>sell_campuran_transaction_amount</th>\n",
              "      <th>total_buy_transaction_amount</th>\n",
              "      <th>total_sell_transaction_amount</th>\n",
              "      <th>saham_invested_amount</th>\n",
              "      <th>pasar_uang_invested_amount</th>\n",
              "      <th>pendapatan_tetap_invested_amount</th>\n",
              "      <th>campuran_invested_amount</th>\n",
              "      <th>total_invested_amount</th>\n",
              "    </tr>\n",
              "  </thead>\n",
              "  <tbody>\n",
              "  </tbody>\n",
              "</table>\n",
              "</div>\n",
              "    <div class=\"colab-df-buttons\">\n",
              "\n",
              "  <div class=\"colab-df-container\">\n",
              "    <button class=\"colab-df-convert\" onclick=\"convertToInteractive('df-a5f89e2b-74ce-4018-a8e4-93e7cf804023')\"\n",
              "            title=\"Convert this dataframe to an interactive table.\"\n",
              "            style=\"display:none;\">\n",
              "\n",
              "  <svg xmlns=\"http://www.w3.org/2000/svg\" height=\"24px\" viewBox=\"0 -960 960 960\">\n",
              "    <path d=\"M120-120v-720h720v720H120Zm60-500h600v-160H180v160Zm220 220h160v-160H400v160Zm0 220h160v-160H400v160ZM180-400h160v-160H180v160Zm440 0h160v-160H620v160ZM180-180h160v-160H180v160Zm440 0h160v-160H620v160Z\"/>\n",
              "  </svg>\n",
              "    </button>\n",
              "\n",
              "  <style>\n",
              "    .colab-df-container {\n",
              "      display:flex;\n",
              "      gap: 12px;\n",
              "    }\n",
              "\n",
              "    .colab-df-convert {\n",
              "      background-color: #E8F0FE;\n",
              "      border: none;\n",
              "      border-radius: 50%;\n",
              "      cursor: pointer;\n",
              "      display: none;\n",
              "      fill: #1967D2;\n",
              "      height: 32px;\n",
              "      padding: 0 0 0 0;\n",
              "      width: 32px;\n",
              "    }\n",
              "\n",
              "    .colab-df-convert:hover {\n",
              "      background-color: #E2EBFA;\n",
              "      box-shadow: 0px 1px 2px rgba(60, 64, 67, 0.3), 0px 1px 3px 1px rgba(60, 64, 67, 0.15);\n",
              "      fill: #174EA6;\n",
              "    }\n",
              "\n",
              "    .colab-df-buttons div {\n",
              "      margin-bottom: 4px;\n",
              "    }\n",
              "\n",
              "    [theme=dark] .colab-df-convert {\n",
              "      background-color: #3B4455;\n",
              "      fill: #D2E3FC;\n",
              "    }\n",
              "\n",
              "    [theme=dark] .colab-df-convert:hover {\n",
              "      background-color: #434B5C;\n",
              "      box-shadow: 0px 1px 3px 1px rgba(0, 0, 0, 0.15);\n",
              "      filter: drop-shadow(0px 1px 2px rgba(0, 0, 0, 0.3));\n",
              "      fill: #FFFFFF;\n",
              "    }\n",
              "  </style>\n",
              "\n",
              "    <script>\n",
              "      const buttonEl =\n",
              "        document.querySelector('#df-a5f89e2b-74ce-4018-a8e4-93e7cf804023 button.colab-df-convert');\n",
              "      buttonEl.style.display =\n",
              "        google.colab.kernel.accessAllowed ? 'block' : 'none';\n",
              "\n",
              "      async function convertToInteractive(key) {\n",
              "        const element = document.querySelector('#df-a5f89e2b-74ce-4018-a8e4-93e7cf804023');\n",
              "        const dataTable =\n",
              "          await google.colab.kernel.invokeFunction('convertToInteractive',\n",
              "                                                    [key], {});\n",
              "        if (!dataTable) return;\n",
              "\n",
              "        const docLinkHtml = 'Like what you see? Visit the ' +\n",
              "          '<a target=\"_blank\" href=https://colab.research.google.com/notebooks/data_table.ipynb>data table notebook</a>'\n",
              "          + ' to learn more about interactive tables.';\n",
              "        element.innerHTML = '';\n",
              "        dataTable['output_type'] = 'display_data';\n",
              "        await google.colab.output.renderOutput(dataTable, element);\n",
              "        const docLink = document.createElement('div');\n",
              "        docLink.innerHTML = docLinkHtml;\n",
              "        element.appendChild(docLink);\n",
              "      }\n",
              "    </script>\n",
              "  </div>\n",
              "\n",
              "\n",
              "    </div>\n",
              "  </div>\n"
            ],
            "application/vnd.google.colaboratory.intrinsic+json": {
              "type": "dataframe",
              "summary": "{\n  \"name\": \"trx[trx\",\n  \"rows\": 0,\n  \"fields\": [\n    {\n      \"column\": \"user_id\",\n      \"properties\": {\n        \"dtype\": \"string\",\n        \"num_unique_values\": 0,\n        \"samples\": [],\n        \"semantic_type\": \"\",\n        \"description\": \"\"\n      }\n    },\n    {\n      \"column\": \"date\",\n      \"properties\": {\n        \"dtype\": \"date\",\n        \"min\": \"NaT\",\n        \"max\": \"NaT\",\n        \"num_unique_values\": 0,\n        \"samples\": [],\n        \"semantic_type\": \"\",\n        \"description\": \"\"\n      }\n    },\n    {\n      \"column\": \"buy_saham_transaction_amount\",\n      \"properties\": {\n        \"dtype\": \"number\",\n        \"std\": null,\n        \"min\": null,\n        \"max\": null,\n        \"num_unique_values\": 0,\n        \"samples\": [],\n        \"semantic_type\": \"\",\n        \"description\": \"\"\n      }\n    },\n    {\n      \"column\": \"sell_saham_transaction_amount\",\n      \"properties\": {\n        \"dtype\": \"number\",\n        \"std\": null,\n        \"min\": null,\n        \"max\": null,\n        \"num_unique_values\": 0,\n        \"samples\": [],\n        \"semantic_type\": \"\",\n        \"description\": \"\"\n      }\n    },\n    {\n      \"column\": \"buy_pasar_uang_transaction_amount\",\n      \"properties\": {\n        \"dtype\": \"number\",\n        \"std\": null,\n        \"min\": null,\n        \"max\": null,\n        \"num_unique_values\": 0,\n        \"samples\": [],\n        \"semantic_type\": \"\",\n        \"description\": \"\"\n      }\n    },\n    {\n      \"column\": \"sell_pasar_uang_transaction_amount\",\n      \"properties\": {\n        \"dtype\": \"number\",\n        \"std\": null,\n        \"min\": null,\n        \"max\": null,\n        \"num_unique_values\": 0,\n        \"samples\": [],\n        \"semantic_type\": \"\",\n        \"description\": \"\"\n      }\n    },\n    {\n      \"column\": \"buy_pendapatan_tetap_transaction_amount\",\n      \"properties\": {\n        \"dtype\": \"number\",\n        \"std\": null,\n        \"min\": null,\n        \"max\": null,\n        \"num_unique_values\": 0,\n        \"samples\": [],\n        \"semantic_type\": \"\",\n        \"description\": \"\"\n      }\n    },\n    {\n      \"column\": \"sell_pendapatan_tetap_transaction_amount\",\n      \"properties\": {\n        \"dtype\": \"number\",\n        \"std\": null,\n        \"min\": null,\n        \"max\": null,\n        \"num_unique_values\": 0,\n        \"samples\": [],\n        \"semantic_type\": \"\",\n        \"description\": \"\"\n      }\n    },\n    {\n      \"column\": \"buy_campuran_transaction_amount\",\n      \"properties\": {\n        \"dtype\": \"number\",\n        \"std\": null,\n        \"min\": null,\n        \"max\": null,\n        \"num_unique_values\": 0,\n        \"samples\": [],\n        \"semantic_type\": \"\",\n        \"description\": \"\"\n      }\n    },\n    {\n      \"column\": \"sell_campuran_transaction_amount\",\n      \"properties\": {\n        \"dtype\": \"number\",\n        \"std\": null,\n        \"min\": null,\n        \"max\": null,\n        \"num_unique_values\": 0,\n        \"samples\": [],\n        \"semantic_type\": \"\",\n        \"description\": \"\"\n      }\n    },\n    {\n      \"column\": \"total_buy_transaction_amount\",\n      \"properties\": {\n        \"dtype\": \"number\",\n        \"std\": null,\n        \"min\": null,\n        \"max\": null,\n        \"num_unique_values\": 0,\n        \"samples\": [],\n        \"semantic_type\": \"\",\n        \"description\": \"\"\n      }\n    },\n    {\n      \"column\": \"total_sell_transaction_amount\",\n      \"properties\": {\n        \"dtype\": \"number\",\n        \"std\": null,\n        \"min\": null,\n        \"max\": null,\n        \"num_unique_values\": 0,\n        \"samples\": [],\n        \"semantic_type\": \"\",\n        \"description\": \"\"\n      }\n    },\n    {\n      \"column\": \"saham_invested_amount\",\n      \"properties\": {\n        \"dtype\": \"number\",\n        \"std\": null,\n        \"min\": null,\n        \"max\": null,\n        \"num_unique_values\": 0,\n        \"samples\": [],\n        \"semantic_type\": \"\",\n        \"description\": \"\"\n      }\n    },\n    {\n      \"column\": \"pasar_uang_invested_amount\",\n      \"properties\": {\n        \"dtype\": \"number\",\n        \"std\": null,\n        \"min\": null,\n        \"max\": null,\n        \"num_unique_values\": 0,\n        \"samples\": [],\n        \"semantic_type\": \"\",\n        \"description\": \"\"\n      }\n    },\n    {\n      \"column\": \"pendapatan_tetap_invested_amount\",\n      \"properties\": {\n        \"dtype\": \"number\",\n        \"std\": null,\n        \"min\": null,\n        \"max\": null,\n        \"num_unique_values\": 0,\n        \"samples\": [],\n        \"semantic_type\": \"\",\n        \"description\": \"\"\n      }\n    },\n    {\n      \"column\": \"campuran_invested_amount\",\n      \"properties\": {\n        \"dtype\": \"number\",\n        \"std\": null,\n        \"min\": null,\n        \"max\": null,\n        \"num_unique_values\": 0,\n        \"samples\": [],\n        \"semantic_type\": \"\",\n        \"description\": \"\"\n      }\n    },\n    {\n      \"column\": \"total_invested_amount\",\n      \"properties\": {\n        \"dtype\": \"number\",\n        \"std\": null,\n        \"min\": null,\n        \"max\": null,\n        \"num_unique_values\": 0,\n        \"samples\": [],\n        \"semantic_type\": \"\",\n        \"description\": \"\"\n      }\n    }\n  ]\n}"
            }
          },
          "metadata": {},
          "execution_count": 23
        }
      ],
      "source": [
        "trx[trx.duplicated()]"
      ]
    },
    {
      "cell_type": "markdown",
      "metadata": {
        "id": "gU2iVhVfRL8X"
      },
      "source": [
        "## Merge Data"
      ]
    },
    {
      "cell_type": "code",
      "execution_count": null,
      "metadata": {
        "colab": {
          "base_uri": "https://localhost:8080/",
          "height": 617
        },
        "id": "iIG_f672QZ7B",
        "outputId": "29e469c7-946c-4564-e28f-9a232e43259f"
      },
      "outputs": [
        {
          "output_type": "execute_result",
          "data": {
            "text/plain": [
              "        user_id registration_import_datetime user_gender  user_age  \\\n",
              "0       3816789          2021-08-12 07:19:32      Female        53   \n",
              "1       3816789          2021-08-12 07:19:32      Female        53   \n",
              "2       3816789          2021-08-12 07:19:32      Female        53   \n",
              "3       3816789          2021-08-12 07:19:32      Female        53   \n",
              "4       3816789          2021-08-12 07:19:32      Female        53   \n",
              "...         ...                          ...         ...       ...   \n",
              "158806  3881981          2021-08-22 19:27:20      Female        49   \n",
              "158807  3881981          2021-08-22 19:27:20      Female        49   \n",
              "158808  3881981          2021-08-22 19:27:20      Female        49   \n",
              "158809  3881981          2021-08-22 19:27:20      Female        49   \n",
              "158810  3881981          2021-08-22 19:27:20      Female        49   \n",
              "\n",
              "       user_occupation         user_income_range referral_code_used  \\\n",
              "0                  IRT   > Rp 50 Juta - 100 Juta           not used   \n",
              "1                  IRT   > Rp 50 Juta - 100 Juta           not used   \n",
              "2                  IRT   > Rp 50 Juta - 100 Juta           not used   \n",
              "3                  IRT   > Rp 50 Juta - 100 Juta           not used   \n",
              "4                  IRT   > Rp 50 Juta - 100 Juta           not used   \n",
              "...                ...                       ...                ...   \n",
              "158806       Pengusaha  > Rp 100 Juta - 500 Juta           not used   \n",
              "158807       Pengusaha  > Rp 100 Juta - 500 Juta           not used   \n",
              "158808       Pengusaha  > Rp 100 Juta - 500 Juta           not used   \n",
              "158809       Pengusaha  > Rp 100 Juta - 500 Juta           not used   \n",
              "158810       Pengusaha  > Rp 100 Juta - 500 Juta           not used   \n",
              "\n",
              "       user_income_source  end_of_month_invested_amount  total_buy_amount  \\\n",
              "0                    Gaji                        600000            100000   \n",
              "1                    Gaji                        600000            100000   \n",
              "2                    Gaji                        600000            100000   \n",
              "3                    Gaji                        600000            100000   \n",
              "4                    Gaji                        600000            100000   \n",
              "...                   ...                           ...               ...   \n",
              "158806  Keuntungan Bisnis                      71100000          60000000   \n",
              "158807  Keuntungan Bisnis                      71100000          60000000   \n",
              "158808  Keuntungan Bisnis                      71100000          60000000   \n",
              "158809  Keuntungan Bisnis                      71100000          60000000   \n",
              "158810  Keuntungan Bisnis                      71100000          60000000   \n",
              "\n",
              "        ...  sell_pendapatan_tetap_transaction_amount  \\\n",
              "0       ...                                       0.0   \n",
              "1       ...                                       0.0   \n",
              "2       ...                                       0.0   \n",
              "3       ...                                       0.0   \n",
              "4       ...                                       0.0   \n",
              "...     ...                                       ...   \n",
              "158806  ...                                       0.0   \n",
              "158807  ...                                       0.0   \n",
              "158808  ...                                       0.0   \n",
              "158809  ...                                       0.0   \n",
              "158810  ...                                       0.0   \n",
              "\n",
              "       buy_campuran_transaction_amount sell_campuran_transaction_amount  \\\n",
              "0                                  0.0                              0.0   \n",
              "1                                  0.0                              0.0   \n",
              "2                                  0.0                              0.0   \n",
              "3                                  0.0                              0.0   \n",
              "4                                  0.0                              0.0   \n",
              "...                                ...                              ...   \n",
              "158806                             0.0                              0.0   \n",
              "158807                             0.0                              0.0   \n",
              "158808                             0.0                              0.0   \n",
              "158809                             0.0                              0.0   \n",
              "158810                             0.0                              0.0   \n",
              "\n",
              "        total_buy_transaction_amount  total_sell_transaction_amount  \\\n",
              "0                                  0                              0   \n",
              "1                                  0                              0   \n",
              "2                                  0                              0   \n",
              "3                                  0                              0   \n",
              "4                                  0                              0   \n",
              "...                              ...                            ...   \n",
              "158806                             0                              0   \n",
              "158807                             0                              0   \n",
              "158808                             0                              0   \n",
              "158809                      10000000                              0   \n",
              "158810                             0                              0   \n",
              "\n",
              "        saham_invested_amount  pasar_uang_invested_amount  \\\n",
              "0                    190000.0                     40000.0   \n",
              "1                    190000.0                     40000.0   \n",
              "2                    190000.0                     40000.0   \n",
              "3                    190000.0                     40000.0   \n",
              "4                    190000.0                     40000.0   \n",
              "...                       ...                         ...   \n",
              "158806             10000000.0                  10100000.0   \n",
              "158807             10000000.0                  10100000.0   \n",
              "158808             10000000.0                  10100000.0   \n",
              "158809             20000000.0                  10100000.0   \n",
              "158810             20000000.0                  10100000.0   \n",
              "\n",
              "        pendapatan_tetap_invested_amount  campuran_invested_amount  \\\n",
              "0                               270000.0                       0.0   \n",
              "1                               270000.0                       0.0   \n",
              "2                               270000.0                       0.0   \n",
              "3                               270000.0                       0.0   \n",
              "4                               270000.0                       0.0   \n",
              "...                                  ...                       ...   \n",
              "158806                        41000000.0                       0.0   \n",
              "158807                        41000000.0                       0.0   \n",
              "158808                        41000000.0                       0.0   \n",
              "158809                        41000000.0                       0.0   \n",
              "158810                        41000000.0                       0.0   \n",
              "\n",
              "        total_invested_amount  \n",
              "0                      500000  \n",
              "1                      500000  \n",
              "2                      500000  \n",
              "3                      500000  \n",
              "4                      500000  \n",
              "...                       ...  \n",
              "158806               61100000  \n",
              "158807               61100000  \n",
              "158808               61100000  \n",
              "158809               71100000  \n",
              "158810               71100000  \n",
              "\n",
              "[158811 rows x 28 columns]"
            ],
            "text/html": [
              "\n",
              "  <div id=\"df-088b2cb4-c5bd-4079-b576-f254989b4408\" class=\"colab-df-container\">\n",
              "    <div>\n",
              "<style scoped>\n",
              "    .dataframe tbody tr th:only-of-type {\n",
              "        vertical-align: middle;\n",
              "    }\n",
              "\n",
              "    .dataframe tbody tr th {\n",
              "        vertical-align: top;\n",
              "    }\n",
              "\n",
              "    .dataframe thead th {\n",
              "        text-align: right;\n",
              "    }\n",
              "</style>\n",
              "<table border=\"1\" class=\"dataframe\">\n",
              "  <thead>\n",
              "    <tr style=\"text-align: right;\">\n",
              "      <th></th>\n",
              "      <th>user_id</th>\n",
              "      <th>registration_import_datetime</th>\n",
              "      <th>user_gender</th>\n",
              "      <th>user_age</th>\n",
              "      <th>user_occupation</th>\n",
              "      <th>user_income_range</th>\n",
              "      <th>referral_code_used</th>\n",
              "      <th>user_income_source</th>\n",
              "      <th>end_of_month_invested_amount</th>\n",
              "      <th>total_buy_amount</th>\n",
              "      <th>...</th>\n",
              "      <th>sell_pendapatan_tetap_transaction_amount</th>\n",
              "      <th>buy_campuran_transaction_amount</th>\n",
              "      <th>sell_campuran_transaction_amount</th>\n",
              "      <th>total_buy_transaction_amount</th>\n",
              "      <th>total_sell_transaction_amount</th>\n",
              "      <th>saham_invested_amount</th>\n",
              "      <th>pasar_uang_invested_amount</th>\n",
              "      <th>pendapatan_tetap_invested_amount</th>\n",
              "      <th>campuran_invested_amount</th>\n",
              "      <th>total_invested_amount</th>\n",
              "    </tr>\n",
              "  </thead>\n",
              "  <tbody>\n",
              "    <tr>\n",
              "      <th>0</th>\n",
              "      <td>3816789</td>\n",
              "      <td>2021-08-12 07:19:32</td>\n",
              "      <td>Female</td>\n",
              "      <td>53</td>\n",
              "      <td>IRT</td>\n",
              "      <td>&gt; Rp 50 Juta - 100 Juta</td>\n",
              "      <td>not used</td>\n",
              "      <td>Gaji</td>\n",
              "      <td>600000</td>\n",
              "      <td>100000</td>\n",
              "      <td>...</td>\n",
              "      <td>0.0</td>\n",
              "      <td>0.0</td>\n",
              "      <td>0.0</td>\n",
              "      <td>0</td>\n",
              "      <td>0</td>\n",
              "      <td>190000.0</td>\n",
              "      <td>40000.0</td>\n",
              "      <td>270000.0</td>\n",
              "      <td>0.0</td>\n",
              "      <td>500000</td>\n",
              "    </tr>\n",
              "    <tr>\n",
              "      <th>1</th>\n",
              "      <td>3816789</td>\n",
              "      <td>2021-08-12 07:19:32</td>\n",
              "      <td>Female</td>\n",
              "      <td>53</td>\n",
              "      <td>IRT</td>\n",
              "      <td>&gt; Rp 50 Juta - 100 Juta</td>\n",
              "      <td>not used</td>\n",
              "      <td>Gaji</td>\n",
              "      <td>600000</td>\n",
              "      <td>100000</td>\n",
              "      <td>...</td>\n",
              "      <td>0.0</td>\n",
              "      <td>0.0</td>\n",
              "      <td>0.0</td>\n",
              "      <td>0</td>\n",
              "      <td>0</td>\n",
              "      <td>190000.0</td>\n",
              "      <td>40000.0</td>\n",
              "      <td>270000.0</td>\n",
              "      <td>0.0</td>\n",
              "      <td>500000</td>\n",
              "    </tr>\n",
              "    <tr>\n",
              "      <th>2</th>\n",
              "      <td>3816789</td>\n",
              "      <td>2021-08-12 07:19:32</td>\n",
              "      <td>Female</td>\n",
              "      <td>53</td>\n",
              "      <td>IRT</td>\n",
              "      <td>&gt; Rp 50 Juta - 100 Juta</td>\n",
              "      <td>not used</td>\n",
              "      <td>Gaji</td>\n",
              "      <td>600000</td>\n",
              "      <td>100000</td>\n",
              "      <td>...</td>\n",
              "      <td>0.0</td>\n",
              "      <td>0.0</td>\n",
              "      <td>0.0</td>\n",
              "      <td>0</td>\n",
              "      <td>0</td>\n",
              "      <td>190000.0</td>\n",
              "      <td>40000.0</td>\n",
              "      <td>270000.0</td>\n",
              "      <td>0.0</td>\n",
              "      <td>500000</td>\n",
              "    </tr>\n",
              "    <tr>\n",
              "      <th>3</th>\n",
              "      <td>3816789</td>\n",
              "      <td>2021-08-12 07:19:32</td>\n",
              "      <td>Female</td>\n",
              "      <td>53</td>\n",
              "      <td>IRT</td>\n",
              "      <td>&gt; Rp 50 Juta - 100 Juta</td>\n",
              "      <td>not used</td>\n",
              "      <td>Gaji</td>\n",
              "      <td>600000</td>\n",
              "      <td>100000</td>\n",
              "      <td>...</td>\n",
              "      <td>0.0</td>\n",
              "      <td>0.0</td>\n",
              "      <td>0.0</td>\n",
              "      <td>0</td>\n",
              "      <td>0</td>\n",
              "      <td>190000.0</td>\n",
              "      <td>40000.0</td>\n",
              "      <td>270000.0</td>\n",
              "      <td>0.0</td>\n",
              "      <td>500000</td>\n",
              "    </tr>\n",
              "    <tr>\n",
              "      <th>4</th>\n",
              "      <td>3816789</td>\n",
              "      <td>2021-08-12 07:19:32</td>\n",
              "      <td>Female</td>\n",
              "      <td>53</td>\n",
              "      <td>IRT</td>\n",
              "      <td>&gt; Rp 50 Juta - 100 Juta</td>\n",
              "      <td>not used</td>\n",
              "      <td>Gaji</td>\n",
              "      <td>600000</td>\n",
              "      <td>100000</td>\n",
              "      <td>...</td>\n",
              "      <td>0.0</td>\n",
              "      <td>0.0</td>\n",
              "      <td>0.0</td>\n",
              "      <td>0</td>\n",
              "      <td>0</td>\n",
              "      <td>190000.0</td>\n",
              "      <td>40000.0</td>\n",
              "      <td>270000.0</td>\n",
              "      <td>0.0</td>\n",
              "      <td>500000</td>\n",
              "    </tr>\n",
              "    <tr>\n",
              "      <th>...</th>\n",
              "      <td>...</td>\n",
              "      <td>...</td>\n",
              "      <td>...</td>\n",
              "      <td>...</td>\n",
              "      <td>...</td>\n",
              "      <td>...</td>\n",
              "      <td>...</td>\n",
              "      <td>...</td>\n",
              "      <td>...</td>\n",
              "      <td>...</td>\n",
              "      <td>...</td>\n",
              "      <td>...</td>\n",
              "      <td>...</td>\n",
              "      <td>...</td>\n",
              "      <td>...</td>\n",
              "      <td>...</td>\n",
              "      <td>...</td>\n",
              "      <td>...</td>\n",
              "      <td>...</td>\n",
              "      <td>...</td>\n",
              "      <td>...</td>\n",
              "    </tr>\n",
              "    <tr>\n",
              "      <th>158806</th>\n",
              "      <td>3881981</td>\n",
              "      <td>2021-08-22 19:27:20</td>\n",
              "      <td>Female</td>\n",
              "      <td>49</td>\n",
              "      <td>Pengusaha</td>\n",
              "      <td>&gt; Rp 100 Juta - 500 Juta</td>\n",
              "      <td>not used</td>\n",
              "      <td>Keuntungan Bisnis</td>\n",
              "      <td>71100000</td>\n",
              "      <td>60000000</td>\n",
              "      <td>...</td>\n",
              "      <td>0.0</td>\n",
              "      <td>0.0</td>\n",
              "      <td>0.0</td>\n",
              "      <td>0</td>\n",
              "      <td>0</td>\n",
              "      <td>10000000.0</td>\n",
              "      <td>10100000.0</td>\n",
              "      <td>41000000.0</td>\n",
              "      <td>0.0</td>\n",
              "      <td>61100000</td>\n",
              "    </tr>\n",
              "    <tr>\n",
              "      <th>158807</th>\n",
              "      <td>3881981</td>\n",
              "      <td>2021-08-22 19:27:20</td>\n",
              "      <td>Female</td>\n",
              "      <td>49</td>\n",
              "      <td>Pengusaha</td>\n",
              "      <td>&gt; Rp 100 Juta - 500 Juta</td>\n",
              "      <td>not used</td>\n",
              "      <td>Keuntungan Bisnis</td>\n",
              "      <td>71100000</td>\n",
              "      <td>60000000</td>\n",
              "      <td>...</td>\n",
              "      <td>0.0</td>\n",
              "      <td>0.0</td>\n",
              "      <td>0.0</td>\n",
              "      <td>0</td>\n",
              "      <td>0</td>\n",
              "      <td>10000000.0</td>\n",
              "      <td>10100000.0</td>\n",
              "      <td>41000000.0</td>\n",
              "      <td>0.0</td>\n",
              "      <td>61100000</td>\n",
              "    </tr>\n",
              "    <tr>\n",
              "      <th>158808</th>\n",
              "      <td>3881981</td>\n",
              "      <td>2021-08-22 19:27:20</td>\n",
              "      <td>Female</td>\n",
              "      <td>49</td>\n",
              "      <td>Pengusaha</td>\n",
              "      <td>&gt; Rp 100 Juta - 500 Juta</td>\n",
              "      <td>not used</td>\n",
              "      <td>Keuntungan Bisnis</td>\n",
              "      <td>71100000</td>\n",
              "      <td>60000000</td>\n",
              "      <td>...</td>\n",
              "      <td>0.0</td>\n",
              "      <td>0.0</td>\n",
              "      <td>0.0</td>\n",
              "      <td>0</td>\n",
              "      <td>0</td>\n",
              "      <td>10000000.0</td>\n",
              "      <td>10100000.0</td>\n",
              "      <td>41000000.0</td>\n",
              "      <td>0.0</td>\n",
              "      <td>61100000</td>\n",
              "    </tr>\n",
              "    <tr>\n",
              "      <th>158809</th>\n",
              "      <td>3881981</td>\n",
              "      <td>2021-08-22 19:27:20</td>\n",
              "      <td>Female</td>\n",
              "      <td>49</td>\n",
              "      <td>Pengusaha</td>\n",
              "      <td>&gt; Rp 100 Juta - 500 Juta</td>\n",
              "      <td>not used</td>\n",
              "      <td>Keuntungan Bisnis</td>\n",
              "      <td>71100000</td>\n",
              "      <td>60000000</td>\n",
              "      <td>...</td>\n",
              "      <td>0.0</td>\n",
              "      <td>0.0</td>\n",
              "      <td>0.0</td>\n",
              "      <td>10000000</td>\n",
              "      <td>0</td>\n",
              "      <td>20000000.0</td>\n",
              "      <td>10100000.0</td>\n",
              "      <td>41000000.0</td>\n",
              "      <td>0.0</td>\n",
              "      <td>71100000</td>\n",
              "    </tr>\n",
              "    <tr>\n",
              "      <th>158810</th>\n",
              "      <td>3881981</td>\n",
              "      <td>2021-08-22 19:27:20</td>\n",
              "      <td>Female</td>\n",
              "      <td>49</td>\n",
              "      <td>Pengusaha</td>\n",
              "      <td>&gt; Rp 100 Juta - 500 Juta</td>\n",
              "      <td>not used</td>\n",
              "      <td>Keuntungan Bisnis</td>\n",
              "      <td>71100000</td>\n",
              "      <td>60000000</td>\n",
              "      <td>...</td>\n",
              "      <td>0.0</td>\n",
              "      <td>0.0</td>\n",
              "      <td>0.0</td>\n",
              "      <td>0</td>\n",
              "      <td>0</td>\n",
              "      <td>20000000.0</td>\n",
              "      <td>10100000.0</td>\n",
              "      <td>41000000.0</td>\n",
              "      <td>0.0</td>\n",
              "      <td>71100000</td>\n",
              "    </tr>\n",
              "  </tbody>\n",
              "</table>\n",
              "<p>158811 rows × 28 columns</p>\n",
              "</div>\n",
              "    <div class=\"colab-df-buttons\">\n",
              "\n",
              "  <div class=\"colab-df-container\">\n",
              "    <button class=\"colab-df-convert\" onclick=\"convertToInteractive('df-088b2cb4-c5bd-4079-b576-f254989b4408')\"\n",
              "            title=\"Convert this dataframe to an interactive table.\"\n",
              "            style=\"display:none;\">\n",
              "\n",
              "  <svg xmlns=\"http://www.w3.org/2000/svg\" height=\"24px\" viewBox=\"0 -960 960 960\">\n",
              "    <path d=\"M120-120v-720h720v720H120Zm60-500h600v-160H180v160Zm220 220h160v-160H400v160Zm0 220h160v-160H400v160ZM180-400h160v-160H180v160Zm440 0h160v-160H620v160ZM180-180h160v-160H180v160Zm440 0h160v-160H620v160Z\"/>\n",
              "  </svg>\n",
              "    </button>\n",
              "\n",
              "  <style>\n",
              "    .colab-df-container {\n",
              "      display:flex;\n",
              "      gap: 12px;\n",
              "    }\n",
              "\n",
              "    .colab-df-convert {\n",
              "      background-color: #E8F0FE;\n",
              "      border: none;\n",
              "      border-radius: 50%;\n",
              "      cursor: pointer;\n",
              "      display: none;\n",
              "      fill: #1967D2;\n",
              "      height: 32px;\n",
              "      padding: 0 0 0 0;\n",
              "      width: 32px;\n",
              "    }\n",
              "\n",
              "    .colab-df-convert:hover {\n",
              "      background-color: #E2EBFA;\n",
              "      box-shadow: 0px 1px 2px rgba(60, 64, 67, 0.3), 0px 1px 3px 1px rgba(60, 64, 67, 0.15);\n",
              "      fill: #174EA6;\n",
              "    }\n",
              "\n",
              "    .colab-df-buttons div {\n",
              "      margin-bottom: 4px;\n",
              "    }\n",
              "\n",
              "    [theme=dark] .colab-df-convert {\n",
              "      background-color: #3B4455;\n",
              "      fill: #D2E3FC;\n",
              "    }\n",
              "\n",
              "    [theme=dark] .colab-df-convert:hover {\n",
              "      background-color: #434B5C;\n",
              "      box-shadow: 0px 1px 3px 1px rgba(0, 0, 0, 0.15);\n",
              "      filter: drop-shadow(0px 1px 2px rgba(0, 0, 0, 0.3));\n",
              "      fill: #FFFFFF;\n",
              "    }\n",
              "  </style>\n",
              "\n",
              "    <script>\n",
              "      const buttonEl =\n",
              "        document.querySelector('#df-088b2cb4-c5bd-4079-b576-f254989b4408 button.colab-df-convert');\n",
              "      buttonEl.style.display =\n",
              "        google.colab.kernel.accessAllowed ? 'block' : 'none';\n",
              "\n",
              "      async function convertToInteractive(key) {\n",
              "        const element = document.querySelector('#df-088b2cb4-c5bd-4079-b576-f254989b4408');\n",
              "        const dataTable =\n",
              "          await google.colab.kernel.invokeFunction('convertToInteractive',\n",
              "                                                    [key], {});\n",
              "        if (!dataTable) return;\n",
              "\n",
              "        const docLinkHtml = 'Like what you see? Visit the ' +\n",
              "          '<a target=\"_blank\" href=https://colab.research.google.com/notebooks/data_table.ipynb>data table notebook</a>'\n",
              "          + ' to learn more about interactive tables.';\n",
              "        element.innerHTML = '';\n",
              "        dataTable['output_type'] = 'display_data';\n",
              "        await google.colab.output.renderOutput(dataTable, element);\n",
              "        const docLink = document.createElement('div');\n",
              "        docLink.innerHTML = docLinkHtml;\n",
              "        element.appendChild(docLink);\n",
              "      }\n",
              "    </script>\n",
              "  </div>\n",
              "\n",
              "\n",
              "<div id=\"df-97b5397c-7a55-459d-a87a-1abbaef5996a\">\n",
              "  <button class=\"colab-df-quickchart\" onclick=\"quickchart('df-97b5397c-7a55-459d-a87a-1abbaef5996a')\"\n",
              "            title=\"Suggest charts\"\n",
              "            style=\"display:none;\">\n",
              "\n",
              "<svg xmlns=\"http://www.w3.org/2000/svg\" height=\"24px\"viewBox=\"0 0 24 24\"\n",
              "     width=\"24px\">\n",
              "    <g>\n",
              "        <path d=\"M19 3H5c-1.1 0-2 .9-2 2v14c0 1.1.9 2 2 2h14c1.1 0 2-.9 2-2V5c0-1.1-.9-2-2-2zM9 17H7v-7h2v7zm4 0h-2V7h2v10zm4 0h-2v-4h2v4z\"/>\n",
              "    </g>\n",
              "</svg>\n",
              "  </button>\n",
              "\n",
              "<style>\n",
              "  .colab-df-quickchart {\n",
              "      --bg-color: #E8F0FE;\n",
              "      --fill-color: #1967D2;\n",
              "      --hover-bg-color: #E2EBFA;\n",
              "      --hover-fill-color: #174EA6;\n",
              "      --disabled-fill-color: #AAA;\n",
              "      --disabled-bg-color: #DDD;\n",
              "  }\n",
              "\n",
              "  [theme=dark] .colab-df-quickchart {\n",
              "      --bg-color: #3B4455;\n",
              "      --fill-color: #D2E3FC;\n",
              "      --hover-bg-color: #434B5C;\n",
              "      --hover-fill-color: #FFFFFF;\n",
              "      --disabled-bg-color: #3B4455;\n",
              "      --disabled-fill-color: #666;\n",
              "  }\n",
              "\n",
              "  .colab-df-quickchart {\n",
              "    background-color: var(--bg-color);\n",
              "    border: none;\n",
              "    border-radius: 50%;\n",
              "    cursor: pointer;\n",
              "    display: none;\n",
              "    fill: var(--fill-color);\n",
              "    height: 32px;\n",
              "    padding: 0;\n",
              "    width: 32px;\n",
              "  }\n",
              "\n",
              "  .colab-df-quickchart:hover {\n",
              "    background-color: var(--hover-bg-color);\n",
              "    box-shadow: 0 1px 2px rgba(60, 64, 67, 0.3), 0 1px 3px 1px rgba(60, 64, 67, 0.15);\n",
              "    fill: var(--button-hover-fill-color);\n",
              "  }\n",
              "\n",
              "  .colab-df-quickchart-complete:disabled,\n",
              "  .colab-df-quickchart-complete:disabled:hover {\n",
              "    background-color: var(--disabled-bg-color);\n",
              "    fill: var(--disabled-fill-color);\n",
              "    box-shadow: none;\n",
              "  }\n",
              "\n",
              "  .colab-df-spinner {\n",
              "    border: 2px solid var(--fill-color);\n",
              "    border-color: transparent;\n",
              "    border-bottom-color: var(--fill-color);\n",
              "    animation:\n",
              "      spin 1s steps(1) infinite;\n",
              "  }\n",
              "\n",
              "  @keyframes spin {\n",
              "    0% {\n",
              "      border-color: transparent;\n",
              "      border-bottom-color: var(--fill-color);\n",
              "      border-left-color: var(--fill-color);\n",
              "    }\n",
              "    20% {\n",
              "      border-color: transparent;\n",
              "      border-left-color: var(--fill-color);\n",
              "      border-top-color: var(--fill-color);\n",
              "    }\n",
              "    30% {\n",
              "      border-color: transparent;\n",
              "      border-left-color: var(--fill-color);\n",
              "      border-top-color: var(--fill-color);\n",
              "      border-right-color: var(--fill-color);\n",
              "    }\n",
              "    40% {\n",
              "      border-color: transparent;\n",
              "      border-right-color: var(--fill-color);\n",
              "      border-top-color: var(--fill-color);\n",
              "    }\n",
              "    60% {\n",
              "      border-color: transparent;\n",
              "      border-right-color: var(--fill-color);\n",
              "    }\n",
              "    80% {\n",
              "      border-color: transparent;\n",
              "      border-right-color: var(--fill-color);\n",
              "      border-bottom-color: var(--fill-color);\n",
              "    }\n",
              "    90% {\n",
              "      border-color: transparent;\n",
              "      border-bottom-color: var(--fill-color);\n",
              "    }\n",
              "  }\n",
              "</style>\n",
              "\n",
              "  <script>\n",
              "    async function quickchart(key) {\n",
              "      const quickchartButtonEl =\n",
              "        document.querySelector('#' + key + ' button');\n",
              "      quickchartButtonEl.disabled = true;  // To prevent multiple clicks.\n",
              "      quickchartButtonEl.classList.add('colab-df-spinner');\n",
              "      try {\n",
              "        const charts = await google.colab.kernel.invokeFunction(\n",
              "            'suggestCharts', [key], {});\n",
              "      } catch (error) {\n",
              "        console.error('Error during call to suggestCharts:', error);\n",
              "      }\n",
              "      quickchartButtonEl.classList.remove('colab-df-spinner');\n",
              "      quickchartButtonEl.classList.add('colab-df-quickchart-complete');\n",
              "    }\n",
              "    (() => {\n",
              "      let quickchartButtonEl =\n",
              "        document.querySelector('#df-97b5397c-7a55-459d-a87a-1abbaef5996a button');\n",
              "      quickchartButtonEl.style.display =\n",
              "        google.colab.kernel.accessAllowed ? 'block' : 'none';\n",
              "    })();\n",
              "  </script>\n",
              "</div>\n",
              "\n",
              "  <div id=\"id_f3e2acf7-40bb-40ab-a584-70e7232f7ddb\">\n",
              "    <style>\n",
              "      .colab-df-generate {\n",
              "        background-color: #E8F0FE;\n",
              "        border: none;\n",
              "        border-radius: 50%;\n",
              "        cursor: pointer;\n",
              "        display: none;\n",
              "        fill: #1967D2;\n",
              "        height: 32px;\n",
              "        padding: 0 0 0 0;\n",
              "        width: 32px;\n",
              "      }\n",
              "\n",
              "      .colab-df-generate:hover {\n",
              "        background-color: #E2EBFA;\n",
              "        box-shadow: 0px 1px 2px rgba(60, 64, 67, 0.3), 0px 1px 3px 1px rgba(60, 64, 67, 0.15);\n",
              "        fill: #174EA6;\n",
              "      }\n",
              "\n",
              "      [theme=dark] .colab-df-generate {\n",
              "        background-color: #3B4455;\n",
              "        fill: #D2E3FC;\n",
              "      }\n",
              "\n",
              "      [theme=dark] .colab-df-generate:hover {\n",
              "        background-color: #434B5C;\n",
              "        box-shadow: 0px 1px 3px 1px rgba(0, 0, 0, 0.15);\n",
              "        filter: drop-shadow(0px 1px 2px rgba(0, 0, 0, 0.3));\n",
              "        fill: #FFFFFF;\n",
              "      }\n",
              "    </style>\n",
              "    <button class=\"colab-df-generate\" onclick=\"generateWithVariable('df_merged')\"\n",
              "            title=\"Generate code using this dataframe.\"\n",
              "            style=\"display:none;\">\n",
              "\n",
              "  <svg xmlns=\"http://www.w3.org/2000/svg\" height=\"24px\"viewBox=\"0 0 24 24\"\n",
              "       width=\"24px\">\n",
              "    <path d=\"M7,19H8.4L18.45,9,17,7.55,7,17.6ZM5,21V16.75L18.45,3.32a2,2,0,0,1,2.83,0l1.4,1.43a1.91,1.91,0,0,1,.58,1.4,1.91,1.91,0,0,1-.58,1.4L9.25,21ZM18.45,9,17,7.55Zm-12,3A5.31,5.31,0,0,0,4.9,8.1,5.31,5.31,0,0,0,1,6.5,5.31,5.31,0,0,0,4.9,4.9,5.31,5.31,0,0,0,6.5,1,5.31,5.31,0,0,0,8.1,4.9,5.31,5.31,0,0,0,12,6.5,5.46,5.46,0,0,0,6.5,12Z\"/>\n",
              "  </svg>\n",
              "    </button>\n",
              "    <script>\n",
              "      (() => {\n",
              "      const buttonEl =\n",
              "        document.querySelector('#id_f3e2acf7-40bb-40ab-a584-70e7232f7ddb button.colab-df-generate');\n",
              "      buttonEl.style.display =\n",
              "        google.colab.kernel.accessAllowed ? 'block' : 'none';\n",
              "\n",
              "      buttonEl.onclick = () => {\n",
              "        google.colab.notebook.generateWithVariable('df_merged');\n",
              "      }\n",
              "      })();\n",
              "    </script>\n",
              "  </div>\n",
              "\n",
              "    </div>\n",
              "  </div>\n"
            ],
            "application/vnd.google.colaboratory.intrinsic+json": {
              "type": "dataframe",
              "variable_name": "df_merged"
            }
          },
          "metadata": {},
          "execution_count": 24
        }
      ],
      "source": [
        "#Merge the table\n",
        "#Since we want to analyze the user and the daily transaction, it is feels right to have both data available and none of them are null\n",
        "#Thats why we use inner join\n",
        "df_merged = user.merge(trx, how='inner', left_on =['user_id'], right_on = ['user_id'])\n",
        "df_merged"
      ]
    },
    {
      "cell_type": "code",
      "execution_count": null,
      "metadata": {
        "colab": {
          "base_uri": "https://localhost:8080/"
        },
        "id": "Q-ykX7joQZ9v",
        "outputId": "7cb98aac-7bf9-4489-db10-fb933c1d477c"
      },
      "outputs": [
        {
          "output_type": "stream",
          "name": "stdout",
          "text": [
            "<class 'pandas.core.frame.DataFrame'>\n",
            "RangeIndex: 158811 entries, 0 to 158810\n",
            "Data columns (total 28 columns):\n",
            " #   Column                                    Non-Null Count   Dtype         \n",
            "---  ------                                    --------------   -----         \n",
            " 0   user_id                                   158811 non-null  string        \n",
            " 1   registration_import_datetime              158811 non-null  datetime64[ns]\n",
            " 2   user_gender                               158811 non-null  object        \n",
            " 3   user_age                                  158811 non-null  int64         \n",
            " 4   user_occupation                           158811 non-null  object        \n",
            " 5   user_income_range                         158811 non-null  object        \n",
            " 6   referral_code_used                        158811 non-null  object        \n",
            " 7   user_income_source                        158811 non-null  object        \n",
            " 8   end_of_month_invested_amount              158811 non-null  int64         \n",
            " 9   total_buy_amount                          158811 non-null  int64         \n",
            " 10  total_sell_amount                         158811 non-null  int64         \n",
            " 11  user_generation                           158811 non-null  object        \n",
            " 12  date                                      158811 non-null  datetime64[ns]\n",
            " 13  buy_saham_transaction_amount              158811 non-null  float64       \n",
            " 14  sell_saham_transaction_amount             158811 non-null  float64       \n",
            " 15  buy_pasar_uang_transaction_amount         158811 non-null  float64       \n",
            " 16  sell_pasar_uang_transaction_amount        158811 non-null  float64       \n",
            " 17  buy_pendapatan_tetap_transaction_amount   158811 non-null  float64       \n",
            " 18  sell_pendapatan_tetap_transaction_amount  158811 non-null  float64       \n",
            " 19  buy_campuran_transaction_amount           158811 non-null  float64       \n",
            " 20  sell_campuran_transaction_amount          158811 non-null  float64       \n",
            " 21  total_buy_transaction_amount              158811 non-null  int64         \n",
            " 22  total_sell_transaction_amount             158811 non-null  int64         \n",
            " 23  saham_invested_amount                     158811 non-null  float64       \n",
            " 24  pasar_uang_invested_amount                158811 non-null  float64       \n",
            " 25  pendapatan_tetap_invested_amount          158811 non-null  float64       \n",
            " 26  campuran_invested_amount                  158811 non-null  float64       \n",
            " 27  total_invested_amount                     158811 non-null  int64         \n",
            "dtypes: datetime64[ns](2), float64(12), int64(7), object(6), string(1)\n",
            "memory usage: 33.9+ MB\n"
          ]
        }
      ],
      "source": [
        "df_merged.info()"
      ]
    },
    {
      "cell_type": "code",
      "execution_count": null,
      "metadata": {
        "id": "l3RLZwNxHbYZ"
      },
      "outputs": [],
      "source": [
        "df_merged.loc[df_merged['user_age'] > 40, 'user_generation'] = 'Gen-X'\n",
        "df_merged.loc[df_merged['user_age'].between(25,40), 'user_generation'] = 'Gen-Y'\n",
        "df_merged.loc[df_merged['user_age'] <= 24, 'user_generation'] = 'Gen-Z'"
      ]
    },
    {
      "cell_type": "code",
      "execution_count": null,
      "metadata": {
        "colab": {
          "base_uri": "https://localhost:8080/",
          "height": 962
        },
        "id": "foyppnfgQaAw",
        "outputId": "925e46fa-2e31-46e8-89d1-90e8631dc1c6"
      },
      "outputs": [
        {
          "output_type": "execute_result",
          "data": {
            "text/plain": [
              "user_id                                     0\n",
              "registration_import_datetime                0\n",
              "user_gender                                 0\n",
              "user_age                                    0\n",
              "user_occupation                             0\n",
              "user_income_range                           0\n",
              "referral_code_used                          0\n",
              "user_income_source                          0\n",
              "end_of_month_invested_amount                0\n",
              "total_buy_amount                            0\n",
              "total_sell_amount                           0\n",
              "user_generation                             0\n",
              "date                                        0\n",
              "buy_saham_transaction_amount                0\n",
              "sell_saham_transaction_amount               0\n",
              "buy_pasar_uang_transaction_amount           0\n",
              "sell_pasar_uang_transaction_amount          0\n",
              "buy_pendapatan_tetap_transaction_amount     0\n",
              "sell_pendapatan_tetap_transaction_amount    0\n",
              "buy_campuran_transaction_amount             0\n",
              "sell_campuran_transaction_amount            0\n",
              "total_buy_transaction_amount                0\n",
              "total_sell_transaction_amount               0\n",
              "saham_invested_amount                       0\n",
              "pasar_uang_invested_amount                  0\n",
              "pendapatan_tetap_invested_amount            0\n",
              "campuran_invested_amount                    0\n",
              "total_invested_amount                       0\n",
              "dtype: int64"
            ],
            "text/html": [
              "<div>\n",
              "<style scoped>\n",
              "    .dataframe tbody tr th:only-of-type {\n",
              "        vertical-align: middle;\n",
              "    }\n",
              "\n",
              "    .dataframe tbody tr th {\n",
              "        vertical-align: top;\n",
              "    }\n",
              "\n",
              "    .dataframe thead th {\n",
              "        text-align: right;\n",
              "    }\n",
              "</style>\n",
              "<table border=\"1\" class=\"dataframe\">\n",
              "  <thead>\n",
              "    <tr style=\"text-align: right;\">\n",
              "      <th></th>\n",
              "      <th>0</th>\n",
              "    </tr>\n",
              "  </thead>\n",
              "  <tbody>\n",
              "    <tr>\n",
              "      <th>user_id</th>\n",
              "      <td>0</td>\n",
              "    </tr>\n",
              "    <tr>\n",
              "      <th>registration_import_datetime</th>\n",
              "      <td>0</td>\n",
              "    </tr>\n",
              "    <tr>\n",
              "      <th>user_gender</th>\n",
              "      <td>0</td>\n",
              "    </tr>\n",
              "    <tr>\n",
              "      <th>user_age</th>\n",
              "      <td>0</td>\n",
              "    </tr>\n",
              "    <tr>\n",
              "      <th>user_occupation</th>\n",
              "      <td>0</td>\n",
              "    </tr>\n",
              "    <tr>\n",
              "      <th>user_income_range</th>\n",
              "      <td>0</td>\n",
              "    </tr>\n",
              "    <tr>\n",
              "      <th>referral_code_used</th>\n",
              "      <td>0</td>\n",
              "    </tr>\n",
              "    <tr>\n",
              "      <th>user_income_source</th>\n",
              "      <td>0</td>\n",
              "    </tr>\n",
              "    <tr>\n",
              "      <th>end_of_month_invested_amount</th>\n",
              "      <td>0</td>\n",
              "    </tr>\n",
              "    <tr>\n",
              "      <th>total_buy_amount</th>\n",
              "      <td>0</td>\n",
              "    </tr>\n",
              "    <tr>\n",
              "      <th>total_sell_amount</th>\n",
              "      <td>0</td>\n",
              "    </tr>\n",
              "    <tr>\n",
              "      <th>user_generation</th>\n",
              "      <td>0</td>\n",
              "    </tr>\n",
              "    <tr>\n",
              "      <th>date</th>\n",
              "      <td>0</td>\n",
              "    </tr>\n",
              "    <tr>\n",
              "      <th>buy_saham_transaction_amount</th>\n",
              "      <td>0</td>\n",
              "    </tr>\n",
              "    <tr>\n",
              "      <th>sell_saham_transaction_amount</th>\n",
              "      <td>0</td>\n",
              "    </tr>\n",
              "    <tr>\n",
              "      <th>buy_pasar_uang_transaction_amount</th>\n",
              "      <td>0</td>\n",
              "    </tr>\n",
              "    <tr>\n",
              "      <th>sell_pasar_uang_transaction_amount</th>\n",
              "      <td>0</td>\n",
              "    </tr>\n",
              "    <tr>\n",
              "      <th>buy_pendapatan_tetap_transaction_amount</th>\n",
              "      <td>0</td>\n",
              "    </tr>\n",
              "    <tr>\n",
              "      <th>sell_pendapatan_tetap_transaction_amount</th>\n",
              "      <td>0</td>\n",
              "    </tr>\n",
              "    <tr>\n",
              "      <th>buy_campuran_transaction_amount</th>\n",
              "      <td>0</td>\n",
              "    </tr>\n",
              "    <tr>\n",
              "      <th>sell_campuran_transaction_amount</th>\n",
              "      <td>0</td>\n",
              "    </tr>\n",
              "    <tr>\n",
              "      <th>total_buy_transaction_amount</th>\n",
              "      <td>0</td>\n",
              "    </tr>\n",
              "    <tr>\n",
              "      <th>total_sell_transaction_amount</th>\n",
              "      <td>0</td>\n",
              "    </tr>\n",
              "    <tr>\n",
              "      <th>saham_invested_amount</th>\n",
              "      <td>0</td>\n",
              "    </tr>\n",
              "    <tr>\n",
              "      <th>pasar_uang_invested_amount</th>\n",
              "      <td>0</td>\n",
              "    </tr>\n",
              "    <tr>\n",
              "      <th>pendapatan_tetap_invested_amount</th>\n",
              "      <td>0</td>\n",
              "    </tr>\n",
              "    <tr>\n",
              "      <th>campuran_invested_amount</th>\n",
              "      <td>0</td>\n",
              "    </tr>\n",
              "    <tr>\n",
              "      <th>total_invested_amount</th>\n",
              "      <td>0</td>\n",
              "    </tr>\n",
              "  </tbody>\n",
              "</table>\n",
              "</div><br><label><b>dtype:</b> int64</label>"
            ]
          },
          "metadata": {},
          "execution_count": 27
        }
      ],
      "source": [
        "df_merged.isna().sum()"
      ]
    },
    {
      "cell_type": "markdown",
      "metadata": {
        "id": "kEZJw852IEIC"
      },
      "source": [
        "## Handling Outliers"
      ]
    },
    {
      "cell_type": "code",
      "execution_count": null,
      "metadata": {
        "id": "RM1AyAPmblAg"
      },
      "outputs": [],
      "source": [
        "df_merged2= df_merged.copy()\n",
        "item = df_merged2.columns.to_list()\n"
      ]
    },
    {
      "cell_type": "code",
      "execution_count": null,
      "metadata": {
        "id": "1BF21yQIjfgf"
      },
      "outputs": [],
      "source": [
        "\n",
        "item2 = ['user_generation','user_gender','user_income_source','user_income_range', 'user_occupation','referral_code_used','user_id','registration_import_datetime','date' ]\n",
        "numeric = list(set(item) - set(item2))"
      ]
    },
    {
      "cell_type": "code",
      "execution_count": null,
      "metadata": {
        "id": "TFdvinjiLXOA"
      },
      "outputs": [],
      "source": [
        "df_merged3 = df_merged2.replace(0, np.NaN, regex=True)"
      ]
    },
    {
      "cell_type": "code",
      "execution_count": null,
      "metadata": {
        "colab": {
          "base_uri": "https://localhost:8080/",
          "height": 776
        },
        "id": "fZAuZ5o7ipbI",
        "outputId": "50be1385-50f9-416f-d50a-ef24e803a8e9"
      },
      "outputs": [
        {
          "output_type": "display_data",
          "data": {
            "text/plain": [
              "<Figure size 2000x1000 with 20 Axes>"
            ],
            "image/png": "[encoded data removed]"
          },
          "metadata": {}
        }
      ],
      "source": [
        "\n",
        "fig, axes = plt.subplots(nrows=4, ncols=5,figsize=(20,10))\n",
        "for nomor, kolom in enumerate(numeric):\n",
        "  df_merged3.boxplot(kolom, ax=axes.flatten()[nomor],grid=False)\n",
        "plt.show()"
      ]
    },
    {
      "cell_type": "code",
      "execution_count": null,
      "metadata": {
        "colab": {
          "base_uri": "https://localhost:8080/"
        },
        "id": "o6l3jfnik_au",
        "outputId": "63bc1c72-12e1-4793-83af-a85279114f22"
      },
      "outputs": [
        {
          "output_type": "stream",
          "name": "stdout",
          "text": [
            "Q1:\n",
            " buy_pasar_uang_transaction_amount             20000.00\n",
            "total_buy_transaction_amount                  40000.00\n",
            "total_invested_amount                        100000.00\n",
            "pendapatan_tetap_invested_amount              40000.00\n",
            "total_sell_transaction_amount               -299340.00\n",
            "total_sell_amount                           -500000.00\n",
            "buy_saham_transaction_amount                  50000.00\n",
            "buy_pendapatan_tetap_transaction_amount       25000.00\n",
            "saham_invested_amount                         50000.00\n",
            "sell_campuran_transaction_amount           -3375000.00\n",
            "sell_saham_transaction_amount               -180469.25\n",
            "end_of_month_invested_amount                 100000.00\n",
            "pasar_uang_invested_amount                    10000.00\n",
            "sell_pendapatan_tetap_transaction_amount    -150000.00\n",
            "user_age                                         21.00\n",
            "sell_pasar_uang_transaction_amount          -100000.00\n",
            "campuran_invested_amount                    1000000.00\n",
            "buy_campuran_transaction_amount             1000000.00\n",
            "total_buy_amount                             100000.00\n",
            "Name: 0.25, dtype: float64\n",
            "\n",
            "Q3:\n",
            " buy_pasar_uang_transaction_amount            210000.0\n",
            "total_buy_transaction_amount                 500000.0\n",
            "total_invested_amount                        775000.0\n",
            "pendapatan_tetap_invested_amount             345000.0\n",
            "total_sell_transaction_amount                -30502.0\n",
            "total_sell_amount                            -60000.0\n",
            "buy_saham_transaction_amount                 300000.0\n",
            "buy_pendapatan_tetap_transaction_amount      280000.0\n",
            "saham_invested_amount                        280000.0\n",
            "sell_campuran_transaction_amount            -587500.0\n",
            "sell_saham_transaction_amount                -40000.0\n",
            "end_of_month_invested_amount                1100000.0\n",
            "pasar_uang_invested_amount                   200000.0\n",
            "sell_pendapatan_tetap_transaction_amount     -40000.0\n",
            "user_age                                         31.0\n",
            "sell_pasar_uang_transaction_amount           -10000.0\n",
            "campuran_invested_amount                    5000000.0\n",
            "buy_campuran_transaction_amount             3000000.0\n",
            "total_buy_amount                            1040000.0\n",
            "Name: 0.75, dtype: float64\n",
            "\n",
            "IQR:\n",
            " buy_pasar_uang_transaction_amount            190000.00\n",
            "total_buy_transaction_amount                 460000.00\n",
            "total_invested_amount                        675000.00\n",
            "pendapatan_tetap_invested_amount             305000.00\n",
            "total_sell_transaction_amount                268838.00\n",
            "total_sell_amount                            440000.00\n",
            "buy_saham_transaction_amount                 250000.00\n",
            "buy_pendapatan_tetap_transaction_amount      255000.00\n",
            "saham_invested_amount                        230000.00\n",
            "sell_campuran_transaction_amount            2787500.00\n",
            "sell_saham_transaction_amount                140469.25\n",
            "end_of_month_invested_amount                1000000.00\n",
            "pasar_uang_invested_amount                   190000.00\n",
            "sell_pendapatan_tetap_transaction_amount     110000.00\n",
            "user_age                                         10.00\n",
            "sell_pasar_uang_transaction_amount            90000.00\n",
            "campuran_invested_amount                    4000000.00\n",
            "buy_campuran_transaction_amount             2000000.00\n",
            "total_buy_amount                             940000.00\n",
            "dtype: float64\n",
            "\n",
            "Min:\n",
            " buy_pasar_uang_transaction_amount           -265000.000\n",
            "total_buy_transaction_amount                -650000.000\n",
            "total_invested_amount                       -912500.000\n",
            "pendapatan_tetap_invested_amount            -417500.000\n",
            "total_sell_transaction_amount               -702597.000\n",
            "total_sell_amount                          -1160000.000\n",
            "buy_saham_transaction_amount                -325000.000\n",
            "buy_pendapatan_tetap_transaction_amount     -357500.000\n",
            "saham_invested_amount                       -295000.000\n",
            "sell_campuran_transaction_amount           -7556250.000\n",
            "sell_saham_transaction_amount               -391173.125\n",
            "end_of_month_invested_amount               -1400000.000\n",
            "pasar_uang_invested_amount                  -275000.000\n",
            "sell_pendapatan_tetap_transaction_amount    -315000.000\n",
            "user_age                                          6.000\n",
            "sell_pasar_uang_transaction_amount          -235000.000\n",
            "campuran_invested_amount                   -5000000.000\n",
            "buy_campuran_transaction_amount            -2000000.000\n",
            "total_buy_amount                           -1310000.000\n",
            "dtype: float64\n",
            "\n",
            "Max:\n",
            " buy_pasar_uang_transaction_amount           4.950000e+05\n",
            "total_buy_transaction_amount                1.190000e+06\n",
            "total_invested_amount                       1.787500e+06\n",
            "pendapatan_tetap_invested_amount            8.025000e+05\n",
            "total_sell_transaction_amount               3.727550e+05\n",
            "total_sell_amount                           6.000000e+05\n",
            "buy_saham_transaction_amount                6.750000e+05\n",
            "buy_pendapatan_tetap_transaction_amount     6.625000e+05\n",
            "saham_invested_amount                       6.250000e+05\n",
            "sell_campuran_transaction_amount            3.593750e+06\n",
            "sell_saham_transaction_amount               1.707039e+05\n",
            "end_of_month_invested_amount                2.600000e+06\n",
            "pasar_uang_invested_amount                  4.850000e+05\n",
            "sell_pendapatan_tetap_transaction_amount    1.250000e+05\n",
            "user_age                                    4.600000e+01\n",
            "sell_pasar_uang_transaction_amount          1.250000e+05\n",
            "campuran_invested_amount                    1.100000e+07\n",
            "buy_campuran_transaction_amount             6.000000e+06\n",
            "total_buy_amount                            2.450000e+06\n",
            "dtype: float64\n"
          ]
        }
      ],
      "source": [
        "Q1 = df_merged3[numeric].quantile(0.25)\n",
        "Q3 = df_merged3[numeric].quantile(0.75)\n",
        "\n",
        "IQR = Q3 - Q1\n",
        "boxplot_min = Q1 - 1.5 * IQR\n",
        "boxplot_max = Q3 + 1.5 * IQR\n",
        "print('Q1:\\n',Q1)\n",
        "print('\\nQ3:\\n',Q3)\n",
        "print('\\nIQR:\\n',IQR)\n",
        "print('\\nMin:\\n',boxplot_min)\n",
        "print('\\nMax:\\n',boxplot_max)"
      ]
    },
    {
      "cell_type": "code",
      "execution_count": null,
      "metadata": {
        "colab": {
          "base_uri": "https://localhost:8080/",
          "height": 444
        },
        "id": "xlOYJZYBlZBb",
        "outputId": "9c976e4c-1726-44e7-c03b-811e7fd2112b"
      },
      "outputs": [
        {
          "output_type": "execute_result",
          "data": {
            "text/plain": [
              "        user_id registration_import_datetime user_gender  user_age  \\\n",
              "5396    2431071          2021-09-03 14:34:54      Female        17   \n",
              "5397    2431071          2021-09-03 14:34:54      Female        17   \n",
              "5398    2431071          2021-09-03 14:34:54      Female        17   \n",
              "5399    2431071          2021-09-03 14:34:54      Female        17   \n",
              "5400    2431071          2021-09-03 14:34:54      Female        17   \n",
              "...         ...                          ...         ...       ...   \n",
              "156932  3802513          2021-08-10 13:30:57      Female        46   \n",
              "156933  3802513          2021-08-10 13:30:57      Female        46   \n",
              "156934  3802513          2021-08-10 13:30:57      Female        46   \n",
              "156935  3802513          2021-08-10 13:30:57      Female        46   \n",
              "156936  3802513          2021-08-10 13:30:57      Female        46   \n",
              "\n",
              "       user_occupation     user_income_range referral_code_used  \\\n",
              "5396           Pelajar  Rp 10 Juta - 50 Juta           not used   \n",
              "5397           Pelajar  Rp 10 Juta - 50 Juta           not used   \n",
              "5398           Pelajar  Rp 10 Juta - 50 Juta           not used   \n",
              "5399           Pelajar  Rp 10 Juta - 50 Juta           not used   \n",
              "5400           Pelajar  Rp 10 Juta - 50 Juta           not used   \n",
              "...                ...                   ...                ...   \n",
              "156932             IRT             < 10 Juta           not used   \n",
              "156933             IRT             < 10 Juta           not used   \n",
              "156934             IRT             < 10 Juta           not used   \n",
              "156935             IRT             < 10 Juta           not used   \n",
              "156936             IRT             < 10 Juta           not used   \n",
              "\n",
              "       user_income_source  end_of_month_invested_amount  total_buy_amount  \\\n",
              "5396               Undian                        500000                 0   \n",
              "5397               Undian                        500000                 0   \n",
              "5398               Undian                        500000                 0   \n",
              "5399               Undian                        500000                 0   \n",
              "5400               Undian                        500000                 0   \n",
              "...                   ...                           ...               ...   \n",
              "156932               Gaji                         10000                 0   \n",
              "156933               Gaji                         10000                 0   \n",
              "156934               Gaji                         10000                 0   \n",
              "156935               Gaji                         10000                 0   \n",
              "156936               Gaji                         10000                 0   \n",
              "\n",
              "        ...  sell_pendapatan_tetap_transaction_amount  \\\n",
              "5396    ...                                       0.0   \n",
              "5397    ...                                       0.0   \n",
              "5398    ...                                       0.0   \n",
              "5399    ...                                       0.0   \n",
              "5400    ...                                       0.0   \n",
              "...     ...                                       ...   \n",
              "156932  ...                                       0.0   \n",
              "156933  ...                                       0.0   \n",
              "156934  ...                                       0.0   \n",
              "156935  ...                                       0.0   \n",
              "156936  ...                                       0.0   \n",
              "\n",
              "       buy_campuran_transaction_amount sell_campuran_transaction_amount  \\\n",
              "5396                               0.0                              0.0   \n",
              "5397                               0.0                              0.0   \n",
              "5398                               0.0                              0.0   \n",
              "5399                               0.0                              0.0   \n",
              "5400                               0.0                              0.0   \n",
              "...                                ...                              ...   \n",
              "156932                             0.0                              0.0   \n",
              "156933                             0.0                              0.0   \n",
              "156934                             0.0                              0.0   \n",
              "156935                             0.0                              0.0   \n",
              "156936                             0.0                              0.0   \n",
              "\n",
              "        total_buy_transaction_amount  total_sell_transaction_amount  \\\n",
              "5396                               0                              0   \n",
              "5397                               0                              0   \n",
              "5398                               0                              0   \n",
              "5399                               0                              0   \n",
              "5400                               0                              0   \n",
              "...                              ...                            ...   \n",
              "156932                             0                              0   \n",
              "156933                             0                              0   \n",
              "156934                             0                              0   \n",
              "156935                             0                              0   \n",
              "156936                             0                              0   \n",
              "\n",
              "        saham_invested_amount  pasar_uang_invested_amount  \\\n",
              "5396                 190000.0                     40000.0   \n",
              "5397                 190000.0                     40000.0   \n",
              "5398                 190000.0                     40000.0   \n",
              "5399                 190000.0                     40000.0   \n",
              "5400                 190000.0                     40000.0   \n",
              "...                       ...                         ...   \n",
              "156932                    0.0                     10000.0   \n",
              "156933                    0.0                     10000.0   \n",
              "156934                    0.0                     10000.0   \n",
              "156935                    0.0                     10000.0   \n",
              "156936                    0.0                     10000.0   \n",
              "\n",
              "        pendapatan_tetap_invested_amount  campuran_invested_amount  \\\n",
              "5396                            270000.0                       0.0   \n",
              "5397                            270000.0                       0.0   \n",
              "5398                            270000.0                       0.0   \n",
              "5399                            270000.0                       0.0   \n",
              "5400                            270000.0                       0.0   \n",
              "...                                  ...                       ...   \n",
              "156932                               0.0                       0.0   \n",
              "156933                               0.0                       0.0   \n",
              "156934                               0.0                       0.0   \n",
              "156935                               0.0                       0.0   \n",
              "156936                               0.0                       0.0   \n",
              "\n",
              "        total_invested_amount  \n",
              "5396                   500000  \n",
              "5397                   500000  \n",
              "5398                   500000  \n",
              "5399                   500000  \n",
              "5400                   500000  \n",
              "...                       ...  \n",
              "156932                  10000  \n",
              "156933                  10000  \n",
              "156934                  10000  \n",
              "156935                  10000  \n",
              "156936                  10000  \n",
              "\n",
              "[122387 rows x 28 columns]"
            ],
            "text/html": [
              "\n",
              "  <div id=\"df-474688c2-695f-44c5-a46d-abccfa3784f5\" class=\"colab-df-container\">\n",
              "    <div>\n",
              "<style scoped>\n",
              "    .dataframe tbody tr th:only-of-type {\n",
              "        vertical-align: middle;\n",
              "    }\n",
              "\n",
              "    .dataframe tbody tr th {\n",
              "        vertical-align: top;\n",
              "    }\n",
              "\n",
              "    .dataframe thead th {\n",
              "        text-align: right;\n",
              "    }\n",
              "</style>\n",
              "<table border=\"1\" class=\"dataframe\">\n",
              "  <thead>\n",
              "    <tr style=\"text-align: right;\">\n",
              "      <th></th>\n",
              "      <th>user_id</th>\n",
              "      <th>registration_import_datetime</th>\n",
              "      <th>user_gender</th>\n",
              "      <th>user_age</th>\n",
              "      <th>user_occupation</th>\n",
              "      <th>user_income_range</th>\n",
              "      <th>referral_code_used</th>\n",
              "      <th>user_income_source</th>\n",
              "      <th>end_of_month_invested_amount</th>\n",
              "      <th>total_buy_amount</th>\n",
              "      <th>...</th>\n",
              "      <th>sell_pendapatan_tetap_transaction_amount</th>\n",
              "      <th>buy_campuran_transaction_amount</th>\n",
              "      <th>sell_campuran_transaction_amount</th>\n",
              "      <th>total_buy_transaction_amount</th>\n",
              "      <th>total_sell_transaction_amount</th>\n",
              "      <th>saham_invested_amount</th>\n",
              "      <th>pasar_uang_invested_amount</th>\n",
              "      <th>pendapatan_tetap_invested_amount</th>\n",
              "      <th>campuran_invested_amount</th>\n",
              "      <th>total_invested_amount</th>\n",
              "    </tr>\n",
              "  </thead>\n",
              "  <tbody>\n",
              "    <tr>\n",
              "      <th>5396</th>\n",
              "      <td>2431071</td>\n",
              "      <td>2021-09-03 14:34:54</td>\n",
              "      <td>Female</td>\n",
              "      <td>17</td>\n",
              "      <td>Pelajar</td>\n",
              "      <td>Rp 10 Juta - 50 Juta</td>\n",
              "      <td>not used</td>\n",
              "      <td>Undian</td>\n",
              "      <td>500000</td>\n",
              "      <td>0</td>\n",
              "      <td>...</td>\n",
              "      <td>0.0</td>\n",
              "      <td>0.0</td>\n",
              "      <td>0.0</td>\n",
              "      <td>0</td>\n",
              "      <td>0</td>\n",
              "      <td>190000.0</td>\n",
              "      <td>40000.0</td>\n",
              "      <td>270000.0</td>\n",
              "      <td>0.0</td>\n",
              "      <td>500000</td>\n",
              "    </tr>\n",
              "    <tr>\n",
              "      <th>5397</th>\n",
              "      <td>2431071</td>\n",
              "      <td>2021-09-03 14:34:54</td>\n",
              "      <td>Female</td>\n",
              "      <td>17</td>\n",
              "      <td>Pelajar</td>\n",
              "      <td>Rp 10 Juta - 50 Juta</td>\n",
              "      <td>not used</td>\n",
              "      <td>Undian</td>\n",
              "      <td>500000</td>\n",
              "      <td>0</td>\n",
              "      <td>...</td>\n",
              "      <td>0.0</td>\n",
              "      <td>0.0</td>\n",
              "      <td>0.0</td>\n",
              "      <td>0</td>\n",
              "      <td>0</td>\n",
              "      <td>190000.0</td>\n",
              "      <td>40000.0</td>\n",
              "      <td>270000.0</td>\n",
              "      <td>0.0</td>\n",
              "      <td>500000</td>\n",
              "    </tr>\n",
              "    <tr>\n",
              "      <th>5398</th>\n",
              "      <td>2431071</td>\n",
              "      <td>2021-09-03 14:34:54</td>\n",
              "      <td>Female</td>\n",
              "      <td>17</td>\n",
              "      <td>Pelajar</td>\n",
              "      <td>Rp 10 Juta - 50 Juta</td>\n",
              "      <td>not used</td>\n",
              "      <td>Undian</td>\n",
              "      <td>500000</td>\n",
              "      <td>0</td>\n",
              "      <td>...</td>\n",
              "      <td>0.0</td>\n",
              "      <td>0.0</td>\n",
              "      <td>0.0</td>\n",
              "      <td>0</td>\n",
              "      <td>0</td>\n",
              "      <td>190000.0</td>\n",
              "      <td>40000.0</td>\n",
              "      <td>270000.0</td>\n",
              "      <td>0.0</td>\n",
              "      <td>500000</td>\n",
              "    </tr>\n",
              "    <tr>\n",
              "      <th>5399</th>\n",
              "      <td>2431071</td>\n",
              "      <td>2021-09-03 14:34:54</td>\n",
              "      <td>Female</td>\n",
              "      <td>17</td>\n",
              "      <td>Pelajar</td>\n",
              "      <td>Rp 10 Juta - 50 Juta</td>\n",
              "      <td>not used</td>\n",
              "      <td>Undian</td>\n",
              "      <td>500000</td>\n",
              "      <td>0</td>\n",
              "      <td>...</td>\n",
              "      <td>0.0</td>\n",
              "      <td>0.0</td>\n",
              "      <td>0.0</td>\n",
              "      <td>0</td>\n",
              "      <td>0</td>\n",
              "      <td>190000.0</td>\n",
              "      <td>40000.0</td>\n",
              "      <td>270000.0</td>\n",
              "      <td>0.0</td>\n",
              "      <td>500000</td>\n",
              "    </tr>\n",
              "    <tr>\n",
              "      <th>5400</th>\n",
              "      <td>2431071</td>\n",
              "      <td>2021-09-03 14:34:54</td>\n",
              "      <td>Female</td>\n",
              "      <td>17</td>\n",
              "      <td>Pelajar</td>\n",
              "      <td>Rp 10 Juta - 50 Juta</td>\n",
              "      <td>not used</td>\n",
              "      <td>Undian</td>\n",
              "      <td>500000</td>\n",
              "      <td>0</td>\n",
              "      <td>...</td>\n",
              "      <td>0.0</td>\n",
              "      <td>0.0</td>\n",
              "      <td>0.0</td>\n",
              "      <td>0</td>\n",
              "      <td>0</td>\n",
              "      <td>190000.0</td>\n",
              "      <td>40000.0</td>\n",
              "      <td>270000.0</td>\n",
              "      <td>0.0</td>\n",
              "      <td>500000</td>\n",
              "    </tr>\n",
              "    <tr>\n",
              "      <th>...</th>\n",
              "      <td>...</td>\n",
              "      <td>...</td>\n",
              "      <td>...</td>\n",
              "      <td>...</td>\n",
              "      <td>...</td>\n",
              "      <td>...</td>\n",
              "      <td>...</td>\n",
              "      <td>...</td>\n",
              "      <td>...</td>\n",
              "      <td>...</td>\n",
              "      <td>...</td>\n",
              "      <td>...</td>\n",
              "      <td>...</td>\n",
              "      <td>...</td>\n",
              "      <td>...</td>\n",
              "      <td>...</td>\n",
              "      <td>...</td>\n",
              "      <td>...</td>\n",
              "      <td>...</td>\n",
              "      <td>...</td>\n",
              "      <td>...</td>\n",
              "    </tr>\n",
              "    <tr>\n",
              "      <th>156932</th>\n",
              "      <td>3802513</td>\n",
              "      <td>2021-08-10 13:30:57</td>\n",
              "      <td>Female</td>\n",
              "      <td>46</td>\n",
              "      <td>IRT</td>\n",
              "      <td>&lt; 10 Juta</td>\n",
              "      <td>not used</td>\n",
              "      <td>Gaji</td>\n",
              "      <td>10000</td>\n",
              "      <td>0</td>\n",
              "      <td>...</td>\n",
              "      <td>0.0</td>\n",
              "      <td>0.0</td>\n",
              "      <td>0.0</td>\n",
              "      <td>0</td>\n",
              "      <td>0</td>\n",
              "      <td>0.0</td>\n",
              "      <td>10000.0</td>\n",
              "      <td>0.0</td>\n",
              "      <td>0.0</td>\n",
              "      <td>10000</td>\n",
              "    </tr>\n",
              "    <tr>\n",
              "      <th>156933</th>\n",
              "      <td>3802513</td>\n",
              "      <td>2021-08-10 13:30:57</td>\n",
              "      <td>Female</td>\n",
              "      <td>46</td>\n",
              "      <td>IRT</td>\n",
              "      <td>&lt; 10 Juta</td>\n",
              "      <td>not used</td>\n",
              "      <td>Gaji</td>\n",
              "      <td>10000</td>\n",
              "      <td>0</td>\n",
              "      <td>...</td>\n",
              "      <td>0.0</td>\n",
              "      <td>0.0</td>\n",
              "      <td>0.0</td>\n",
              "      <td>0</td>\n",
              "      <td>0</td>\n",
              "      <td>0.0</td>\n",
              "      <td>10000.0</td>\n",
              "      <td>0.0</td>\n",
              "      <td>0.0</td>\n",
              "      <td>10000</td>\n",
              "    </tr>\n",
              "    <tr>\n",
              "      <th>156934</th>\n",
              "      <td>3802513</td>\n",
              "      <td>2021-08-10 13:30:57</td>\n",
              "      <td>Female</td>\n",
              "      <td>46</td>\n",
              "      <td>IRT</td>\n",
              "      <td>&lt; 10 Juta</td>\n",
              "      <td>not used</td>\n",
              "      <td>Gaji</td>\n",
              "      <td>10000</td>\n",
              "      <td>0</td>\n",
              "      <td>...</td>\n",
              "      <td>0.0</td>\n",
              "      <td>0.0</td>\n",
              "      <td>0.0</td>\n",
              "      <td>0</td>\n",
              "      <td>0</td>\n",
              "      <td>0.0</td>\n",
              "      <td>10000.0</td>\n",
              "      <td>0.0</td>\n",
              "      <td>0.0</td>\n",
              "      <td>10000</td>\n",
              "    </tr>\n",
              "    <tr>\n",
              "      <th>156935</th>\n",
              "      <td>3802513</td>\n",
              "      <td>2021-08-10 13:30:57</td>\n",
              "      <td>Female</td>\n",
              "      <td>46</td>\n",
              "      <td>IRT</td>\n",
              "      <td>&lt; 10 Juta</td>\n",
              "      <td>not used</td>\n",
              "      <td>Gaji</td>\n",
              "      <td>10000</td>\n",
              "      <td>0</td>\n",
              "      <td>...</td>\n",
              "      <td>0.0</td>\n",
              "      <td>0.0</td>\n",
              "      <td>0.0</td>\n",
              "      <td>0</td>\n",
              "      <td>0</td>\n",
              "      <td>0.0</td>\n",
              "      <td>10000.0</td>\n",
              "      <td>0.0</td>\n",
              "      <td>0.0</td>\n",
              "      <td>10000</td>\n",
              "    </tr>\n",
              "    <tr>\n",
              "      <th>156936</th>\n",
              "      <td>3802513</td>\n",
              "      <td>2021-08-10 13:30:57</td>\n",
              "      <td>Female</td>\n",
              "      <td>46</td>\n",
              "      <td>IRT</td>\n",
              "      <td>&lt; 10 Juta</td>\n",
              "      <td>not used</td>\n",
              "      <td>Gaji</td>\n",
              "      <td>10000</td>\n",
              "      <td>0</td>\n",
              "      <td>...</td>\n",
              "      <td>0.0</td>\n",
              "      <td>0.0</td>\n",
              "      <td>0.0</td>\n",
              "      <td>0</td>\n",
              "      <td>0</td>\n",
              "      <td>0.0</td>\n",
              "      <td>10000.0</td>\n",
              "      <td>0.0</td>\n",
              "      <td>0.0</td>\n",
              "      <td>10000</td>\n",
              "    </tr>\n",
              "  </tbody>\n",
              "</table>\n",
              "<p>122387 rows × 28 columns</p>\n",
              "</div>\n",
              "    <div class=\"colab-df-buttons\">\n",
              "\n",
              "  <div class=\"colab-df-container\">\n",
              "    <button class=\"colab-df-convert\" onclick=\"convertToInteractive('df-474688c2-695f-44c5-a46d-abccfa3784f5')\"\n",
              "            title=\"Convert this dataframe to an interactive table.\"\n",
              "            style=\"display:none;\">\n",
              "\n",
              "  <svg xmlns=\"http://www.w3.org/2000/svg\" height=\"24px\" viewBox=\"0 -960 960 960\">\n",
              "    <path d=\"M120-120v-720h720v720H120Zm60-500h600v-160H180v160Zm220 220h160v-160H400v160Zm0 220h160v-160H400v160ZM180-400h160v-160H180v160Zm440 0h160v-160H620v160ZM180-180h160v-160H180v160Zm440 0h160v-160H620v160Z\"/>\n",
              "  </svg>\n",
              "    </button>\n",
              "\n",
              "  <style>\n",
              "    .colab-df-container {\n",
              "      display:flex;\n",
              "      gap: 12px;\n",
              "    }\n",
              "\n",
              "    .colab-df-convert {\n",
              "      background-color: #E8F0FE;\n",
              "      border: none;\n",
              "      border-radius: 50%;\n",
              "      cursor: pointer;\n",
              "      display: none;\n",
              "      fill: #1967D2;\n",
              "      height: 32px;\n",
              "      padding: 0 0 0 0;\n",
              "      width: 32px;\n",
              "    }\n",
              "\n",
              "    .colab-df-convert:hover {\n",
              "      background-color: #E2EBFA;\n",
              "      box-shadow: 0px 1px 2px rgba(60, 64, 67, 0.3), 0px 1px 3px 1px rgba(60, 64, 67, 0.15);\n",
              "      fill: #174EA6;\n",
              "    }\n",
              "\n",
              "    .colab-df-buttons div {\n",
              "      margin-bottom: 4px;\n",
              "    }\n",
              "\n",
              "    [theme=dark] .colab-df-convert {\n",
              "      background-color: #3B4455;\n",
              "      fill: #D2E3FC;\n",
              "    }\n",
              "\n",
              "    [theme=dark] .colab-df-convert:hover {\n",
              "      background-color: #434B5C;\n",
              "      box-shadow: 0px 1px 3px 1px rgba(0, 0, 0, 0.15);\n",
              "      filter: drop-shadow(0px 1px 2px rgba(0, 0, 0, 0.3));\n",
              "      fill: #FFFFFF;\n",
              "    }\n",
              "  </style>\n",
              "\n",
              "    <script>\n",
              "      const buttonEl =\n",
              "        document.querySelector('#df-474688c2-695f-44c5-a46d-abccfa3784f5 button.colab-df-convert');\n",
              "      buttonEl.style.display =\n",
              "        google.colab.kernel.accessAllowed ? 'block' : 'none';\n",
              "\n",
              "      async function convertToInteractive(key) {\n",
              "        const element = document.querySelector('#df-474688c2-695f-44c5-a46d-abccfa3784f5');\n",
              "        const dataTable =\n",
              "          await google.colab.kernel.invokeFunction('convertToInteractive',\n",
              "                                                    [key], {});\n",
              "        if (!dataTable) return;\n",
              "\n",
              "        const docLinkHtml = 'Like what you see? Visit the ' +\n",
              "          '<a target=\"_blank\" href=https://colab.research.google.com/notebooks/data_table.ipynb>data table notebook</a>'\n",
              "          + ' to learn more about interactive tables.';\n",
              "        element.innerHTML = '';\n",
              "        dataTable['output_type'] = 'display_data';\n",
              "        await google.colab.output.renderOutput(dataTable, element);\n",
              "        const docLink = document.createElement('div');\n",
              "        docLink.innerHTML = docLinkHtml;\n",
              "        element.appendChild(docLink);\n",
              "      }\n",
              "    </script>\n",
              "  </div>\n",
              "\n",
              "\n",
              "<div id=\"df-18586397-edd9-4035-a0f3-893ec975f73e\">\n",
              "  <button class=\"colab-df-quickchart\" onclick=\"quickchart('df-18586397-edd9-4035-a0f3-893ec975f73e')\"\n",
              "            title=\"Suggest charts\"\n",
              "            style=\"display:none;\">\n",
              "\n",
              "<svg xmlns=\"http://www.w3.org/2000/svg\" height=\"24px\"viewBox=\"0 0 24 24\"\n",
              "     width=\"24px\">\n",
              "    <g>\n",
              "        <path d=\"M19 3H5c-1.1 0-2 .9-2 2v14c0 1.1.9 2 2 2h14c1.1 0 2-.9 2-2V5c0-1.1-.9-2-2-2zM9 17H7v-7h2v7zm4 0h-2V7h2v10zm4 0h-2v-4h2v4z\"/>\n",
              "    </g>\n",
              "</svg>\n",
              "  </button>\n",
              "\n",
              "<style>\n",
              "  .colab-df-quickchart {\n",
              "      --bg-color: #E8F0FE;\n",
              "      --fill-color: #1967D2;\n",
              "      --hover-bg-color: #E2EBFA;\n",
              "      --hover-fill-color: #174EA6;\n",
              "      --disabled-fill-color: #AAA;\n",
              "      --disabled-bg-color: #DDD;\n",
              "  }\n",
              "\n",
              "  [theme=dark] .colab-df-quickchart {\n",
              "      --bg-color: #3B4455;\n",
              "      --fill-color: #D2E3FC;\n",
              "      --hover-bg-color: #434B5C;\n",
              "      --hover-fill-color: #FFFFFF;\n",
              "      --disabled-bg-color: #3B4455;\n",
              "      --disabled-fill-color: #666;\n",
              "  }\n",
              "\n",
              "  .colab-df-quickchart {\n",
              "    background-color: var(--bg-color);\n",
              "    border: none;\n",
              "    border-radius: 50%;\n",
              "    cursor: pointer;\n",
              "    display: none;\n",
              "    fill: var(--fill-color);\n",
              "    height: 32px;\n",
              "    padding: 0;\n",
              "    width: 32px;\n",
              "  }\n",
              "\n",
              "  .colab-df-quickchart:hover {\n",
              "    background-color: var(--hover-bg-color);\n",
              "    box-shadow: 0 1px 2px rgba(60, 64, 67, 0.3), 0 1px 3px 1px rgba(60, 64, 67, 0.15);\n",
              "    fill: var(--button-hover-fill-color);\n",
              "  }\n",
              "\n",
              "  .colab-df-quickchart-complete:disabled,\n",
              "  .colab-df-quickchart-complete:disabled:hover {\n",
              "    background-color: var(--disabled-bg-color);\n",
              "    fill: var(--disabled-fill-color);\n",
              "    box-shadow: none;\n",
              "  }\n",
              "\n",
              "  .colab-df-spinner {\n",
              "    border: 2px solid var(--fill-color);\n",
              "    border-color: transparent;\n",
              "    border-bottom-color: var(--fill-color);\n",
              "    animation:\n",
              "      spin 1s steps(1) infinite;\n",
              "  }\n",
              "\n",
              "  @keyframes spin {\n",
              "    0% {\n",
              "      border-color: transparent;\n",
              "      border-bottom-color: var(--fill-color);\n",
              "      border-left-color: var(--fill-color);\n",
              "    }\n",
              "    20% {\n",
              "      border-color: transparent;\n",
              "      border-left-color: var(--fill-color);\n",
              "      border-top-color: var(--fill-color);\n",
              "    }\n",
              "    30% {\n",
              "      border-color: transparent;\n",
              "      border-left-color: var(--fill-color);\n",
              "      border-top-color: var(--fill-color);\n",
              "      border-right-color: var(--fill-color);\n",
              "    }\n",
              "    40% {\n",
              "      border-color: transparent;\n",
              "      border-right-color: var(--fill-color);\n",
              "      border-top-color: var(--fill-color);\n",
              "    }\n",
              "    60% {\n",
              "      border-color: transparent;\n",
              "      border-right-color: var(--fill-color);\n",
              "    }\n",
              "    80% {\n",
              "      border-color: transparent;\n",
              "      border-right-color: var(--fill-color);\n",
              "      border-bottom-color: var(--fill-color);\n",
              "    }\n",
              "    90% {\n",
              "      border-color: transparent;\n",
              "      border-bottom-color: var(--fill-color);\n",
              "    }\n",
              "  }\n",
              "</style>\n",
              "\n",
              "  <script>\n",
              "    async function quickchart(key) {\n",
              "      const quickchartButtonEl =\n",
              "        document.querySelector('#' + key + ' button');\n",
              "      quickchartButtonEl.disabled = true;  // To prevent multiple clicks.\n",
              "      quickchartButtonEl.classList.add('colab-df-spinner');\n",
              "      try {\n",
              "        const charts = await google.colab.kernel.invokeFunction(\n",
              "            'suggestCharts', [key], {});\n",
              "      } catch (error) {\n",
              "        console.error('Error during call to suggestCharts:', error);\n",
              "      }\n",
              "      quickchartButtonEl.classList.remove('colab-df-spinner');\n",
              "      quickchartButtonEl.classList.add('colab-df-quickchart-complete');\n",
              "    }\n",
              "    (() => {\n",
              "      let quickchartButtonEl =\n",
              "        document.querySelector('#df-18586397-edd9-4035-a0f3-893ec975f73e button');\n",
              "      quickchartButtonEl.style.display =\n",
              "        google.colab.kernel.accessAllowed ? 'block' : 'none';\n",
              "    })();\n",
              "  </script>\n",
              "</div>\n",
              "\n",
              "  <div id=\"id_e4efe810-e0f0-478e-813b-334cf7487419\">\n",
              "    <style>\n",
              "      .colab-df-generate {\n",
              "        background-color: #E8F0FE;\n",
              "        border: none;\n",
              "        border-radius: 50%;\n",
              "        cursor: pointer;\n",
              "        display: none;\n",
              "        fill: #1967D2;\n",
              "        height: 32px;\n",
              "        padding: 0 0 0 0;\n",
              "        width: 32px;\n",
              "      }\n",
              "\n",
              "      .colab-df-generate:hover {\n",
              "        background-color: #E2EBFA;\n",
              "        box-shadow: 0px 1px 2px rgba(60, 64, 67, 0.3), 0px 1px 3px 1px rgba(60, 64, 67, 0.15);\n",
              "        fill: #174EA6;\n",
              "      }\n",
              "\n",
              "      [theme=dark] .colab-df-generate {\n",
              "        background-color: #3B4455;\n",
              "        fill: #D2E3FC;\n",
              "      }\n",
              "\n",
              "      [theme=dark] .colab-df-generate:hover {\n",
              "        background-color: #434B5C;\n",
              "        box-shadow: 0px 1px 3px 1px rgba(0, 0, 0, 0.15);\n",
              "        filter: drop-shadow(0px 1px 2px rgba(0, 0, 0, 0.3));\n",
              "        fill: #FFFFFF;\n",
              "      }\n",
              "    </style>\n",
              "    <button class=\"colab-df-generate\" onclick=\"generateWithVariable('df_non_outlier')\"\n",
              "            title=\"Generate code using this dataframe.\"\n",
              "            style=\"display:none;\">\n",
              "\n",
              "  <svg xmlns=\"http://www.w3.org/2000/svg\" height=\"24px\"viewBox=\"0 0 24 24\"\n",
              "       width=\"24px\">\n",
              "    <path d=\"M7,19H8.4L18.45,9,17,7.55,7,17.6ZM5,21V16.75L18.45,3.32a2,2,0,0,1,2.83,0l1.4,1.43a1.91,1.91,0,0,1,.58,1.4,1.91,1.91,0,0,1-.58,1.4L9.25,21ZM18.45,9,17,7.55Zm-12,3A5.31,5.31,0,0,0,4.9,8.1,5.31,5.31,0,0,0,1,6.5,5.31,5.31,0,0,0,4.9,4.9,5.31,5.31,0,0,0,6.5,1,5.31,5.31,0,0,0,8.1,4.9,5.31,5.31,0,0,0,12,6.5,5.46,5.46,0,0,0,6.5,12Z\"/>\n",
              "  </svg>\n",
              "    </button>\n",
              "    <script>\n",
              "      (() => {\n",
              "      const buttonEl =\n",
              "        document.querySelector('#id_e4efe810-e0f0-478e-813b-334cf7487419 button.colab-df-generate');\n",
              "      buttonEl.style.display =\n",
              "        google.colab.kernel.accessAllowed ? 'block' : 'none';\n",
              "\n",
              "      buttonEl.onclick = () => {\n",
              "        google.colab.notebook.generateWithVariable('df_non_outlier');\n",
              "      }\n",
              "      })();\n",
              "    </script>\n",
              "  </div>\n",
              "\n",
              "    </div>\n",
              "  </div>\n"
            ],
            "application/vnd.google.colaboratory.intrinsic+json": {
              "type": "dataframe",
              "variable_name": "df_non_outlier"
            }
          },
          "metadata": {},
          "execution_count": 33
        }
      ],
      "source": [
        "filter_min = df_merged2[numeric] < boxplot_min\n",
        "filter_max = df_merged2[numeric] > boxplot_max\n",
        "\n",
        "# Correctly apply the filter to the entire DataFrame\n",
        "df_non_outlier = df_merged2[~(filter_min | filter_max).any(axis=1)]\n",
        "\n",
        "df_non_outlier"
      ]
    },
    {
      "cell_type": "code",
      "execution_count": null,
      "metadata": {
        "id": "nvRGDV2la-QL"
      },
      "outputs": [],
      "source": [
        "df_merged2.isna().sum()"
      ]
    },
    {
      "cell_type": "markdown",
      "metadata": {
        "id": "6eSAr3uKNyYr"
      },
      "source": [
        "Reminder for me\n",
        "\n",
        "every column will have different value for quantile if we let '0' value or change it to NaN."
      ]
    },
    {
      "cell_type": "markdown",
      "metadata": {
        "id": "fsw_6vD0QRj_"
      },
      "source": [
        "df_merged2 ----> still have 0 value\n",
        "\n",
        "aaa        ----> nan value"
      ]
    },
    {
      "cell_type": "code",
      "execution_count": null,
      "metadata": {
        "id": "LAbV2Cl_qW-F"
      },
      "outputs": [],
      "source": [
        "aaa = df_merged2['buy_pendapatan_tetap_transaction_amount']\n",
        "aaa= aaa.replace(0, np.NaN, regex=True)"
      ]
    },
    {
      "cell_type": "code",
      "execution_count": null,
      "metadata": {
        "id": "0D3Jn3yprL6P"
      },
      "outputs": [],
      "source": [
        "len(df_merged2['buy_pendapatan_tetap_transaction_amount'])"
      ]
    },
    {
      "cell_type": "code",
      "execution_count": null,
      "metadata": {
        "id": "z37UKeayOdEm"
      },
      "outputs": [],
      "source": [
        "len(aaa[aaa>0])"
      ]
    },
    {
      "cell_type": "code",
      "execution_count": null,
      "metadata": {
        "id": "OxX5e-85lY9F"
      },
      "outputs": [],
      "source": [
        "df_merged2['buy_pendapatan_tetap_transaction_amount'].quantile(0.5)"
      ]
    },
    {
      "cell_type": "code",
      "execution_count": null,
      "metadata": {
        "id": "gb67_nnjqmmK"
      },
      "outputs": [],
      "source": [
        "aaa.quantile(0.5)"
      ]
    },
    {
      "cell_type": "code",
      "execution_count": null,
      "metadata": {
        "id": "ZlebCsJErP8J"
      },
      "outputs": [],
      "source": [
        "df_merged2['buy_pendapatan_tetap_transaction_amount']"
      ]
    },
    {
      "cell_type": "markdown",
      "metadata": {
        "id": "hP_M4sTgba94"
      },
      "source": [
        "#C) EDA"
      ]
    },
    {
      "cell_type": "code",
      "execution_count": null,
      "metadata": {
        "id": "rL6sh-_pxChl"
      },
      "outputs": [],
      "source": [
        "date_max = df_non_outlier['date'].max()\n",
        "date_min = df_non_outlier['date'].min()\n",
        "print('transaksi terlama ada di tanggal', date_min)\n",
        "print('transaksi terbaru ada di tanggal', date_max,'\\n')"
      ]
    },
    {
      "cell_type": "markdown",
      "metadata": {
        "id": "yqSEkGDGz1o0"
      },
      "source": [
        "-\n",
        "\n",
        "Customers tend to interact with us every week, either they but our product or sell it\n",
        "\n",
        "-"
      ]
    },
    {
      "cell_type": "code",
      "execution_count": null,
      "metadata": {
        "id": "obt-Wk2aoaSg"
      },
      "outputs": [],
      "source": [
        "b= df_non_outlier['user_id'].value_counts()\n",
        "b[b>5]"
      ]
    },
    {
      "cell_type": "code",
      "execution_count": null,
      "metadata": {
        "id": "7wlD5YH8rKrx"
      },
      "outputs": [],
      "source": [
        "b.hist(bins =42,color='skyblue', edgecolor='black')\n",
        "plt.title('compisition')\n",
        "plt.xlabel('frequency')\n",
        "plt.ylabel('quantity')\n",
        "\n",
        "#from the graph below, we know that the data is fairly balanced"
      ]
    },
    {
      "cell_type": "code",
      "execution_count": null,
      "metadata": {
        "id": "kzCgzRMcymVr"
      },
      "outputs": [],
      "source": [
        "df_non_outlier['registration'] = pd.to_datetime(df_non_outlier['registration_import_datetime'])\n",
        "df_non_outlier['regist'] = df_non_outlier['registration'].dt.strftime('%Y-%m-%d')"
      ]
    },
    {
      "cell_type": "code",
      "execution_count": null,
      "metadata": {
        "id": "LqVBMWUqzKCf"
      },
      "outputs": [],
      "source": [
        "df_non_outlier['cohort_week'] = df_non_outlier['registration'].dt.strftime('%W')\n",
        "coba= df_non_outlier[['user_id','cohort_week','regist','total_invested_amount']]\n",
        "coba"
      ]
    },
    {
      "cell_type": "code",
      "execution_count": null,
      "metadata": {
        "id": "ZEx7jl5n5RF6"
      },
      "outputs": [],
      "source": [
        "coba['order_week'] = df_non_outlier['date'].dt.to_period('W')\n",
        "coba"
      ]
    },
    {
      "cell_type": "code",
      "execution_count": null,
      "metadata": {
        "id": "cLqubbg37WvQ"
      },
      "outputs": [],
      "source": [
        "z = coba.groupby('user_id')['order_week']\n",
        "coba['cohort'] = z.transform('min')\n",
        "coba\n",
        "\n"
      ]
    },
    {
      "cell_type": "code",
      "execution_count": null,
      "metadata": {
        "id": "EP5fsgIh7ulx"
      },
      "outputs": [],
      "source": [
        "df_cohort = coba.groupby(['cohort', 'order_week']).agg(n_customers=('user_id', 'nunique')).reset_index(drop=False)\n",
        "df_cohort"
      ]
    },
    {
      "cell_type": "code",
      "execution_count": null,
      "metadata": {
        "id": "vYR580r187_c"
      },
      "outputs": [],
      "source": [
        "from operator import attrgetter\n",
        "df_cohort['period_number'] = (df_cohort.order_week - df_cohort.cohort).apply(attrgetter('n'))\n",
        "df_cohort"
      ]
    },
    {
      "cell_type": "code",
      "execution_count": null,
      "metadata": {
        "id": "06z4w6Hs9wp0"
      },
      "outputs": [],
      "source": [
        "cohort_pivot = df_cohort.pivot_table(index='cohort', columns='period_number', values='n_customers')"
      ]
    },
    {
      "cell_type": "code",
      "execution_count": null,
      "metadata": {
        "id": "zA6lsoPY9x54"
      },
      "outputs": [],
      "source": [
        "cohort_pivot"
      ]
    },
    {
      "cell_type": "code",
      "execution_count": null,
      "metadata": {
        "id": "l5n84nQL934Q"
      },
      "outputs": [],
      "source": [
        "cohort_size = cohort_pivot.iloc[:, 0]"
      ]
    },
    {
      "cell_type": "code",
      "execution_count": null,
      "metadata": {
        "id": "Luni7fzX9391"
      },
      "outputs": [],
      "source": [
        "retention_matrix = cohort_pivot.divide(cohort_size, axis=0)"
      ]
    },
    {
      "cell_type": "code",
      "execution_count": null,
      "metadata": {
        "id": "j5-bl3de-HFS"
      },
      "outputs": [],
      "source": [
        "import matplotlib.colors as mcolors\n",
        "with sns.axes_style(\"white\"):\n",
        "    fig, ax = plt.subplots(1, 2, figsize=(12, 8), sharey=True, gridspec_kw={'width_ratios': [1, 11]})\n",
        "\n",
        "    # retention matrix\n",
        "    sns.heatmap(retention_matrix,\n",
        "                mask=retention_matrix.isnull(),\n",
        "                annot=True,\n",
        "                fmt='.0%',\n",
        "                cmap='RdYlGn',\n",
        "                ax=ax[1])\n",
        "    ax[1].set_title('Weekly Cohorts: User Retention', fontsize=16)\n",
        "    ax[1].set(xlabel='# of periods',\n",
        "              ylabel='')\n",
        "\n",
        "    # cohort size\n",
        "    cohort_size_df = pd.DataFrame(cohort_size).rename(columns={0: 'cohort_size'})\n",
        "    white_cmap = mcolors.ListedColormap(['white'])\n",
        "    sns.heatmap(cohort_size_df,\n",
        "                annot=True,\n",
        "                cbar=False,\n",
        "                fmt='g',\n",
        "                cmap=white_cmap,\n",
        "                ax=ax[0])\n",
        "\n",
        "    fig.tight_layout()"
      ]
    },
    {
      "cell_type": "markdown",
      "metadata": {
        "id": "NvFC4TM34RWS"
      },
      "source": [
        "From the graph above, we can conclude that our customers interact with our app quite frequently, as I mentioned earlier with the histogram. The graph also shows that the lowest rate is 92%, and I don't think we need to worry or dive deeper into it."
      ]
    },
    {
      "cell_type": "markdown",
      "metadata": {
        "id": "6924bP6_9ycG"
      },
      "source": []
    },
    {
      "cell_type": "code",
      "execution_count": null,
      "metadata": {
        "id": "g21HPzU0QaGE"
      },
      "outputs": [],
      "source": [
        "eda = df_non_outlier.copy()"
      ]
    },
    {
      "cell_type": "code",
      "execution_count": null,
      "metadata": {
        "id": "LJxuWVgHcvyZ"
      },
      "outputs": [],
      "source": [
        "#Descriptive analysis of numeric values\n",
        "pd.set_option('display.float_format', lambda x: '%.2f' % x)\n",
        "\n",
        "numeric = ['user_age','end_of_month_invested_amount','total_buy_amount','total_sell_amount',\n",
        "           'total_buy_transaction_amount', 'total_sell_transaction_amount', 'total_invested_amount']"
      ]
    },
    {
      "cell_type": "markdown",
      "metadata": {
        "id": "6i_LTO0Abr1p"
      },
      "source": [
        "##Descriptive statistics:\n",
        "* How many users do we have in the data?\n",
        "* How is the demographic in the data?\n",
        "* How many users that used referral code?"
      ]
    },
    {
      "cell_type": "code",
      "execution_count": null,
      "metadata": {
        "id": "wO5DPAy9btZw"
      },
      "outputs": [],
      "source": [
        "# Number of users\n",
        "eda['user_id'].nunique()"
      ]
    },
    {
      "cell_type": "code",
      "execution_count": null,
      "metadata": {
        "id": "6B2qbnADcR57"
      },
      "outputs": [],
      "source": [
        "# Number of users used the referral code\n",
        "eda.groupby('referral_code_used').agg({'user_id':pd.Series.nunique})"
      ]
    },
    {
      "cell_type": "markdown",
      "metadata": {
        "id": "XXMi2xYQvKv1"
      },
      "source": [
        "### Descriptive information from numerical data"
      ]
    },
    {
      "cell_type": "code",
      "execution_count": null,
      "metadata": {
        "id": "RYG-WofP8M7R"
      },
      "outputs": [],
      "source": [
        "eda_info = eda.copy()\n",
        "eda_info = eda_info.replace(0, np.NaN, regex=True)"
      ]
    },
    {
      "cell_type": "code",
      "execution_count": null,
      "metadata": {
        "id": "TkcIeMHq8PWR"
      },
      "outputs": [],
      "source": [
        "eda_info"
      ]
    },
    {
      "cell_type": "code",
      "execution_count": null,
      "metadata": {
        "id": "sG8yvLQGQaJD"
      },
      "outputs": [],
      "source": [
        "eda_info[numeric].describe()"
      ]
    },
    {
      "cell_type": "markdown",
      "metadata": {
        "id": "zqgQ-w3bdH2S"
      },
      "source": [
        "Insight\n",
        "\n",
        "- Average total invested amount are Rp216,153.79\n",
        "- Average buy amount are Rp258,688.09\n",
        "- Average sell amount are Rp186,470.70"
      ]
    },
    {
      "cell_type": "markdown",
      "metadata": {
        "id": "h33NAjF5vTvN"
      },
      "source": [
        "### Descriptive information from string data"
      ]
    },
    {
      "cell_type": "code",
      "execution_count": null,
      "metadata": {
        "id": "sWU5tPvf-5mh"
      },
      "outputs": [],
      "source": [
        "eda.info()"
      ]
    },
    {
      "cell_type": "code",
      "execution_count": null,
      "metadata": {
        "id": "AxvTcXqzQaNG"
      },
      "outputs": [],
      "source": [
        "str = [\n",
        " 'user_gender',\n",
        " 'user_generation', 'user_occupation',\n",
        " 'user_income_range', 'referral_code_used', 'user_income_source']"
      ]
    },
    {
      "cell_type": "code",
      "execution_count": null,
      "metadata": {
        "id": "NmLfUhJ9-BBJ"
      },
      "outputs": [],
      "source": [
        "for i, k in enumerate(str):  # Unpack the tuple into i (index) and k (column name)\n",
        "  string= eda.groupby(k).agg({'user_id':pd.Series.nunique})\n",
        "  print(string,'\\n')\n"
      ]
    },
    {
      "cell_type": "markdown",
      "metadata": {
        "id": "fcmiKxrrdcFT"
      },
      "source": [
        "Insights\n",
        "* The majority of transaction come from male,\n",
        "* The majority of transaction come from the Gen Z age group,\n",
        "* The majority of transaction come from the student profession,\n",
        "* Most of transaction are come from people with income <IDR 10 million and comes from salaries."
      ]
    },
    {
      "cell_type": "markdown",
      "metadata": {
        "id": "V4O8ssf_eRRr"
      },
      "source": [
        "###How is the demographic in the data?"
      ]
    },
    {
      "cell_type": "markdown",
      "metadata": {
        "id": "jn9hLjoVfkDy"
      },
      "source": [
        "####**Users Gender**"
      ]
    },
    {
      "cell_type": "code",
      "execution_count": null,
      "metadata": {
        "id": "YqGclQwsQaRa"
      },
      "outputs": [],
      "source": [
        "mf1 =eda.groupby('user_gender').agg({'user_id':pd.Series.nunique})\n",
        "mf= mf1.reset_index()   #Reset the index to make it into a pandas dataframe\n",
        "mf\n"
      ]
    },
    {
      "cell_type": "code",
      "execution_count": null,
      "metadata": {
        "id": "GFJhTmREQaUG"
      },
      "outputs": [],
      "source": [
        "plt.pie(mf['user_id'],\n",
        "        labels = mf['user_gender'],\n",
        "        autopct='%.2f%%') #Create a pie chart, autopct='%.2f%%' to show percent and 2 decimal\n",
        "plt.show()"
      ]
    },
    {
      "cell_type": "markdown",
      "metadata": {
        "id": "O8oplqycfpNz"
      },
      "source": [
        "Insight\n",
        "\n",
        "- The majority of users are male"
      ]
    },
    {
      "cell_type": "markdown",
      "metadata": {
        "id": "dP0Kr9gYktvo"
      },
      "source": [
        "####**Users Generation**"
      ]
    },
    {
      "cell_type": "code",
      "execution_count": null,
      "metadata": {
        "id": "BEtfGuacQaWi"
      },
      "outputs": [],
      "source": [
        "age1 = eda.groupby('user_generation')['user_id'].nunique()\n",
        "age = age1.reset_index()   #Reset the index to make it into a pandas dataframe\n",
        "\n",
        "\n",
        "plt.pie(age['user_id'],\n",
        "        labels = age['user_generation'],\n",
        "        autopct='%.2f%%') #Create a pie chart, autopct='%.2f%%' to show percent and 2 decimal\n",
        "plt.show()"
      ]
    },
    {
      "cell_type": "code",
      "execution_count": null,
      "metadata": {
        "id": "ny6evpgYkwNv"
      },
      "outputs": [],
      "source": [
        "fig = plt.figure(figsize =(15, 5))    #To create the canvas, figsize is showing size in inches (x,y)\n",
        "\n",
        "K = age.copy()\n",
        "\n",
        "K.sort_values('user_id', ascending=True, inplace=True)\n",
        "x = K['user_generation']    #assign the x\n",
        "y = K['user_id']         #assign the y\n",
        "\n",
        "plt.barh(x, y)  #Create the horizontal bar chart\n",
        "\n",
        "#To show the data labels\n",
        "#for i, v in enumerate(y):                           #enumerate add numeric besides the data, example = (0, ‘value’)\n",
        "#    vmil = round(v)                                 #round the y\n",
        " #   plt.text(v, i, str(vmil))                       #add text plt.text(x,y,s)\n",
        "\n",
        "#plt.show()"
      ]
    },
    {
      "cell_type": "markdown",
      "metadata": {
        "id": "LgZnqdBWmemL"
      },
      "source": [
        "#### **Occupation**"
      ]
    },
    {
      "cell_type": "code",
      "execution_count": null,
      "metadata": {
        "id": "g-OLfgUOkwQf"
      },
      "outputs": [],
      "source": [
        "eda['user_occupation'] = eda['user_occupation'].astype('string')"
      ]
    },
    {
      "cell_type": "code",
      "execution_count": null,
      "metadata": {
        "id": "SoO8h90vkwTL"
      },
      "outputs": [],
      "source": [
        "eda.groupby('user_occupation').agg({'user_id':pd.Series.nunique})"
      ]
    },
    {
      "cell_type": "code",
      "execution_count": null,
      "metadata": {
        "id": "w6laAk2jkwVw"
      },
      "outputs": [],
      "source": [
        "occu1 = eda.groupby('user_occupation')['user_id'].nunique()\n",
        "occu = occu1.reset_index()   #Reset the index to make it into a pandas dataframe\n",
        "\n",
        "\n",
        "plt.pie(occu['user_id'],\n",
        "        labels = occu['user_occupation'],\n",
        "        autopct='%.2f%%') #Create a pie chart, autopct='%.2f%%' to show percent and 2 decimal\n",
        "plt.show()"
      ]
    },
    {
      "cell_type": "code",
      "execution_count": null,
      "metadata": {
        "id": "iX2m6AuykwYu"
      },
      "outputs": [],
      "source": [
        "fig = plt.figure(figsize =(15, 5))    #To create the canvas, figsize is showing size in inches (x,y)\n",
        "\n",
        "K = occu.copy()\n",
        "\n",
        "K.sort_values('user_id', ascending=True, inplace=True)\n",
        "x = K['user_occupation']    #assign the x\n",
        "y = K['user_id']         #assign the y\n",
        "\n",
        "plt.barh(x, y)  #Create the horizontal bar chart\n",
        "\n",
        "#To show the data labels\n",
        "#for i, v in enumerate(y):                           #enumerate add numeric besides the data, example = (0, ‘value’)\n",
        " #   vmil = round(v)                                 #round the y\n",
        " #   plt.text(v, i, str(vmil))                       #add text plt.text(x,y,s)\n",
        "\n",
        "#plt.show()"
      ]
    },
    {
      "cell_type": "markdown",
      "metadata": {
        "id": "EtISiVbrso7p"
      },
      "source": [
        "#### **Income**"
      ]
    },
    {
      "cell_type": "code",
      "execution_count": null,
      "metadata": {
        "id": "Sl3ANsBhsreh"
      },
      "outputs": [],
      "source": [
        "eda['user_income_range'] = eda['user_income_range'].astype('string')"
      ]
    },
    {
      "cell_type": "code",
      "execution_count": null,
      "metadata": {
        "id": "5yyQGdFqsj-q"
      },
      "outputs": [],
      "source": [
        "eda.groupby('user_income_range').agg({'user_id':pd.Series.nunique})"
      ]
    },
    {
      "cell_type": "code",
      "execution_count": null,
      "metadata": {
        "id": "VKeEPVKPsrb2"
      },
      "outputs": [],
      "source": [
        "income1 = eda.groupby('user_income_range')['user_id'].nunique()\n",
        "income = income1.reset_index()   #Reset the index to make it into a pandas dataframe\n",
        "\n",
        "\n",
        "plt.pie(income['user_id'],\n",
        "        labels = income['user_income_range'],\n",
        "        autopct='%.2f%%') #Create a pie chart, autopct='%.2f%%' to show percent and 2 decimal\n",
        "plt.show()"
      ]
    },
    {
      "cell_type": "code",
      "execution_count": null,
      "metadata": {
        "id": "kJjw7GUEtwrN"
      },
      "outputs": [],
      "source": [
        "eda['user_income_source'] = eda['user_income_source'].astype('string')"
      ]
    },
    {
      "cell_type": "code",
      "execution_count": null,
      "metadata": {
        "id": "iGbOCztvsrhn"
      },
      "outputs": [],
      "source": [
        "income3 = eda.groupby('user_income_source')['user_id'].nunique()\n",
        "income2 = income3.reset_index()   #Reset the index to make it into a pandas dataframe\n",
        "income2"
      ]
    },
    {
      "cell_type": "code",
      "execution_count": null,
      "metadata": {
        "id": "-ke9ogYutfq_"
      },
      "outputs": [],
      "source": [
        "eda['user_income_source'].nunique()\n",
        "income_source_counts = eda['user_income_source'].value_counts(normalize=True)\n",
        "income_source_counts = (income_source_counts * 100).round(2).astype('string') + '%'\n",
        "income_source_counts"
      ]
    },
    {
      "cell_type": "markdown",
      "metadata": {
        "id": "2CrzVjWq4qLA"
      },
      "source": [
        "## **AUM/Balance in end of period**"
      ]
    },
    {
      "cell_type": "code",
      "execution_count": null,
      "metadata": {
        "id": "5ttYLwos4vJL"
      },
      "outputs": [],
      "source": [
        "end_period = eda[(eda['date']== '2021-08-31') | (eda['date']== '2021-09-30')]\n",
        "end_period"
      ]
    },
    {
      "cell_type": "code",
      "execution_count": null,
      "metadata": {
        "id": "4UP_xMfq4vSQ"
      },
      "outputs": [],
      "source": [
        "end = end_period[['end_of_month_invested_amount','total_buy_amount','total_sell_amount','buy_saham_transaction_amount','sell_saham_transaction_amount','saham_invested_amount']]\n",
        "end"
      ]
    },
    {
      "cell_type": "code",
      "execution_count": null,
      "metadata": {
        "id": "lBIslJL2xa2X"
      },
      "outputs": [],
      "source": [
        "for i in end.columns:\n",
        "  dataa = end[i].sum()\n",
        "  print(i,'\\n', dataa,'\\n') # \\n artinya Enter"
      ]
    },
    {
      "cell_type": "markdown",
      "metadata": {
        "id": "aNT0yDepIvNx"
      },
      "source": [
        "**saham nett**"
      ]
    },
    {
      "cell_type": "code",
      "execution_count": null,
      "metadata": {
        "id": "BpnVFblTCMH8"
      },
      "outputs": [],
      "source": [
        "buy1 =trx['buy_saham_transaction_amount'].sum()\n",
        "buy1\n"
      ]
    },
    {
      "cell_type": "code",
      "execution_count": null,
      "metadata": {
        "id": "JUYSGhZ3HJc2"
      },
      "outputs": [],
      "source": [
        "sell1= trx['sell_saham_transaction_amount'].sum()\n",
        "sell1"
      ]
    },
    {
      "cell_type": "code",
      "execution_count": null,
      "metadata": {
        "id": "Rr1uyCX6P1BX"
      },
      "outputs": [],
      "source": [
        "invest1 = trx['saham_invested_amount'].sum()"
      ]
    },
    {
      "cell_type": "code",
      "execution_count": null,
      "metadata": {
        "id": "K7yQm_HFHa_n"
      },
      "outputs": [],
      "source": [
        "nett1 = invest1-sell1-buy1\n",
        "nett1"
      ]
    },
    {
      "cell_type": "markdown",
      "metadata": {
        "id": "-R6WMCMpB4Xn"
      },
      "source": [
        " **Nett Overall**"
      ]
    },
    {
      "cell_type": "code",
      "execution_count": null,
      "metadata": {
        "id": "t0SFJln54vVH"
      },
      "outputs": [],
      "source": [
        "##total invested amount 28111778807"
      ]
    },
    {
      "cell_type": "code",
      "execution_count": null,
      "metadata": {
        "id": "csalf9RlCFdB"
      },
      "outputs": [],
      "source": [
        "transaction_total = trx['total_buy_transaction_amount'].sum()\n",
        "transaction_total"
      ]
    },
    {
      "cell_type": "code",
      "execution_count": null,
      "metadata": {
        "id": "NN-iIl_rCFfW"
      },
      "outputs": [],
      "source": [
        "sell_total = trx['total_sell_transaction_amount'].sum()\n",
        "sell_total"
      ]
    },
    {
      "cell_type": "code",
      "execution_count": null,
      "metadata": {
        "id": "5wjG0RVXCFhE"
      },
      "outputs": [],
      "source": [
        "# total profit generate from the app\n",
        "profit_total =transaction_total+sell_total\n",
        "profit_total"
      ]
    },
    {
      "cell_type": "markdown",
      "metadata": {
        "id": "xkcdN7uHw8Iq"
      },
      "source": [
        "#Key Trend in dataset"
      ]
    },
    {
      "cell_type": "markdown",
      "metadata": {
        "id": "LYg-NR7SxZE4"
      },
      "source": [
        "###Daily transaction amount trends for each mutual funds?"
      ]
    },
    {
      "cell_type": "code",
      "execution_count": null,
      "metadata": {
        "id": "HXy_DQ8TxI2k"
      },
      "outputs": [],
      "source": [
        "trans = trx[['date','buy_saham_transaction_amount',\n",
        "       'sell_saham_transaction_amount', 'buy_pasar_uang_transaction_amount',\n",
        "       'sell_pasar_uang_transaction_amount',\n",
        "       'buy_pendapatan_tetap_transaction_amount',\n",
        "       'sell_pendapatan_tetap_transaction_amount',\n",
        "       'buy_campuran_transaction_amount', 'sell_campuran_transaction_amount']]"
      ]
    },
    {
      "cell_type": "code",
      "execution_count": null,
      "metadata": {
        "id": "e73DiF0RxI5J"
      },
      "outputs": [],
      "source": [
        "# group by date and sum the total number of transactions for each mutual fund type\n",
        "trans.groupby('date').sum()"
      ]
    },
    {
      "cell_type": "code",
      "execution_count": null,
      "metadata": {
        "id": "pnOcMC2HyjA8"
      },
      "outputs": [],
      "source": [
        "# Group data by date and calculate the total buy and sell transactions\n",
        "grouped = trans.groupby('date').sum()\n",
        "buy = grouped[['buy_saham_transaction_amount', 'buy_pasar_uang_transaction_amount', 'buy_pendapatan_tetap_transaction_amount', 'buy_campuran_transaction_amount']]\n",
        "sell = grouped[['sell_saham_transaction_amount', 'sell_pasar_uang_transaction_amount', 'sell_pendapatan_tetap_transaction_amount', 'sell_campuran_transaction_amount']].abs()\n",
        "\n",
        "# Create two separate line charts\n",
        "fig, (ax1, ax2) = plt.subplots(nrows=2, ncols=1, figsize=(10, 8))\n",
        "\n",
        "# Buy transactions line chart\n",
        "ax1.plot(buy.index, buy['buy_saham_transaction_amount'], label='Saham')\n",
        "ax1.plot(buy.index, buy['buy_pasar_uang_transaction_amount'], label='Pasar Uang')\n",
        "ax1.plot(buy.index, buy['buy_pendapatan_tetap_transaction_amount'], label='Pendapatan Tetap')\n",
        "ax1.plot(buy.index, buy['buy_campuran_transaction_amount'], label='Campuran')\n",
        "ax1.set_xlabel('Date')\n",
        "ax1.set_ylabel('Transaction Amount')\n",
        "ax1.set_title('Buy Transactions')\n",
        "ax1.legend()\n",
        "\n",
        "# Sell transactions line chart\n",
        "ax2.plot(sell.index, sell['sell_saham_transaction_amount'], label='Saham')\n",
        "ax2.plot(sell.index, sell['sell_pasar_uang_transaction_amount'], label='Pasar Uang')\n",
        "ax2.plot(sell.index, sell['sell_pendapatan_tetap_transaction_amount'], label='Pendapatan Tetap')\n",
        "ax2.plot(sell.index, sell['sell_campuran_transaction_amount'], label='Campuran')\n",
        "ax2.set_xlabel('Date')\n",
        "ax2.set_ylabel('Transaction Amount')\n",
        "ax2.set_title('Sell Transactions')\n",
        "ax2.legend()\n",
        "\n",
        "# Add labels\n",
        "fig.suptitle('Buy and Sell Transactions Amount', fontsize=16)\n",
        "fig.tight_layout()\n",
        "plt.show()"
      ]
    },
    {
      "cell_type": "markdown",
      "metadata": {
        "id": "UHeHRxATzJEw"
      },
      "source": [
        "Insights\n",
        "- There is a fluctuating trend towards the daily transaction amount for each mutual funds from August 2021 to September 2021. However, mixed mutual funds generally have the lowest trend compared to other types."
      ]
    },
    {
      "cell_type": "markdown",
      "metadata": {
        "id": "dwPEDuqwzNfj"
      },
      "source": [
        "###Daily transaction frequency trends for each mutual funds?"
      ]
    },
    {
      "cell_type": "code",
      "execution_count": null,
      "metadata": {
        "id": "LOthnjeMTmbz"
      },
      "outputs": [],
      "source": [
        "# Change date data type to datetime\n",
        "eda['date'] = pd.to_datetime(eda['date'])\n",
        "# Change date format to yyyy-mm\n",
        "eda['month'] = eda['date'].dt.strftime('%Y-%m')\n",
        "eda.head()"
      ]
    },
    {
      "cell_type": "markdown",
      "metadata": {
        "id": "zXsm9CXg0bhu"
      },
      "source": [
        "sum up the data without zero values"
      ]
    },
    {
      "cell_type": "code",
      "execution_count": null,
      "metadata": {
        "id": "QP3ec7KLydfN"
      },
      "outputs": [],
      "source": [
        "# count the total transactions happened and  bigger or lower than zero\n",
        "\n",
        "agg_buy_sell = eda.assign(\n",
        "buy_saham_frequency=np.where(\n",
        "    (eda[\"buy_saham_transaction_amount\"] > 0) | (eda[\"buy_saham_transaction_amount\"] < 0),\n",
        "        1,\n",
        "        0,\n",
        "    ),\n",
        "sell_saham_frequency = np.where(\n",
        "    (eda[\"sell_saham_transaction_amount\"] > 0) | (eda[\"sell_saham_transaction_amount\"] < 0),\n",
        "        1,\n",
        "        0,\n",
        "    ),\n",
        "buy_pasar_frequency=np.where(\n",
        "    (eda[\"buy_pasar_uang_transaction_amount\"] > 0) | (eda[\"buy_pasar_uang_transaction_amount\"] < 0),\n",
        "        1,\n",
        "        0,\n",
        "    ),\n",
        "sell_pasar_frequency = np.where(\n",
        "    (eda[\"sell_pasar_uang_transaction_amount\"] > 0) | (eda[\"sell_pasar_uang_transaction_amount\"] < 0),\n",
        "        1,\n",
        "        0,\n",
        "    ),\n",
        "buy_pendapatan_frequency=np.where(\n",
        "    (eda[\"buy_pendapatan_tetap_transaction_amount\"] > 0) | (eda[\"buy_pendapatan_tetap_transaction_amount\"] < 0),\n",
        "        1,\n",
        "        0,\n",
        "    ),\n",
        "sell_pendapatan_frequency = np.where(\n",
        "    (eda[\"sell_pendapatan_tetap_transaction_amount\"] > 0) | (eda[\"sell_pendapatan_tetap_transaction_amount\"] < 0),\n",
        "        1,\n",
        "        0,\n",
        "    ),\n",
        "buy_campuran_frequency=np.where(\n",
        "    (eda[\"buy_campuran_transaction_amount\"] > 0) | (eda[\"buy_campuran_transaction_amount\"] < 0),\n",
        "        1,\n",
        "        0,\n",
        "    ),\n",
        "sell_campuran_frequency = np.where(\n",
        "    (eda[\"sell_campuran_transaction_amount\"] > 0) | (eda[\"sell_campuran_transaction_amount\"] < 0),\n",
        "        1,\n",
        "        0,\n",
        "    ),\n",
        ")\n",
        "\n",
        "agg_buy_sell_withID = (\n",
        "  agg_buy_sell.groupby(['user_id','date']) #mainin agg month, date, user id\n",
        "  .agg({\n",
        "        \"buy_saham_frequency\": \"sum\",\n",
        "        \"sell_saham_frequency\": \"sum\",\n",
        "        \"buy_pasar_frequency\": \"sum\",\n",
        "        \"sell_pasar_frequency\": \"sum\",\n",
        "        \"buy_pendapatan_frequency\": \"sum\",\n",
        "        \"sell_pendapatan_frequency\": \"sum\",\n",
        "        \"buy_campuran_frequency\": \"sum\",\n",
        "        \"sell_campuran_frequency\": \"sum\",\n",
        "        })\n",
        "    .reset_index())\n",
        "agg_buy_sell_withID"
      ]
    },
    {
      "cell_type": "code",
      "execution_count": null,
      "metadata": {
        "id": "U-3iMlVQEbhl"
      },
      "outputs": [],
      "source": [
        "frequency_value = list(agg_buy_sell.filter(like='frequency'))\n",
        "frequency_value"
      ]
    },
    {
      "cell_type": "code",
      "execution_count": null,
      "metadata": {
        "id": "el92D80FEr4J"
      },
      "outputs": [],
      "source": [
        "agg_buy_sell = agg_buy_sell_withID.groupby('date')[frequency_value].sum()"
      ]
    },
    {
      "cell_type": "code",
      "execution_count": null,
      "metadata": {
        "id": "jvFwnoM3GjOB"
      },
      "outputs": [],
      "source": [
        "agg_buy_sell = agg_buy_sell.reset_index()\n",
        "agg_buy_sell"
      ]
    },
    {
      "cell_type": "code",
      "execution_count": null,
      "metadata": {
        "id": "avwMRRXcUDr1"
      },
      "outputs": [],
      "source": [
        "## Check validity of code above an turn out works!!\n",
        "## I used 2021-08-06  as sample and all the record of transactions are same with above code (check the count row for buy/sell)\n",
        "nyoba = agg_buy_sell[agg_buy_sell['date']=='2021-08-06']\n",
        "nyoba = nyoba.replace(0,np.nan, regex=True)\n",
        "nyoba.describe()"
      ]
    },
    {
      "cell_type": "code",
      "execution_count": null,
      "metadata": {
        "id": "evM7B62sXBuN"
      },
      "outputs": [],
      "source": [
        "#chart buyy\n",
        "\n",
        "chart1 = agg_buy_sell.reset_index()\n",
        "chart1 = chart1[['date','buy_saham_frequency','buy_pasar_frequency','buy_pendapatan_frequency','buy_campuran_frequency']]\n",
        "chart1 = chart1.melt('date', var_name='cols', value_name='vals')\n",
        "chart1"
      ]
    },
    {
      "cell_type": "code",
      "execution_count": null,
      "metadata": {
        "id": "e6NGBzgxKCNi"
      },
      "outputs": [],
      "source": [
        "chart1"
      ]
    },
    {
      "cell_type": "code",
      "execution_count": null,
      "metadata": {
        "id": "2iORBl2AWeBN"
      },
      "outputs": [],
      "source": [
        "#chart buyy\n",
        "\n",
        "fig = plt.figure(figsize=(20, 5))\n",
        "\n",
        "fig.suptitle('Daily Buy Count', fontsize=20)\n",
        "plt.xlabel('Date', fontsize=20)\n",
        "plt.ylabel('Transaction Count', fontsize=20)\n",
        "plt.grid(color='darkgray', linestyle=':', linewidth=0.5)\n",
        "\n",
        "sns.lineplot(data=chart1, x=\"date\", y=\"vals\", hue=\"cols\")\n",
        "plt.show()"
      ]
    },
    {
      "cell_type": "markdown",
      "metadata": {
        "id": "QQv1-pIrpMSu"
      },
      "source": [
        "Insight\n",
        "\n",
        "- Saham, Pasar Uang and Pendapatan Tetap are 3 most popular funds in the app. Meanwhile campuran fund has the lowest number of transaction than the other funds."
      ]
    },
    {
      "cell_type": "markdown",
      "metadata": {
        "id": "OqYZsKFWrFTW"
      },
      "source": [
        ".\n"
      ]
    },
    {
      "cell_type": "code",
      "execution_count": null,
      "metadata": {
        "id": "ds7XvW5XXtLG"
      },
      "outputs": [],
      "source": [
        "#chart sell\n",
        "\n",
        "chart2 = agg_buy_sell.reset_index()\n",
        "chart2 = chart2[['date','sell_saham_frequency','sell_pasar_frequency','sell_pendapatan_frequency','sell_campuran_frequency']]\n",
        "chart2 = chart2.melt('date', var_name='cols', value_name='vals')\n",
        "chart2"
      ]
    },
    {
      "cell_type": "code",
      "execution_count": null,
      "metadata": {
        "id": "yACM1MCtXtZs"
      },
      "outputs": [],
      "source": [
        "#chart sell\n",
        "\n",
        "fig = plt.figure(figsize=(20, 5))\n",
        "\n",
        "fig.suptitle('Daily sell Count', fontsize=20)\n",
        "plt.xlabel('Date', fontsize=20)\n",
        "plt.ylabel('Transaction Count', fontsize=20)\n",
        "plt.grid(color='darkgray', linestyle=':', linewidth=0.5)\n",
        "\n",
        "sns.lineplot(data=chart2, x=\"date\", y=\"vals\", hue=\"cols\")\n",
        "plt.show()"
      ]
    },
    {
      "cell_type": "markdown",
      "metadata": {
        "id": "j1lRQOlrqAee"
      },
      "source": [
        "Insight\n",
        "- Saham, Pasar Uang and Pendapatan Tetap are 3 most popular funds in the app. Meanwhile campuran fund has the lowest number of transaction than the other funds."
      ]
    },
    {
      "cell_type": "markdown",
      "metadata": {
        "id": "qq_g9YlWrCLF"
      },
      "source": [
        ".\n"
      ]
    },
    {
      "cell_type": "markdown",
      "metadata": {
        "id": "KXrKol4-rDCC"
      },
      "source": [
        ".\n"
      ]
    },
    {
      "cell_type": "markdown",
      "metadata": {
        "id": "EffwkMsc4Pxx"
      },
      "source": [
        "### Daily Transaction Trends Buy/Sell"
      ]
    },
    {
      "cell_type": "code",
      "execution_count": null,
      "metadata": {
        "id": "xR4gS3wfWeKo"
      },
      "outputs": [],
      "source": [
        "agg_buy_sell['transactions'] = agg_buy_sell['buy_saham_frequency']+agg_buy_sell['sell_saham_frequency']+agg_buy_sell['buy_pasar_frequency']+agg_buy_sell['sell_pasar_frequency']+agg_buy_sell['buy_pendapatan_frequency']+agg_buy_sell['sell_pendapatan_frequency']+agg_buy_sell['buy_campuran_frequency']+agg_buy_sell['sell_campuran_frequency']\n",
        "agg_buy_sell.head()"
      ]
    },
    {
      "cell_type": "code",
      "execution_count": null,
      "metadata": {
        "id": "Z1DjfKHkiB1R"
      },
      "outputs": [],
      "source": [
        "agg_buy_sell.info()"
      ]
    },
    {
      "cell_type": "code",
      "execution_count": null,
      "metadata": {
        "id": "PBYIeUWlWeOw"
      },
      "outputs": [],
      "source": [
        "# Number of buy and sell per day\n",
        "\n",
        "fig, axs = plt.subplots(nrows=1, ncols=1, figsize=(20, 5))\n",
        "\n",
        "# Create a new column for the total buy transaction amount\n",
        "agg_buy_sell['total_buy'] = agg_buy_sell.filter(like='buy').sum(axis=1)\n",
        "\n",
        "# Create a new column for the total sell transaction amount\n",
        "agg_buy_sell['total_sell'] = agg_buy_sell.filter(like='sell').sum(axis=1)\n",
        "\n",
        "# Create the line plot\n",
        "plt.plot(agg_buy_sell.index, agg_buy_sell['total_buy'], label='Buy')\n",
        "plt.plot(agg_buy_sell.index, agg_buy_sell['total_sell'].abs(), label='Sell')\n",
        "plt.xlabel('Date')\n",
        "plt.ylabel('Transaction Amount')\n",
        "plt.title('Daily Trend of Buy/Sell Transaction Amount')\n",
        "plt.legend()\n",
        "\n",
        "plt.show()"
      ]
    },
    {
      "cell_type": "markdown",
      "metadata": {
        "id": "AMcT7nVPsvKT"
      },
      "source": [
        "Insight\n",
        "- In general buying value has higher than the selling value in the term aug-sep 2021"
      ]
    },
    {
      "cell_type": "code",
      "execution_count": null,
      "metadata": {
        "id": "BRiTWTdLWeMt"
      },
      "outputs": [],
      "source": [
        "# Number of transactions (consist of buy and sell) ---- then we can identify the transactions trend\n",
        "\n",
        "\n",
        "chart3 = agg_buy_sell.reset_index()\n",
        "chart3 = chart3[['date','transactions']]\n",
        "chart3= chart3.melt('date', var_name='cols', value_name='vals')\n",
        "\n",
        "fig = plt.figure(figsize=(20, 5))\n",
        "\n",
        "fig.suptitle('Daily Transaction Count', fontsize=20)\n",
        "plt.xlabel('Date', fontsize=20)\n",
        "plt.ylabel('Transaction Count', fontsize=20)\n",
        "plt.grid(color='darkgray', linestyle=':', linewidth=0.5)\n",
        "\n",
        "sns.lineplot(data=chart3, x=\"date\", y=\"vals\", color=\"red\")\n",
        "plt.show()"
      ]
    },
    {
      "cell_type": "markdown",
      "metadata": {
        "id": "NdEml__RiI3k"
      },
      "source": [
        "Insight\n",
        "\n",
        "- as the graphic above we can see the transaction has increase overtime from August to September"
      ]
    },
    {
      "cell_type": "markdown",
      "metadata": {
        "id": "l2ypXBrhq359"
      },
      "source": [
        "."
      ]
    },
    {
      "cell_type": "markdown",
      "metadata": {
        "id": "wTUZ1eBUq4DB"
      },
      "source": [
        ".\n"
      ]
    },
    {
      "cell_type": "markdown",
      "metadata": {
        "id": "gHHtf_Clq0wZ"
      },
      "source": [
        ".\n"
      ]
    },
    {
      "cell_type": "markdown",
      "metadata": {
        "id": "3zhXaV2NSW5-"
      },
      "source": [
        ".\n",
        "\n",
        "\n"
      ]
    },
    {
      "cell_type": "markdown",
      "metadata": {
        "id": "ZjMtQXzA8rka"
      },
      "source": [
        "#D) Customer Segmentation"
      ]
    },
    {
      "cell_type": "markdown",
      "metadata": {
        "id": "tbpUKqQvDfib"
      },
      "source": [
        "**In this case we focus on transactions in September 2021**\n",
        "\n",
        "\\\n",
        "\\\n",
        "so we can filter the data that happen in September 2021"
      ]
    },
    {
      "cell_type": "markdown",
      "metadata": {
        "id": "KQxfWHxA6mxZ"
      },
      "source": [
        "##Data Preperation"
      ]
    },
    {
      "cell_type": "markdown",
      "metadata": {
        "id": "bOeMf7iM85fl"
      },
      "source": [
        "### Frequency data"
      ]
    },
    {
      "cell_type": "code",
      "execution_count": null,
      "metadata": {
        "id": "WdPXgFgR_VqF"
      },
      "outputs": [],
      "source": [
        "df_frequency = agg_buy_sell_withID.copy()"
      ]
    },
    {
      "cell_type": "code",
      "execution_count": null,
      "metadata": {
        "id": "3cxsGIQ-OjMt"
      },
      "outputs": [],
      "source": [
        "df_frequency = df_frequency.groupby('user_id')[frequency_value].sum()\n",
        "df_frequency = df_frequency.reset_index()"
      ]
    },
    {
      "cell_type": "code",
      "execution_count": null,
      "metadata": {
        "id": "Bio0tZ1LZHGV"
      },
      "outputs": [],
      "source": [
        "df_frequency.info()"
      ]
    },
    {
      "cell_type": "markdown",
      "metadata": {
        "id": "SKvKDedX-Sni"
      },
      "source": [
        "## User Segmentation"
      ]
    },
    {
      "cell_type": "markdown",
      "metadata": {
        "id": "1KFicWkY-ZcS"
      },
      "source": [
        "### Gender and Referral code Labelling"
      ]
    },
    {
      "cell_type": "markdown",
      "metadata": {
        "id": "YLK0BgCb_g3z"
      },
      "source": [
        "convert the string data to interger  (1 and 0)"
      ]
    },
    {
      "cell_type": "code",
      "execution_count": null,
      "metadata": {
        "id": "qj6V4Ld2QzGR"
      },
      "outputs": [],
      "source": [
        "eda2 = eda.copy()\n",
        "throw = ['registration_import_datetime','date','registration','cohort_week','regist','month']"
      ]
    },
    {
      "cell_type": "code",
      "source": [
        "eda2.drop(columns = throw,inplace=True)"
      ],
      "metadata": {
        "id": "Z7LKyig7kZol"
      },
      "execution_count": null,
      "outputs": []
    },
    {
      "cell_type": "code",
      "execution_count": null,
      "metadata": {
        "id": "UzNtcXBocMJj"
      },
      "outputs": [],
      "source": [
        "eda2 = eda2.drop_duplicates(subset=['user_id'])"
      ]
    },
    {
      "cell_type": "code",
      "source": [
        "eda2"
      ],
      "metadata": {
        "id": "lWrpFiHnjKJS"
      },
      "execution_count": null,
      "outputs": []
    },
    {
      "cell_type": "code",
      "execution_count": null,
      "metadata": {
        "id": "zE_--i5M9hap"
      },
      "outputs": [],
      "source": [
        "eda2.loc[eda2['referral_code_used'] == 'used referral', 'referral'] = '1'\n",
        "eda2.loc[eda2['referral_code_used'] == 'not used', 'referral'] = '0'\n",
        "\n",
        "eda2.loc[eda2['user_gender'] == 'Male', 'gender'] = '0'\n",
        "eda2.loc[eda2['user_gender'] == 'Female', 'gender'] = '1'\n",
        "\n",
        "\n",
        "eda3 = eda2.copy()\n",
        "eda3.drop(['user_age'],axis=1,inplace=True)\n",
        "eda3.drop(['referral_code_used'],axis=1,inplace=True)\n",
        "eda3.drop(['user_gender'],axis=1,inplace=True)\n",
        "\n",
        "\n",
        "eda3['gender']= pd.to_numeric(eda3['gender'])\n",
        "eda3['referral'] = pd.to_numeric(eda3['referral'])\n",
        "eda3.head()"
      ]
    },
    {
      "cell_type": "markdown",
      "metadata": {
        "id": "Gc34yF80DolD"
      },
      "source": [
        "### User Generation, Occupation and Income Encoding"
      ]
    },
    {
      "cell_type": "markdown",
      "metadata": {
        "id": "VGAEhHI5Ds1s"
      },
      "source": [
        "For variables that have many categories, we can do One Hot Encoding."
      ]
    },
    {
      "cell_type": "code",
      "execution_count": null,
      "metadata": {
        "id": "ul3TIgy6J8gB"
      },
      "outputs": [],
      "source": [
        "eda3['user_income_range'].unique()"
      ]
    },
    {
      "cell_type": "code",
      "execution_count": null,
      "metadata": {
        "id": "G4ky-Rv06NZP"
      },
      "outputs": [],
      "source": [
        "eda3['user_income_range'].value_counts()"
      ]
    },
    {
      "cell_type": "code",
      "execution_count": null,
      "metadata": {
        "id": "nUMmID9HB5Mh"
      },
      "outputs": [],
      "source": [
        "eda3['user_occupation'].value_counts()"
      ]
    },
    {
      "cell_type": "code",
      "execution_count": null,
      "metadata": {
        "id": "KSkv4sLPDp4P"
      },
      "outputs": [],
      "source": [
        "eda3['user_income_source'].value_counts()"
      ]
    },
    {
      "cell_type": "code",
      "execution_count": null,
      "metadata": {
        "id": "IOWQSXLNCRpS"
      },
      "outputs": [],
      "source": [
        "#simplify categorical value\n",
        "\n",
        "eda3.loc[eda3['user_occupation'] == 'PNS', 'user_occupation'] = 'Others'\n",
        "eda3.loc[eda3['user_occupation'] == 'Guru', 'user_occupation'] = 'Others'\n",
        "eda3.loc[eda3['user_occupation'] == 'TNI/Polisi', 'user_occupation'] = 'Others'\n",
        "eda3.loc[eda3['user_occupation'] == 'Pensiunan', 'user_occupation'] = 'Others'\n",
        "eda3.loc[eda3['user_occupation'] == 'Pengusaha', 'user_occupation'] = 'Others'\n",
        "eda3.loc[eda3['user_occupation'] == 'IRT', 'user_occupation'] = 'Others'\n",
        "\n",
        "\n",
        "eda3.loc[eda3['user_income_range'] == '> Rp 50 Juta - 100 Juta', 'user_income_range'] = '> Rp 50 Juta'\n",
        "eda3.loc[eda3['user_income_range'] == '> Rp 100 Juta - 500 Juta', 'user_income_range'] = '> Rp 50 Juta'\n",
        "eda3.loc[eda3['user_income_range'] == '> Rp 500 Juta - 1 Miliar', 'user_income_range'] = '> Rp 50 Juta'\n",
        "eda3.loc[eda3['user_income_range'] == '> Rp 1 Miliar', 'user_income_range'] = '> Rp 50 Juta'\n",
        "\n",
        "eda3.loc[eda3['user_income_source'] == 'Bunga Simpanan', 'user_income_source'] = 'Others'\n",
        "eda3.loc[eda3['user_income_source'] == 'Warisan', 'user_income_source'] = 'Others'\n",
        "eda3.loc[eda3['user_income_source'] == 'Dari Suami / istri', 'user_income_source'] = 'Others'\n",
        "eda3.loc[eda3['user_income_source'] == 'Hasil Investasi', 'user_income_source'] = 'Others'\n",
        "eda3.loc[eda3['user_income_source'] == 'Tabungan', 'user_income_source'] = 'Others'\n",
        "eda3.loc[eda3['user_income_source'] == 'Lainnya', 'user_income_source'] = 'Others'\n",
        "eda3.loc[eda3['user_income_source'] == 'Dari Orang Tua / Anak', 'user_income_source'] = 'Others'"
      ]
    },
    {
      "cell_type": "code",
      "source": [
        "eda3.info()"
      ],
      "metadata": {
        "id": "nCxnq9JmIB6R"
      },
      "execution_count": null,
      "outputs": []
    },
    {
      "cell_type": "code",
      "execution_count": null,
      "metadata": {
        "id": "K_fcRVY0MU_u"
      },
      "outputs": [],
      "source": [
        "eda3.drop(['buy_saham_transaction_amount','sell_saham_transaction_amount','buy_pasar_uang_transaction_amount','sell_pasar_uang_transaction_amount','buy_pendapatan_tetap_transaction_amount',\n",
        "                  'sell_pendapatan_tetap_transaction_amount','buy_campuran_transaction_amount','sell_campuran_transaction_amount','end_of_month_invested_amount','total_buy_amount',\n",
        "           'total_sell_amount','total_buy_transaction_amount','total_sell_transaction_amount'],axis=1,inplace= True)\n",
        "eda3.info()"
      ]
    },
    {
      "cell_type": "code",
      "source": [
        "trash = eda3.filter(like = 'amount')"
      ],
      "metadata": {
        "id": "sBe7pGpFn4-v"
      },
      "execution_count": null,
      "outputs": []
    },
    {
      "cell_type": "code",
      "source": [
        "eda3.drop(columns=trash,inplace=True)"
      ],
      "metadata": {
        "id": "1q-xs30ZoEH-"
      },
      "execution_count": null,
      "outputs": []
    },
    {
      "cell_type": "code",
      "execution_count": null,
      "metadata": {
        "id": "lEh-7OQ69hfC"
      },
      "outputs": [],
      "source": [
        "eda4 = eda3.copy()\n",
        "eda4 = pd.get_dummies(eda4, columns=['user_generation','user_occupation','user_income_source','user_income_range'])\n",
        "eda4.info()"
      ]
    },
    {
      "cell_type": "code",
      "execution_count": null,
      "metadata": {
        "id": "xngluMsP-pOU"
      },
      "outputs": [],
      "source": [
        "merge = eda4.merge(df_frequency, how='inner', left_on =['user_id'], right_on = ['user_id'])\n",
        "merge\n"
      ]
    },
    {
      "cell_type": "code",
      "source": [
        "merge.info()"
      ],
      "metadata": {
        "id": "AHJ2MoSxnp82"
      },
      "execution_count": null,
      "outputs": []
    },
    {
      "cell_type": "code",
      "source": [
        "merge2 = merge.copy()"
      ],
      "metadata": {
        "id": "RcDltFQ9dqoC"
      },
      "execution_count": null,
      "outputs": []
    },
    {
      "cell_type": "code",
      "source": [
        "merge2['saham_frequency']  = merge2['buy_saham_frequency']\n",
        "merge2['pasar_frequency']  = merge2['buy_pasar_frequency']\n",
        "merge2['pendapatan_frequency']  = merge2['buy_pendapatan_frequency']\n",
        "merge2['campuran_frequency']  = merge2['buy_campuran_frequency']"
      ],
      "metadata": {
        "id": "na8DO2SSd6-8"
      },
      "execution_count": null,
      "outputs": []
    },
    {
      "cell_type": "code",
      "source": [
        "throw_again = ['buy_saham_frequency','sell_saham_frequency','buy_pasar_frequency','sell_pasar_frequency','buy_pendapatan_frequency','sell_pendapatan_frequency','buy_campuran_frequency','sell_campuran_frequency']"
      ],
      "metadata": {
        "id": "fs4huki4ejyv"
      },
      "execution_count": null,
      "outputs": []
    },
    {
      "cell_type": "code",
      "source": [
        "merge2.drop(columns=throw_again,inplace=True)"
      ],
      "metadata": {
        "id": "x9Akzxmle1fG"
      },
      "execution_count": null,
      "outputs": []
    },
    {
      "cell_type": "code",
      "source": [
        "merge2.info()"
      ],
      "metadata": {
        "id": "fRUsLTdwfM0R"
      },
      "execution_count": null,
      "outputs": []
    },
    {
      "cell_type": "markdown",
      "metadata": {
        "id": "ztQ-8JuTD6kW"
      },
      "source": [
        "### **Standardize**"
      ]
    },
    {
      "cell_type": "markdown",
      "metadata": {
        "id": "1ib1OqWWD-id"
      },
      "source": [
        "Standardize our data using min max scaler so that all values have the same range so that it can increase the performance of our clustering model."
      ]
    },
    {
      "cell_type": "code",
      "execution_count": null,
      "metadata": {
        "id": "qWz5WlBK9hiD"
      },
      "outputs": [],
      "source": [
        "scaler = MinMaxScaler()\n",
        "std_data = merge2.set_index('user_id')\n",
        "std_data[:] = scaler.fit_transform(std_data[:])\n",
        "std_data"
      ]
    },
    {
      "cell_type": "code",
      "execution_count": null,
      "metadata": {
        "id": "szO1ChrdXjXl"
      },
      "outputs": [],
      "source": [
        "std_data.info()"
      ]
    },
    {
      "cell_type": "markdown",
      "metadata": {
        "id": "RYdCVoqiEMV1"
      },
      "source": [
        "## **Determine Cluster Number**"
      ]
    },
    {
      "cell_type": "markdown",
      "metadata": {
        "id": "1vvoLkVnXSo7"
      },
      "source": [
        "There are 2 kinds of clustering techniques, RFM and K-Means Clustering. RFM can be used to segment based on recency, frequency, and monetary. So since we want to segment based on socio-economic background, it would be more appropriate to use **K-Means**. By using K-Means we can use as many variables as we need."
      ]
    },
    {
      "cell_type": "code",
      "execution_count": null,
      "metadata": {
        "id": "4rck9cn2dFyV"
      },
      "outputs": [],
      "source": [
        "from sklearn.cluster import KMeans\n",
        "from yellowbrick.cluster import SilhouetteVisualizer"
      ]
    },
    {
      "cell_type": "code",
      "execution_count": null,
      "metadata": {
        "id": "MunsKwNi9h5b"
      },
      "outputs": [],
      "source": [
        "# Silhouette score plot\n",
        "K = range(2,11)\n",
        "max_K = max(K)\n",
        "fig, ax = plt.subplots(int(np.ceil(max_K/2)), 2, figsize = (15,30))\n",
        "\n",
        "for n_clusters in K:\n",
        "  kmeanModel = KMeans(n_clusters)\n",
        "\n",
        "  q, mod = divmod(n_clusters,2)\n",
        "  sil = SilhouetteVisualizer(kmeanModel, is_fitted = False, ax = ax[q-1][mod])\n",
        "  sil.fit(std_data)\n",
        "  sil.finalize()\n",
        "  print(f\"For k={n_clusters}, the average silhouette score is {sil.silhouette_score_}\")\n"
      ]
    },
    {
      "cell_type": "code",
      "source": [
        "# For each n_clusters between 1 and 11, we calculate the distortion value\n",
        "distortions = []\n",
        "K = range(1,11)\n",
        "for n_clusters in K:\n",
        "  kmeanModel = KMeans(n_clusters, random_state = 42)\n",
        "  kmeanModel.fit(std_data)\n",
        "  distortions.append(kmeanModel.inertia_)\n",
        "\n",
        "print(distortions)\n",
        "\n",
        "plt.figure(figsize=(16,8))\n",
        "plt.figure()\n",
        "plt.plot(K, distortions, 'b*-')\n",
        "plt.xlabel('k')\n",
        "plt.ylabel('Inertia')\n",
        "plt.title('The Elbow Method showing the optimal k')\n",
        "plt.show()"
      ],
      "metadata": {
        "id": "b_BFhbHfm4KZ"
      },
      "execution_count": null,
      "outputs": []
    },
    {
      "cell_type": "markdown",
      "source": [
        "-\n",
        "\n",
        "based on silhouette method I prefer to choose n-cluster = 4. because with 4 clusters the spread of data looks balanced.\n",
        "\n",
        "-"
      ],
      "metadata": {
        "id": "0-YA0JNolYBm"
      }
    },
    {
      "cell_type": "code",
      "execution_count": null,
      "metadata": {
        "id": "q9W9TSUg9h8Q"
      },
      "outputs": [],
      "source": [
        "cluster_model = cluster.KMeans(n_clusters=4)\n",
        "cluster_model.fit(std_data)\n",
        "cluster_label = cluster_model.labels_\n",
        "std_data['cluster'] = cluster_label\n",
        "df_result = std_data.reset_index()[['user_id','cluster']]\n",
        "df_result"
      ]
    },
    {
      "cell_type": "markdown",
      "source": [
        "-\n",
        "\n",
        "Preapare eda3 to merge with cluster result. eda3 still have original columns and one step before we do one hot encoding\n",
        "\n",
        "-"
      ],
      "metadata": {
        "id": "wDr7sRCMqK0P"
      }
    },
    {
      "cell_type": "code",
      "source": [
        "eda3"
      ],
      "metadata": {
        "id": "jO2iuJhorODf"
      },
      "execution_count": null,
      "outputs": []
    },
    {
      "cell_type": "code",
      "execution_count": null,
      "metadata": {
        "id": "AIOy2-dw9h_R"
      },
      "outputs": [],
      "source": [
        "result_0 = pd.merge(eda3, merge2, on=['user_id'])\n",
        "result = pd.merge(result_0, df_result, on=['user_id'])\n",
        "result"
      ]
    },
    {
      "cell_type": "markdown",
      "metadata": {
        "id": "7_qIuZQ_LdDG"
      },
      "source": [
        "## **Cluster Interpretation**"
      ]
    },
    {
      "cell_type": "code",
      "execution_count": null,
      "metadata": {
        "id": "WTgEOinnPR36"
      },
      "outputs": [],
      "source": [
        "result.groupby('cluster').agg('count')['user_id']"
      ]
    },
    {
      "cell_type": "code",
      "execution_count": null,
      "metadata": {
        "id": "4gQ191I3I3hE"
      },
      "outputs": [],
      "source": [
        "result"
      ]
    },
    {
      "cell_type": "code",
      "source": [
        "result.info()"
      ],
      "metadata": {
        "id": "S9PDYXhNo2Oa"
      },
      "execution_count": null,
      "outputs": []
    },
    {
      "cell_type": "code",
      "execution_count": null,
      "metadata": {
        "id": "EvfFsGM58xUC"
      },
      "outputs": [],
      "source": [
        "categorical_col = ['gender_x','user_generation','user_occupation','user_income_range','referral_x','user_income_source']\n",
        "invested_col = ['saham_frequency','pasar_frequency','pendapatan_frequency','campuran_frequency']"
      ]
    },
    {
      "cell_type": "code",
      "execution_count": null,
      "metadata": {
        "id": "5-wRUnukNHKr"
      },
      "outputs": [],
      "source": [
        "cluster_0 = result[result['cluster'] == 0]\n",
        "\n",
        "for col in categorical_col:\n",
        "  print('Value counts on',col,'collumn:')\n",
        "  print(cluster_0[col].value_counts(normalize=True))\n",
        "  print('\\n')\n",
        "\n",
        "df_invested = cluster_0[invested_col].agg(['sum'])\n",
        "\n",
        "\n",
        "df_invested"
      ]
    },
    {
      "cell_type": "markdown",
      "metadata": {
        "id": "Emu9Zn1uNw4F"
      },
      "source": [
        "\n",
        "Cluster 0 Characteristics:\n",
        "*   62% male user\n",
        "*   94% Gen-Z\n",
        "*   91% student\n",
        "*   most of them have income from undian and others (parents, tabungan, etc)\n",
        "*   89% have income range < 10 mil\n",
        "*   35% using referral\n",
        "*   Frequent transactions in pasar uang  mutual fund\n"
      ]
    },
    {
      "cell_type": "code",
      "execution_count": null,
      "metadata": {
        "id": "Jl1jg8Q8NHOM"
      },
      "outputs": [],
      "source": [
        "cluster_01 = result[result['cluster'] == 1]\n",
        "\n",
        "for col in categorical_col:\n",
        "  print('Value counts on',col,'collumn:')\n",
        "  print(cluster_01[col].value_counts(normalize=True))\n",
        "  print('\\n')\n",
        "\n",
        "df_invested = cluster_01[invested_col].agg(['sum'])\n",
        "\n",
        "df_invested"
      ]
    },
    {
      "cell_type": "markdown",
      "metadata": {
        "id": "tKShrChzUg3E"
      },
      "source": [
        "\n",
        "Cluster 1 Characteristics:\n",
        "*   66% male user\n",
        "*   92% Gen-Y\n",
        "*   63% Swasta\n",
        "*   84% income from gaji\n",
        "*   41% have income range 10 - 50 mil\n",
        "*   29% using referral\n",
        "*   Frequent transactions in pendapatan tetap mutual fund\n"
      ]
    },
    {
      "cell_type": "code",
      "execution_count": null,
      "metadata": {
        "id": "AUe40q_ENHSQ"
      },
      "outputs": [],
      "source": [
        "cluster_02 = result[result['cluster'] == 2]\n",
        "\n",
        "for col in categorical_col:\n",
        "  print('Value counts on',col,'collumn:')\n",
        "  print(cluster_02[col].value_counts(normalize=True))\n",
        "  print('\\n')\n",
        "\n",
        "df_invested = cluster_02[invested_col].agg(['sum'])\n",
        "\n",
        "df_invested"
      ]
    },
    {
      "cell_type": "markdown",
      "metadata": {
        "id": "EMMCKVsaVSkf"
      },
      "source": [
        "\n",
        "Cluster 2 Characteristics:\n",
        "*   60% male user\n",
        "*   74% Gen-Y\n",
        "*   100% Others\n",
        "*   this cluster is the segment where people who not receive income from gaji/salary  gather\n",
        "*   47% have income range 10 - 50 mil\n",
        "*   45% using referral\n",
        "*   This cluster has almost equal transaction between saham, pasar uang and pendapatan tetap.\n"
      ]
    },
    {
      "cell_type": "code",
      "execution_count": null,
      "metadata": {
        "id": "E0_j3CmwNHVu"
      },
      "outputs": [],
      "source": [
        "cluster_03 = result[result['cluster'] == 3]\n",
        "\n",
        "for col in categorical_col:\n",
        "  print('Value counts on',col,'collumn:')\n",
        "  print(cluster_03[col].value_counts(normalize=True))\n",
        "  print('\\n')\n",
        "\n",
        "df_invested = cluster_03[invested_col].agg(['sum'])\n",
        "\n",
        "df_invested"
      ]
    },
    {
      "cell_type": "markdown",
      "metadata": {
        "id": "yHw-e7oJXRht"
      },
      "source": [
        "\n",
        "Cluster 3 Characteristics:\n",
        "*   68% male user\n",
        "*   100% Gen-z\n",
        "*   87% pelajar\n",
        "*   this cluster consist of gen z who are working.\n",
        "*   52% have income < 10 mil\n",
        "*   40% using referral\n",
        "*   Frequent transactions in pasar uang mutual funds.\n"
      ]
    },
    {
      "cell_type": "markdown",
      "metadata": {
        "id": "wPcJRzvAabKO"
      },
      "source": [
        "\n",
        "."
      ]
    },
    {
      "cell_type": "markdown",
      "metadata": {
        "id": "i2vPO2MaacMZ"
      },
      "source": [
        "## **Segment Characteristics**"
      ]
    },
    {
      "cell_type": "markdown",
      "metadata": {
        "id": "GTERhwcZaiAp"
      },
      "source": [
        "**Cluster 0** is 94% Gen-Z users,91% student, dont have stable income yet and frequent buyers of pasar uang mutual funds.\n",
        "<br>We can name this cluster as \"**Gen-Z Spammer**.\n",
        "<br>Recommendation:\n",
        "1. I assume this cluster consist of beginners and still learn about investation so I recommend to push promos like referral codes so that they can invite their friends to join us.\n",
        "2. Offer promos on money market mutual funds so that they increase the number of transactions.\n",
        "\n",
        "**Cluster 1** contains 92% users from Gen-Y, 63% swasta, 41% of them has income 10 - 50 mil and often invest in Pendapatan tetap (Bond) and pasar  uang  mutual funds.\n",
        "<br>We can name this cluster as \"**The Employees**\".\n",
        "<br>Recommendation:\n",
        "1. \"Big Cash Big Back\": Give cashback promos on large transactions.\n",
        "2. Provide promos on saham mutual fund products to widen the portfolio.\n",
        "\n",
        "**Cluster 2** is 100% Others,74% Gen-Y, have almost the same invested amount in each type of mutual fund and smaller transaction amounts compared to other groups and They are a group that is more cautious when purchasing products.\n",
        "<br>We can name this cluster as \"**Play it Safe**\".\n",
        "<br>Recommendation:\n",
        "1. \"Long Invest for Long Life\" : Provide benefits for long-term investment.\n",
        "\n",
        "\n",
        "**Cluster 3** contains 100% Gen-Z. 80% have income range Rp 10 - 50 mil and have stable income compare to **Gen-Z Spammer**.\n",
        "<br>We can name this cluster as \"**Newbie Investor**\".\n",
        "<br>Recommendation:\n",
        "1. \"Mutual Points\": Provide cashback promos in non-cash form, which can be in the form of points that can only be used for transactions on our platform. So that it can encourage them to continue making transactions on our platform.\n",
        "2. \"Robo-mendation\": Provides recommendations for comparative investment amounts in each type of mutual fund. To encourage them to try other types of mutual funds.\n"
      ]
    },
    {
      "cell_type": "code",
      "execution_count": null,
      "metadata": {
        "id": "1Nz1oy_jGXQZ"
      },
      "outputs": [],
      "source": [
        "df_result.loc[df_result['cluster']==0,'cluster_name']= 'Gen-Z Spammer'\n",
        "df_result.loc[df_result['cluster']==1,'cluster_name']= 'The Employees'\n",
        "df_result.loc[df_result['cluster']==2,'cluster_name']= 'Play it Safe'\n",
        "df_result.loc[df_result['cluster']==3,'cluster_name']= 'Newbie Investor'\n",
        "\n",
        "\n",
        "pie_cluster1 =df_result.groupby('cluster_name').agg({'user_id':pd.Series.nunique})\n",
        "pie_cluster= pie_cluster1.reset_index()   #Reset the index to make it into a pandas dataframe\n",
        "\n",
        "plt.pie(pie_cluster['user_id'],\n",
        "        labels = pie_cluster['cluster_name'],\n",
        "        autopct='%.2f%%') #Create a pie chart, autopct='%.2f%%' to show percent and 2 decimal\n",
        "plt.show()\n"
      ]
    },
    {
      "cell_type": "markdown",
      "metadata": {
        "id": "4y9hea0ssTgy"
      },
      "source": [
        "## **Recommendations**"
      ]
    },
    {
      "cell_type": "markdown",
      "metadata": {
        "id": "hHvVLM-Qsf_5"
      },
      "source": [
        "Government bond investment have the same product character as the pendapatan tetap (Bond)  mutual fund. Therefore, to expand into government bond investment products, we can create a campaign by offering promos to the segment that likes pendapatan tetap  mutual fund products.\n",
        "<br>\n",
        "I would say all segment beside **Play it Safe** are the most likely to buy new product (government bond). Therefore, focusing the campaign on the three segments, which make up about 63%, would be more effective"
      ]
    },
    {
      "cell_type": "markdown",
      "metadata": {
        "id": "BEvFGZRPfg6e"
      },
      "source": [
        ".\n"
      ]
    }
  ],
  "metadata": {
    "colab": {
      "provenance": [],
      "toc_visible": true
    },
    "kernelspec": {
      "display_name": "Python 3",
      "name": "python3"
    },
    "language_info": {
      "name": "python"
    }
  },
  "nbformat": 4,
  "nbformat_minor": 0
}